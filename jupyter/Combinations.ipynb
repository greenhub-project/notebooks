{
 "cells": [
  {
   "cell_type": "code",
   "execution_count": 1,
   "metadata": {},
   "outputs": [
    {
     "name": "stdout",
     "output_type": "stream",
     "text": [
      "<class 'pandas.core.frame.DataFrame'>\n",
      "RangeIndex: 4587326 entries, 0 to 4587325\n",
      "Data columns (total 11 columns):\n",
      "device_id              uint16\n",
      "timestamp              datetime64[ns]\n",
      "battery_level          uint8\n",
      "network_status         category\n",
      "screen_on              uint8\n",
      "bluetooth_enabled      uint8\n",
      "location_enabled       uint8\n",
      "power_saver_enabled    uint8\n",
      "nfc_enabled            uint8\n",
      "unknown_sources        uint8\n",
      "developer_mode         uint8\n",
      "dtypes: category(1), datetime64[ns](1), uint16(1), uint8(8)\n",
      "memory usage: 83.1 MB\n"
     ]
    }
   ],
   "source": [
    "import pandas as pd\n",
    "import numpy as np\n",
    "import pyarrow.parquet as pq\n",
    "import matplotlib.pyplot as plt\n",
    "import seaborn as sns\n",
    "%matplotlib inline\n",
    "\n",
    "sns.set_style('whitegrid')\n",
    "figsize=(8,6)\n",
    "\n",
    "\n",
    "def load_df(path, columns=None, nthreads=4, strings_to_categorical=True):\n",
    "    try:\n",
    "        table = pq.read_table(path, columns=columns, nthreads=nthreads)\n",
    "        return table.to_pandas(strings_to_categorical=strings_to_categorical)\n",
    "    except Exception as e:\n",
    "        print(e)\n",
    "\n",
    "        \n",
    "def prepare(path):\n",
    "    cols = ['device_id', 'timestamp', 'battery_level', 'network_status', 'screen_on', \n",
    "            'bluetooth_enabled', 'location_enabled', 'power_saver_enabled', 'nfc_enabled',\n",
    "            'unknown_sources', 'developer_mode']\n",
    "    \n",
    "    # sorted by [device_id, timestamp]\n",
    "    df = load_df(path, cols)\n",
    "\n",
    "    df = df.reset_index(drop=True)\n",
    "\n",
    "    # downcast int types\n",
    "    df_int = df.select_dtypes(include=['int'])\n",
    "    converted_int = df_int.apply(pd.to_numeric, downcast='unsigned')\n",
    "\n",
    "    df[converted_int.columns] = converted_int\n",
    "    \n",
    "    return df\n",
    "    \n",
    "df = prepare('../src/samples.parquet')\n",
    "df.info()"
   ]
  },
  {
   "cell_type": "code",
   "execution_count": 2,
   "metadata": {
    "scrolled": false
   },
   "outputs": [
    {
     "data": {
      "text/plain": [
       "wifi             2458197\n",
       "disconnected     1360836\n",
       "lte               433236\n",
       "hspap             133264\n",
       "utms               79950\n",
       "0                  41508\n",
       "hspa               36341\n",
       "edge               22118\n",
       "disconnecting      12470\n",
       "hsupa               4228\n",
       "hsdpa               3377\n",
       "gprs                1421\n",
       "connecting            99\n",
       "19                    78\n",
       "20                    71\n",
       "evdo_a                47\n",
       "30                    37\n",
       "1xrtt                 30\n",
       "16                    17\n",
       "18                     1\n",
       "Name: network_status, dtype: int64"
      ]
     },
     "execution_count": 2,
     "metadata": {},
     "output_type": "execute_result"
    }
   ],
   "source": [
    "df.network_status.value_counts()"
   ]
  },
  {
   "cell_type": "code",
   "execution_count": 3,
   "metadata": {},
   "outputs": [
    {
     "data": {
      "text/html": [
       "<div>\n",
       "<style scoped>\n",
       "    .dataframe tbody tr th:only-of-type {\n",
       "        vertical-align: middle;\n",
       "    }\n",
       "\n",
       "    .dataframe tbody tr th {\n",
       "        vertical-align: top;\n",
       "    }\n",
       "\n",
       "    .dataframe thead th {\n",
       "        text-align: right;\n",
       "    }\n",
       "</style>\n",
       "<table border=\"1\" class=\"dataframe\">\n",
       "  <thead>\n",
       "    <tr style=\"text-align: right;\">\n",
       "      <th></th>\n",
       "      <th>device_id</th>\n",
       "      <th>timestamp</th>\n",
       "      <th>battery_level</th>\n",
       "      <th>network_status</th>\n",
       "      <th>screen_on</th>\n",
       "      <th>bluetooth_enabled</th>\n",
       "      <th>location_enabled</th>\n",
       "      <th>power_saver_enabled</th>\n",
       "      <th>nfc_enabled</th>\n",
       "      <th>unknown_sources</th>\n",
       "      <th>developer_mode</th>\n",
       "      <th>wifi_enabled</th>\n",
       "      <th>time_diff</th>\n",
       "      <th>discharging</th>\n",
       "    </tr>\n",
       "  </thead>\n",
       "  <tbody>\n",
       "    <tr>\n",
       "      <th>0</th>\n",
       "      <td>1</td>\n",
       "      <td>2017-10-15 18:36:46</td>\n",
       "      <td>99</td>\n",
       "      <td>lte</td>\n",
       "      <td>1</td>\n",
       "      <td>0</td>\n",
       "      <td>1</td>\n",
       "      <td>0</td>\n",
       "      <td>0</td>\n",
       "      <td>0</td>\n",
       "      <td>0</td>\n",
       "      <td>0</td>\n",
       "      <td>NaN</td>\n",
       "      <td>NaN</td>\n",
       "    </tr>\n",
       "    <tr>\n",
       "      <th>1</th>\n",
       "      <td>1</td>\n",
       "      <td>2017-10-15 18:41:54</td>\n",
       "      <td>98</td>\n",
       "      <td>lte</td>\n",
       "      <td>1</td>\n",
       "      <td>0</td>\n",
       "      <td>1</td>\n",
       "      <td>0</td>\n",
       "      <td>0</td>\n",
       "      <td>0</td>\n",
       "      <td>0</td>\n",
       "      <td>0</td>\n",
       "      <td>308.0</td>\n",
       "      <td>1.0</td>\n",
       "    </tr>\n",
       "    <tr>\n",
       "      <th>2</th>\n",
       "      <td>1</td>\n",
       "      <td>2017-10-15 18:46:54</td>\n",
       "      <td>97</td>\n",
       "      <td>lte</td>\n",
       "      <td>1</td>\n",
       "      <td>0</td>\n",
       "      <td>1</td>\n",
       "      <td>0</td>\n",
       "      <td>0</td>\n",
       "      <td>0</td>\n",
       "      <td>0</td>\n",
       "      <td>0</td>\n",
       "      <td>300.0</td>\n",
       "      <td>1.0</td>\n",
       "    </tr>\n",
       "    <tr>\n",
       "      <th>3</th>\n",
       "      <td>1</td>\n",
       "      <td>2017-10-15 18:50:35</td>\n",
       "      <td>96</td>\n",
       "      <td>lte</td>\n",
       "      <td>1</td>\n",
       "      <td>0</td>\n",
       "      <td>1</td>\n",
       "      <td>0</td>\n",
       "      <td>0</td>\n",
       "      <td>0</td>\n",
       "      <td>0</td>\n",
       "      <td>0</td>\n",
       "      <td>221.0</td>\n",
       "      <td>1.0</td>\n",
       "    </tr>\n",
       "    <tr>\n",
       "      <th>4</th>\n",
       "      <td>1</td>\n",
       "      <td>2017-10-15 18:54:14</td>\n",
       "      <td>95</td>\n",
       "      <td>lte</td>\n",
       "      <td>1</td>\n",
       "      <td>0</td>\n",
       "      <td>1</td>\n",
       "      <td>0</td>\n",
       "      <td>0</td>\n",
       "      <td>0</td>\n",
       "      <td>0</td>\n",
       "      <td>0</td>\n",
       "      <td>219.0</td>\n",
       "      <td>1.0</td>\n",
       "    </tr>\n",
       "  </tbody>\n",
       "</table>\n",
       "</div>"
      ],
      "text/plain": [
       "   device_id           timestamp  battery_level network_status  screen_on  \\\n",
       "0          1 2017-10-15 18:36:46             99            lte          1   \n",
       "1          1 2017-10-15 18:41:54             98            lte          1   \n",
       "2          1 2017-10-15 18:46:54             97            lte          1   \n",
       "3          1 2017-10-15 18:50:35             96            lte          1   \n",
       "4          1 2017-10-15 18:54:14             95            lte          1   \n",
       "\n",
       "   bluetooth_enabled  location_enabled  power_saver_enabled  nfc_enabled  \\\n",
       "0                  0                 1                    0            0   \n",
       "1                  0                 1                    0            0   \n",
       "2                  0                 1                    0            0   \n",
       "3                  0                 1                    0            0   \n",
       "4                  0                 1                    0            0   \n",
       "\n",
       "   unknown_sources  developer_mode  wifi_enabled  time_diff  discharging  \n",
       "0                0               0             0        NaN          NaN  \n",
       "1                0               0             0      308.0          1.0  \n",
       "2                0               0             0      300.0          1.0  \n",
       "3                0               0             0      221.0          1.0  \n",
       "4                0               0             0      219.0          1.0  "
      ]
     },
     "execution_count": 3,
     "metadata": {},
     "output_type": "execute_result"
    }
   ],
   "source": [
    "# additional features\n",
    "df['wifi_enabled'] = (df['network_status'] == 'wifi').astype(np.uint8)\n",
    "\n",
    "df['time_diff'] = df['timestamp'].diff()\n",
    "df.loc[df.device_id != df.device_id.shift(), 'time_diff'] = None\n",
    "df['time_diff'] = df.time_diff.dt.total_seconds()\n",
    "\n",
    "df['discharging'] = df.battery_level.shift() >= df.battery_level\n",
    "df.loc[df.device_id != df.device_id.shift(), 'discharging'] = None\n",
    "df.head()"
   ]
  },
  {
   "cell_type": "code",
   "execution_count": 4,
   "metadata": {},
   "outputs": [
    {
     "data": {
      "text/plain": [
       " 0.0    2319693\n",
       " 1.0    2266036\n",
       "NaN        1597\n",
       "Name: discharging, dtype: int64"
      ]
     },
     "execution_count": 4,
     "metadata": {},
     "output_type": "execute_result"
    }
   ],
   "source": [
    "df.discharging.value_counts(dropna=False) # discharge:1 charge:0"
   ]
  },
  {
   "cell_type": "code",
   "execution_count": 5,
   "metadata": {},
   "outputs": [
    {
     "data": {
      "text/html": [
       "<div>\n",
       "<style scoped>\n",
       "    .dataframe tbody tr th:only-of-type {\n",
       "        vertical-align: middle;\n",
       "    }\n",
       "\n",
       "    .dataframe tbody tr th {\n",
       "        vertical-align: top;\n",
       "    }\n",
       "\n",
       "    .dataframe thead th {\n",
       "        text-align: right;\n",
       "    }\n",
       "</style>\n",
       "<table border=\"1\" class=\"dataframe\">\n",
       "  <thead>\n",
       "    <tr style=\"text-align: right;\">\n",
       "      <th></th>\n",
       "      <th>charging</th>\n",
       "      <th>discharging</th>\n",
       "    </tr>\n",
       "    <tr>\n",
       "      <th>device_id</th>\n",
       "      <th></th>\n",
       "      <th></th>\n",
       "    </tr>\n",
       "  </thead>\n",
       "  <tbody>\n",
       "    <tr>\n",
       "      <th>1</th>\n",
       "      <td>2227.0</td>\n",
       "      <td>2574.0</td>\n",
       "    </tr>\n",
       "    <tr>\n",
       "      <th>4</th>\n",
       "      <td>6779.0</td>\n",
       "      <td>8393.0</td>\n",
       "    </tr>\n",
       "    <tr>\n",
       "      <th>6</th>\n",
       "      <td>12639.0</td>\n",
       "      <td>23514.0</td>\n",
       "    </tr>\n",
       "    <tr>\n",
       "      <th>10</th>\n",
       "      <td>1536.0</td>\n",
       "      <td>1124.0</td>\n",
       "    </tr>\n",
       "    <tr>\n",
       "      <th>12</th>\n",
       "      <td>18845.0</td>\n",
       "      <td>26301.0</td>\n",
       "    </tr>\n",
       "  </tbody>\n",
       "</table>\n",
       "</div>"
      ],
      "text/plain": [
       "           charging  discharging\n",
       "device_id                       \n",
       "1            2227.0       2574.0\n",
       "4            6779.0       8393.0\n",
       "6           12639.0      23514.0\n",
       "10           1536.0       1124.0\n",
       "12          18845.0      26301.0"
      ]
     },
     "execution_count": 5,
     "metadata": {},
     "output_type": "execute_result"
    }
   ],
   "source": [
    "seqs = df.groupby('device_id').discharging.value_counts().unstack()\n",
    "seqs.columns = ['charging', 'discharging']\n",
    "seqs.head()"
   ]
  },
  {
   "cell_type": "code",
   "execution_count": 6,
   "metadata": {},
   "outputs": [
    {
     "data": {
      "text/html": [
       "<div>\n",
       "<style scoped>\n",
       "    .dataframe tbody tr th:only-of-type {\n",
       "        vertical-align: middle;\n",
       "    }\n",
       "\n",
       "    .dataframe tbody tr th {\n",
       "        vertical-align: top;\n",
       "    }\n",
       "\n",
       "    .dataframe thead th {\n",
       "        text-align: right;\n",
       "    }\n",
       "</style>\n",
       "<table border=\"1\" class=\"dataframe\">\n",
       "  <thead>\n",
       "    <tr style=\"text-align: right;\">\n",
       "      <th></th>\n",
       "      <th></th>\n",
       "      <th>mean</th>\n",
       "      <th>min</th>\n",
       "      <th>max</th>\n",
       "    </tr>\n",
       "    <tr>\n",
       "      <th>device_id</th>\n",
       "      <th>discharging</th>\n",
       "      <th></th>\n",
       "      <th></th>\n",
       "      <th></th>\n",
       "    </tr>\n",
       "  </thead>\n",
       "  <tbody>\n",
       "    <tr>\n",
       "      <th rowspan=\"2\" valign=\"top\">1</th>\n",
       "      <th>0.0</th>\n",
       "      <td>134.316120</td>\n",
       "      <td>1.0</td>\n",
       "      <td>3630.0</td>\n",
       "    </tr>\n",
       "    <tr>\n",
       "      <th>1.0</th>\n",
       "      <td>671.087413</td>\n",
       "      <td>0.0</td>\n",
       "      <td>78227.0</td>\n",
       "    </tr>\n",
       "    <tr>\n",
       "      <th rowspan=\"2\" valign=\"top\">4</th>\n",
       "      <th>0.0</th>\n",
       "      <td>341.196637</td>\n",
       "      <td>0.0</td>\n",
       "      <td>193964.0</td>\n",
       "    </tr>\n",
       "    <tr>\n",
       "      <th>1.0</th>\n",
       "      <td>1609.112475</td>\n",
       "      <td>0.0</td>\n",
       "      <td>33022.0</td>\n",
       "    </tr>\n",
       "    <tr>\n",
       "      <th>6</th>\n",
       "      <th>0.0</th>\n",
       "      <td>478.561595</td>\n",
       "      <td>0.0</td>\n",
       "      <td>56012.0</td>\n",
       "    </tr>\n",
       "  </tbody>\n",
       "</table>\n",
       "</div>"
      ],
      "text/plain": [
       "                              mean  min       max\n",
       "device_id discharging                            \n",
       "1         0.0           134.316120  1.0    3630.0\n",
       "          1.0           671.087413  0.0   78227.0\n",
       "4         0.0           341.196637  0.0  193964.0\n",
       "          1.0          1609.112475  0.0   33022.0\n",
       "6         0.0           478.561595  0.0   56012.0"
      ]
     },
     "execution_count": 6,
     "metadata": {},
     "output_type": "execute_result"
    }
   ],
   "source": [
    "df.groupby(['device_id', 'discharging']).time_diff.agg(['mean', 'min', 'max']).head()"
   ]
  },
  {
   "cell_type": "code",
   "execution_count": 7,
   "metadata": {},
   "outputs": [
    {
     "data": {
      "text/plain": [
       "[Text(0,0.5,'# Samples')]"
      ]
     },
     "execution_count": 7,
     "metadata": {},
     "output_type": "execute_result"
    },
    {
     "data": {
      "image/png": "[encoded data removed]",
      "text/plain": [
       "<Figure size 576x432 with 1 Axes>"
      ]
     },
     "metadata": {},
     "output_type": "display_data"
    }
   ],
   "source": [
    "facts = ['screen_on', 'bluetooth_enabled', 'location_enabled', 'power_saver_enabled', 'nfc_enabled', \n",
    "         'unknown_sources', 'developer_mode', 'wifi_enabled']\n",
    "\n",
    "# Frequency on/off per setting\n",
    "freqs = df[facts].apply(pd.value_counts, axis=0).T\n",
    "freqs.columns = ['Off', 'On']\n",
    "fx = freqs.plot(kind='bar', title='Frequency On/Off per setting', figsize=figsize)\n",
    "fx.set(ylabel='# Samples')"
   ]
  },
  {
   "cell_type": "code",
   "execution_count": 8,
   "metadata": {},
   "outputs": [
    {
     "data": {
      "text/plain": [
       "[Text(0,0.5,'# Samples'), Text(0.5,0,'Combinations')]"
      ]
     },
     "execution_count": 8,
     "metadata": {},
     "output_type": "execute_result"
    },
    {
     "data": {
      "image/png": "[encoded data removed]",
      "text/plain": [
       "<Figure size 576x432 with 1 Axes>"
      ]
     },
     "metadata": {},
     "output_type": "display_data"
    }
   ],
   "source": [
    "df['combination'] = np.packbits(df[facts].values, axis=-1)\n",
    "\n",
    "# Most frequent combinations\n",
    "combs = df.combination.value_counts()[0:10].T\n",
    "cx = combs.plot(kind='bar', title='Most frequent combinations', figsize=figsize)\n",
    "cx.set(xlabel='Combinations', ylabel='# Samples')"
   ]
  },
  {
   "cell_type": "code",
   "execution_count": 9,
   "metadata": {},
   "outputs": [
    {
     "data": {
      "text/plain": [
       "array([1, 0, 0, 0, 0, 1, 0, 1], dtype=uint8)"
      ]
     },
     "execution_count": 9,
     "metadata": {},
     "output_type": "execute_result"
    }
   ],
   "source": [
    "def unpack_comb(n):\n",
    "    return np.unpackbits(np.array([n], dtype=np.uint8))\n",
    "\n",
    "unpack_comb(133)"
   ]
  },
  {
   "cell_type": "code",
   "execution_count": null,
   "metadata": {},
   "outputs": [],
   "source": []
  }
 ],
 "metadata": {
  "kernelspec": {
   "display_name": "Python 3",
   "language": "python",
   "name": "python3"
  },
  "language_info": {
   "codemirror_mode": {
    "name": "ipython",
    "version": 3
   },
   "file_extension": ".py",
   "mimetype": "text/x-python",
   "name": "python",
   "nbconvert_exporter": "python",
   "pygments_lexer": "ipython3",
   "version": "3.5.2"
  }
 },
 "nbformat": 4,
 "nbformat_minor": 2
}
