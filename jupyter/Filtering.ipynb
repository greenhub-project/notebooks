{
 "cells": [
  {
   "cell_type": "code",
   "execution_count": 1,
   "metadata": {},
   "outputs": [
    {
     "name": "stdout",
     "output_type": "stream",
     "text": [
      "<class 'pandas.core.frame.DataFrame'>\n",
      "Int64Index: 2854918 entries, 0 to 2854917\n",
      "Data columns (total 7 columns):\n",
      "device_id         uint16\n",
      "timestamp         datetime64[ns]\n",
      "battery_state     category\n",
      "battery_level     uint8\n",
      "network_status    category\n",
      "time_diff         float64\n",
      "combination       uint8\n",
      "dtypes: category(2), datetime64[ns](1), float64(1), uint16(1), uint8(2)\n",
      "memory usage: 81.7 MB\n"
     ]
    }
   ],
   "source": [
    "import numpa\n",
    "import numpy as np\n",
    "import pandas as pd\n",
    "import pyarrow.parquet as pq\n",
    "\n",
    "def load_df(path, columns=None, nthreads=4, strings_to_categorical=True):\n",
    "    try:\n",
    "        table = pq.read_table(path, columns=columns, nthreads=nthreads)\n",
    "        return table.to_pandas(strings_to_categorical=strings_to_categorical)\n",
    "    except Exception as e:\n",
    "        print(e)\n",
    "\n",
    "df = load_df('../src/combinations.parquet')\n",
    "df.info()"
   ]
  },
  {
   "cell_type": "code",
   "execution_count": 33,
   "metadata": {},
   "outputs": [
    {
     "ename": "ValueError",
     "evalue": "The truth value of an array with more than one element is ambiguous. Use a.any() or a.all()",
     "output_type": "error",
     "traceback": [
      "\u001b[0;31m---------------------------------------------------------------------------\u001b[0m",
      "\u001b[0;31mValueError\u001b[0m                                Traceback (most recent call last)",
      "\u001b[0;32m<ipython-input-33-8e7d66058391>\u001b[0m in \u001b[0;36m<module>\u001b[0;34m()\u001b[0m\n\u001b[1;32m     40\u001b[0m \u001b[0mtt\u001b[0m \u001b[0;34m=\u001b[0m \u001b[0mtruth_table\u001b[0m\u001b[0;34m(\u001b[0m\u001b[0mlen\u001b[0m\u001b[0;34m(\u001b[0m\u001b[0mcols\u001b[0m\u001b[0;34m)\u001b[0m\u001b[0;34m)\u001b[0m\u001b[0;34m\u001b[0m\u001b[0m\n\u001b[1;32m     41\u001b[0m \u001b[0;34m\u001b[0m\u001b[0m\n\u001b[0;32m---> 42\u001b[0;31m \u001b[0mchoices\u001b[0m \u001b[0;34m=\u001b[0m \u001b[0mtt\u001b[0m\u001b[0;34m[\u001b[0m\u001b[0mtt\u001b[0m\u001b[0;34m[\u001b[0m\u001b[0;34m:\u001b[0m\u001b[0;34m,\u001b[0m\u001b[0;36m0\u001b[0m\u001b[0;34m]\u001b[0m \u001b[0;34m==\u001b[0m \u001b[0;36m1\u001b[0m \u001b[0;34m&\u001b[0m \u001b[0mtt\u001b[0m\u001b[0;34m[\u001b[0m\u001b[0;34m:\u001b[0m\u001b[0;34m,\u001b[0m\u001b[0;36m1\u001b[0m\u001b[0;34m]\u001b[0m \u001b[0;34m==\u001b[0m \u001b[0;36m1\u001b[0m\u001b[0;34m]\u001b[0m\u001b[0;34m\u001b[0m\u001b[0m\n\u001b[0m\u001b[1;32m     43\u001b[0m \u001b[0mchoices\u001b[0m \u001b[0;34m=\u001b[0m \u001b[0mpack_comb\u001b[0m\u001b[0;34m(\u001b[0m\u001b[0mchoices\u001b[0m\u001b[0;34m)\u001b[0m\u001b[0;34m\u001b[0m\u001b[0m\n\u001b[1;32m     44\u001b[0m \u001b[0;34m\u001b[0m\u001b[0m\n",
      "\u001b[0;31mValueError\u001b[0m: The truth value of an array with more than one element is ambiguous. Use a.any() or a.all()"
     ]
    }
   ],
   "source": [
    "def truth_table(k):\n",
    "    \"\"\"\n",
    "    Generate a truth table of dimension (k, k)\n",
    "    \"\"\"\n",
    "    x = np.array([0, 1], dtype=np.int8)\n",
    "    mesh = np.meshgrid(*([x] * k))\n",
    "    return np.vstack([y.flat for y in mesh]).T\n",
    "\n",
    "\n",
    "def pack_comb(haystack):\n",
    "    \"\"\"\n",
    "    Return a decimal integer from a byte array\n",
    "    \"\"\"\n",
    "    return np.packbits(np.array(haystack, dtype=np.uint8), axis=-1)\n",
    "\n",
    "\n",
    "def unpack_comb(n):\n",
    "    \"\"\"\n",
    "    Return a byte array from a decimal integer\n",
    "    \"\"\"\n",
    "    return np.unpackbits(np.array([n], dtype=np.uint8))\n",
    "\n",
    "\n",
    "@numba.jit\n",
    "def apply_filter(n):\n",
    "    \"\"\"\n",
    "    Apply the filter to the given combination\n",
    "    \"\"\"\n",
    "    a = unpack_comb(n)\n",
    "\n",
    "    # Hardcoded expression\n",
    "    return (\n",
    "        a[1] == True\n",
    "    )\n",
    "\n",
    "\n",
    "cols = ['screen_on', 'bluetooth_enabled', 'location_enabled', 'power_saver_enabled',\n",
    "        'nfc_enabled', 'unknown_sources', 'developer_mode', 'wifi_enabled']"
   ]
  },
  {
   "cell_type": "code",
   "execution_count": null,
   "metadata": {},
   "outputs": [],
   "source": []
  }
 ],
 "metadata": {
  "kernelspec": {
   "display_name": "Python 3",
   "language": "python",
   "name": "python3"
  },
  "language_info": {
   "codemirror_mode": {
    "name": "ipython",
    "version": 3
   },
   "file_extension": ".py",
   "mimetype": "text/x-python",
   "name": "python",
   "nbconvert_exporter": "python",
   "pygments_lexer": "ipython3",
   "version": "3.5.2"
  }
 },
 "nbformat": 4,
 "nbformat_minor": 2
}
