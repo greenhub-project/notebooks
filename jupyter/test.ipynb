{
 "cells": [
  {
   "cell_type": "code",
   "execution_count": null,
   "metadata": {},
   "outputs": [],
   "source": [
    "import pandas as pd\n",
    "import time\n",
    "import numpy as np\n",
    "from IPython.display import clear_output\n",
    "import matplotlib.pyplot as plt\n",
    "import plotly.tools as tls\n",
    "%matplotlib inline\n",
    "\n",
    "devices_data = pd.read_csv('C:\\\\Users\\\\ruben\\\\Desktop\\\\Investigation\\\\updated_dataset_07_3_2018\\\\devices.csv', index_col='id', parse_dates=['created_at', 'updated_at'])\n",
    "samples_data = pd.read_csv('C:\\\\Users\\\\ruben\\\\Desktop\\\\Investigation\\\\updated_dataset_07_3_2018\\\\samples.csv', usecols=['device_id', 'timestamp', 'battery_state', 'battery_level'], parse_dates=['timestamp'])\n",
    "\n",
    "samples_data.head()"
   ]
  },
  {
   "cell_type": "code",
   "execution_count": null,
   "metadata": {},
   "outputs": [],
   "source": [
    "#clean fulls where battery level < 100% and charges where battery level = 100%\n",
    "samples_data.drop(samples_data.loc[(samples_data['battery_state'] == 'Full') & (samples_data['battery_level'] < 1)].index, inplace=True)\n",
    "samples_data.drop(samples_data.loc[(samples_data['battery_state'] == 'Charging') & (samples_data['battery_level'] == 1)].index, inplace=True)\n",
    "\n",
    "samples_data.head()"
   ]
  },
  {
   "cell_type": "code",
   "execution_count": null,
   "metadata": {},
   "outputs": [],
   "source": [
    "device_not_charging_samples = samples_data.loc[(samples_data['device_id'] == 56) & (samples_data['battery_state'] == 'Not charging')].drop_duplicates(subset=['timestamp']).sort_values(by='timestamp').reset_index(drop=True)\n",
    "\n",
    "device_not_charging_samples.head()\n",
    "\n"
   ]
  },
  {
   "cell_type": "code",
   "execution_count": null,
   "metadata": {},
   "outputs": [],
   "source": [
    "previous_index = 0\n",
    "charging = True\n",
    "\n",
    "if device_not_charging_samples.iloc[0].battery_level < device_not_charging_samples.iloc[1].battery_level:\n",
    "    charging = True\n",
    "else:\n",
    "    charging = False\n",
    "\n",
    "\n",
    "for index, row in device_not_charging_samples.iterrows():\n",
    "    if index != 0:\n",
    "        if charging:\n",
    "            if row['battery_level'] < device_not_charging_samples.iloc[index - 1].battery_level:\n",
    "                subset = device_not_charging_samples[previous_index:index]\n",
    "                print(subset)\n",
    "                print('----------------')\n",
    "                \n",
    "                if device_not_charging_samples.iloc[index].battery_level < device_not_charging_samples.iloc[index + 1].battery_level:\n",
    "                    charging = True\n",
    "                else:\n",
    "                    charging = False\n",
    "\n",
    "                previous_index = index\n",
    "        else:\n",
    "            if row['battery_level'] > device_not_charging_samples.iloc[index - 1].battery_level:\n",
    "                subset = device_not_charging_samples[previous_index:index]\n",
    "                print(subset)\n",
    "                print('----------------')\n",
    "                \n",
    "                if device_not_charging_samples.iloc[index].battery_level < device_not_charging_samples.iloc[index + 1].battery_level:\n",
    "                    charging = True\n",
    "                else:\n",
    "                    charging = False\n",
    "                    \n",
    "                previous_index = index\n",
    "                \n",
    "    if index == len(device_not_charging_samples) - 1 and (not device_not_charging_samples[previous_index:index + 1].empty):\n",
    "        subset = device_not_charging_samples[previous_index:index + 1]\n",
    "        print(subset)\n",
    "        print('----------------')\n"
   ]
  },
  {
   "cell_type": "code",
   "execution_count": null,
   "metadata": {},
   "outputs": [],
   "source": []
  },
  {
   "cell_type": "code",
   "execution_count": null,
   "metadata": {},
   "outputs": [],
   "source": []
  },
  {
   "cell_type": "code",
   "execution_count": null,
   "metadata": {
    "collapsed": true
   },
   "outputs": [],
   "source": []
  }
 ],
 "metadata": {
  "kernelspec": {
   "display_name": "Python 3",
   "language": "python",
   "name": "python3"
  },
  "language_info": {
   "codemirror_mode": {
    "name": "ipython",
    "version": 3
   },
   "file_extension": ".py",
   "mimetype": "text/x-python",
   "name": "python",
   "nbconvert_exporter": "python",
   "pygments_lexer": "ipython3",
   "version": "3.5.2"
  }
 },
 "nbformat": 4,
 "nbformat_minor": 2
}
