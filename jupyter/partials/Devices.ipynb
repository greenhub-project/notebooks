{
 "cells": [
  {
   "cell_type": "code",
   "execution_count": 1,
   "metadata": {},
   "outputs": [
    {
     "name": "stdout",
     "output_type": "stream",
     "text": [
      "<class 'pandas.core.frame.DataFrame'>\n",
      "RangeIndex: 3265 entries, 0 to 3264\n",
      "Data columns (total 8 columns):\n",
      "id                3265 non-null uint16\n",
      "model             3265 non-null category\n",
      "brand             3265 non-null category\n",
      "manufacturer      3265 non-null category\n",
      "product           3265 non-null category\n",
      "os_version        3265 non-null category\n",
      "kernel_version    3265 non-null category\n",
      "is_root           3265 non-null uint8\n",
      "dtypes: category(6), uint16(1), uint8(1)\n",
      "memory usage: 193.3 KB\n"
     ]
    }
   ],
   "source": [
    "import pandas as pd\n",
    "import numpy as np\n",
    "import pyarrow.parquet as pq\n",
    "import matplotlib.pyplot as plt\n",
    "import seaborn as sns\n",
    "%matplotlib inline\n",
    "\n",
    "sns.set_style('whitegrid')\n",
    "figsize=(8,6)\n",
    "\n",
    "\n",
    "def load_df(path, columns=None, nthreads=4, strings_to_categorical=True):\n",
    "    try:\n",
    "        table = pq.read_table(path, columns=columns, nthreads=nthreads)\n",
    "        return table.to_pandas(strings_to_categorical=strings_to_categorical)\n",
    "    except Exception as e:\n",
    "        print(e)\n",
    "\n",
    "\n",
    "cols = ['id', 'model', 'brand', 'manufacturer', 'product',\n",
    "        'os_version', 'kernel_version', 'is_root']\n",
    "        \n",
    "df = load_df('../src/devices.parquet', cols)\n",
    "df.info()"
   ]
  },
  {
   "cell_type": "code",
   "execution_count": 2,
   "metadata": {},
   "outputs": [
    {
     "data": {
      "text/html": [
       "<div>\n",
       "<style scoped>\n",
       "    .dataframe tbody tr th:only-of-type {\n",
       "        vertical-align: middle;\n",
       "    }\n",
       "\n",
       "    .dataframe tbody tr th {\n",
       "        vertical-align: top;\n",
       "    }\n",
       "\n",
       "    .dataframe thead th {\n",
       "        text-align: right;\n",
       "    }\n",
       "</style>\n",
       "<table border=\"1\" class=\"dataframe\">\n",
       "  <thead>\n",
       "    <tr style=\"text-align: right;\">\n",
       "      <th></th>\n",
       "      <th>id</th>\n",
       "      <th>model</th>\n",
       "      <th>brand</th>\n",
       "      <th>manufacturer</th>\n",
       "      <th>product</th>\n",
       "      <th>os_version</th>\n",
       "      <th>kernel_version</th>\n",
       "      <th>is_root</th>\n",
       "    </tr>\n",
       "  </thead>\n",
       "  <tbody>\n",
       "    <tr>\n",
       "      <th>0</th>\n",
       "      <td>1</td>\n",
       "      <td>vs500pp</td>\n",
       "      <td>lge</td>\n",
       "      <td>lge</td>\n",
       "      <td>m1v_pp_vzw</td>\n",
       "      <td>6.0.1</td>\n",
       "      <td>3.10.49-gf18313b-00011-g5e5ed63</td>\n",
       "      <td>0</td>\n",
       "    </tr>\n",
       "    <tr>\n",
       "      <th>1</th>\n",
       "      <td>2</td>\n",
       "      <td>ao5510</td>\n",
       "      <td>yu</td>\n",
       "      <td>yu</td>\n",
       "      <td>yureka</td>\n",
       "      <td>5.1.1</td>\n",
       "      <td>3.10.49-cyanogenmod-gbca6118</td>\n",
       "      <td>1</td>\n",
       "    </tr>\n",
       "    <tr>\n",
       "      <th>2</th>\n",
       "      <td>3</td>\n",
       "      <td>asus_x014d</td>\n",
       "      <td>asus</td>\n",
       "      <td>asus</td>\n",
       "      <td>ww_phone</td>\n",
       "      <td>5.1.1</td>\n",
       "      <td>3.4.0-gdf95949-dirty</td>\n",
       "      <td>0</td>\n",
       "    </tr>\n",
       "    <tr>\n",
       "      <th>3</th>\n",
       "      <td>4</td>\n",
       "      <td>nexus 5</td>\n",
       "      <td>google</td>\n",
       "      <td>lge</td>\n",
       "      <td>hammerhead</td>\n",
       "      <td>6.0.1</td>\n",
       "      <td>3.4.0-gcf10b7e</td>\n",
       "      <td>0</td>\n",
       "    </tr>\n",
       "    <tr>\n",
       "      <th>4</th>\n",
       "      <td>5</td>\n",
       "      <td>lg-d331</td>\n",
       "      <td>lge</td>\n",
       "      <td>lge</td>\n",
       "      <td>luv80ss_global_com</td>\n",
       "      <td>4.4.2</td>\n",
       "      <td>3.4.67</td>\n",
       "      <td>0</td>\n",
       "    </tr>\n",
       "  </tbody>\n",
       "</table>\n",
       "</div>"
      ],
      "text/plain": [
       "   id       model   brand manufacturer             product os_version  \\\n",
       "0   1     vs500pp     lge          lge          m1v_pp_vzw      6.0.1   \n",
       "1   2      ao5510      yu           yu              yureka      5.1.1   \n",
       "2   3  asus_x014d    asus         asus            ww_phone      5.1.1   \n",
       "3   4     nexus 5  google          lge          hammerhead      6.0.1   \n",
       "4   5     lg-d331     lge          lge  luv80ss_global_com      4.4.2   \n",
       "\n",
       "                    kernel_version  is_root  \n",
       "0  3.10.49-gf18313b-00011-g5e5ed63        0  \n",
       "1     3.10.49-cyanogenmod-gbca6118        1  \n",
       "2             3.4.0-gdf95949-dirty        0  \n",
       "3                   3.4.0-gcf10b7e        0  \n",
       "4                           3.4.67        0  "
      ]
     },
     "execution_count": 2,
     "metadata": {},
     "output_type": "execute_result"
    }
   ],
   "source": [
    "df.head()"
   ]
  },
  {
   "cell_type": "code",
   "execution_count": 3,
   "metadata": {},
   "outputs": [
    {
     "data": {
      "text/html": [
       "<div>\n",
       "<style scoped>\n",
       "    .dataframe tbody tr th:only-of-type {\n",
       "        vertical-align: middle;\n",
       "    }\n",
       "\n",
       "    .dataframe tbody tr th {\n",
       "        vertical-align: top;\n",
       "    }\n",
       "\n",
       "    .dataframe thead th {\n",
       "        text-align: right;\n",
       "    }\n",
       "</style>\n",
       "<table border=\"1\" class=\"dataframe\">\n",
       "  <thead>\n",
       "    <tr style=\"text-align: right;\">\n",
       "      <th></th>\n",
       "      <th>model</th>\n",
       "      <th>brand</th>\n",
       "      <th>manufacturer</th>\n",
       "      <th>product</th>\n",
       "      <th>os_version</th>\n",
       "      <th>kernel_version</th>\n",
       "    </tr>\n",
       "  </thead>\n",
       "  <tbody>\n",
       "    <tr>\n",
       "      <th>count</th>\n",
       "      <td>3265</td>\n",
       "      <td>3265</td>\n",
       "      <td>3265</td>\n",
       "      <td>3265</td>\n",
       "      <td>3265</td>\n",
       "      <td>3265</td>\n",
       "    </tr>\n",
       "    <tr>\n",
       "      <th>unique</th>\n",
       "      <td>798</td>\n",
       "      <td>124</td>\n",
       "      <td>131</td>\n",
       "      <td>812</td>\n",
       "      <td>22</td>\n",
       "      <td>816</td>\n",
       "    </tr>\n",
       "    <tr>\n",
       "      <th>top</th>\n",
       "      <td>ale-l21</td>\n",
       "      <td>samsung</td>\n",
       "      <td>samsung</td>\n",
       "      <td>ale-l21</td>\n",
       "      <td>7.0</td>\n",
       "      <td>3.18.14-11104523</td>\n",
       "    </tr>\n",
       "    <tr>\n",
       "      <th>freq</th>\n",
       "      <td>165</td>\n",
       "      <td>1011</td>\n",
       "      <td>1006</td>\n",
       "      <td>165</td>\n",
       "      <td>1007</td>\n",
       "      <td>103</td>\n",
       "    </tr>\n",
       "  </tbody>\n",
       "</table>\n",
       "</div>"
      ],
      "text/plain": [
       "          model    brand manufacturer  product os_version    kernel_version\n",
       "count      3265     3265         3265     3265       3265              3265\n",
       "unique      798      124          131      812         22               816\n",
       "top     ale-l21  samsung      samsung  ale-l21        7.0  3.18.14-11104523\n",
       "freq        165     1011         1006      165       1007               103"
      ]
     },
     "execution_count": 3,
     "metadata": {},
     "output_type": "execute_result"
    }
   ],
   "source": [
    "df.describe(include=['category'])"
   ]
  },
  {
   "cell_type": "code",
   "execution_count": 4,
   "metadata": {},
   "outputs": [
    {
     "data": {
      "text/plain": [
       "[Text(0,0.5,'# Devices')]"
      ]
     },
     "execution_count": 4,
     "metadata": {},
     "output_type": "execute_result"
    },
    {
     "data": {
      "image/png": "[encoded data removed]",
      "text/plain": [
       "<Figure size 576x432 with 1 Axes>"
      ]
     },
     "metadata": {},
     "output_type": "display_data"
    }
   ],
   "source": [
    "brands = df.brand.value_counts()[0:15]\n",
    "cx = brands.plot(kind='bar', title='Top 15 brands', figsize=figsize)\n",
    "cx.set(ylabel='# Devices')"
   ]
  },
  {
   "cell_type": "code",
   "execution_count": 5,
   "metadata": {},
   "outputs": [
    {
     "data": {
      "text/plain": [
       "[Text(0,0.5,'# Devices')]"
      ]
     },
     "execution_count": 5,
     "metadata": {},
     "output_type": "execute_result"
    },
    {
     "data": {
      "image/png": "[encoded data removed]",
      "text/plain": [
       "<Figure size 576x432 with 1 Axes>"
      ]
     },
     "metadata": {},
     "output_type": "display_data"
    }
   ],
   "source": [
    "manufacturers = df.manufacturer.value_counts()[0:15]\n",
    "cx = manufacturers.plot(kind='bar', title='Top 15 manufacturers', figsize=figsize)\n",
    "cx.set(ylabel='# Devices')"
   ]
  },
  {
   "cell_type": "code",
   "execution_count": 6,
   "metadata": {},
   "outputs": [
    {
     "data": {
      "text/plain": [
       "[Text(0,0.5,'# Devices')]"
      ]
     },
     "execution_count": 6,
     "metadata": {},
     "output_type": "execute_result"
    },
    {
     "data": {
      "image/png": "[encoded data removed]",
      "text/plain": [
       "<Figure size 576x432 with 1 Axes>"
      ]
     },
     "metadata": {},
     "output_type": "display_data"
    }
   ],
   "source": [
    "versions = df.os_version.value_counts()\n",
    "cx = versions.plot(kind='bar', title='Android OS versions', figsize=figsize)\n",
    "cx.set(ylabel='# Devices')"
   ]
  },
  {
   "cell_type": "code",
   "execution_count": 7,
   "metadata": {},
   "outputs": [
    {
     "data": {
      "text/plain": [
       "[Text(0,0.5,'# Devices')]"
      ]
     },
     "execution_count": 7,
     "metadata": {},
     "output_type": "execute_result"
    },
    {
     "data": {
      "image/png": "[encoded data removed]",
      "text/plain": [
       "<Figure size 576x432 with 1 Axes>"
      ]
     },
     "metadata": {},
     "output_type": "display_data"
    }
   ],
   "source": [
    "root = df.is_root.value_counts()\n",
    "cx = root.plot(kind='bar', title='Rooted devices', figsize=figsize)\n",
    "cx.set(ylabel='# Devices')"
   ]
  }
 ],
 "metadata": {
  "kernelspec": {
   "display_name": "Python 3",
   "language": "python",
   "name": "python3"
  },
  "language_info": {
   "codemirror_mode": {
    "name": "ipython",
    "version": 3
   },
   "file_extension": ".py",
   "mimetype": "text/x-python",
   "name": "python",
   "nbconvert_exporter": "python",
   "pygments_lexer": "ipython3",
   "version": "3.5.2"
  }
 },
 "nbformat": 4,
 "nbformat_minor": 2
}
