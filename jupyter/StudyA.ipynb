{
 "cells": [
  {
   "cell_type": "markdown",
   "metadata": {},
   "source": [
    "# Study Case A\n",
    "This notebook will showcase an overview of the Devices and Samples models, displaying statistical summaries and distribuitions for each model. Afterwards, we will add new features in attempt to answer the proposed questions.\n",
    "\n",
    "**Note:** Dataset snapshot used was generated on 2018-06-12.\n",
    "\n",
    "## Questions and problem definition\n",
    "**[WIP]** Define the problem and its questions"
   ]
  },
  {
   "cell_type": "code",
   "execution_count": 1,
   "metadata": {},
   "outputs": [],
   "source": [
    "# data analysis and wrangling\n",
    "import pandas as pd\n",
    "import numpy as np\n",
    "import pyarrow.parquet as pq\n",
    "\n",
    "# visualization\n",
    "import matplotlib.pyplot as plt\n",
    "import seaborn as sns\n",
    "%matplotlib inline\n",
    "\n",
    "# configure visualizations\n",
    "sns.set_style('whitegrid')\n",
    "figsize=(8,6)\n",
    "\n",
    "\n",
    "# helper functions\n",
    "def load_df(path, columns=None, nthreads=4, strings_to_categorical=True):\n",
    "    try:\n",
    "        table = pq.read_table(path, columns=columns, nthreads=nthreads)\n",
    "        return table.to_pandas(strings_to_categorical=strings_to_categorical)\n",
    "    except Exception as e:\n",
    "        print(e)\n",
    "\n",
    "def downcast_ints(df):\n",
    "    # downcast int types\n",
    "    df_int = df.select_dtypes(include=['int'])\n",
    "    converted_int = df_int.apply(pd.to_numeric, downcast='unsigned')\n",
    "    df[converted_int.columns] = converted_int\n",
    "    return df\n",
    "        \n",
    "def prepare_devices(path):\n",
    "    cols = ['id', 'model', 'brand', 'manufacturer', 'product', 'os_version', 'kernel_version', 'is_root']\n",
    "    return load_df(path, cols)\n",
    "        \n",
    "def prepare_samples(path):\n",
    "    cols = ['device_id', 'timestamp', 'battery_level', 'network_status', 'screen_on', \n",
    "            'bluetooth_enabled', 'location_enabled', 'power_saver_enabled', 'nfc_enabled',\n",
    "            'unknown_sources', 'developer_mode']\n",
    "    \n",
    "    # sorted by [device_id, timestamp]\n",
    "    df = load_df(path, cols)\n",
    "\n",
    "    df = df.reset_index(drop=True)\n",
    "\n",
    "    df = downcast_ints(df)\n",
    "    \n",
    "    return df"
   ]
  },
  {
   "cell_type": "markdown",
   "metadata": {},
   "source": [
    "## Acquire data\n",
    "After importing the necessary libraries, we load the files into dataframes. The *samples* data was sorted beforehand by *device_id* and *timestamp*."
   ]
  },
  {
   "cell_type": "code",
   "execution_count": 2,
   "metadata": {},
   "outputs": [],
   "source": [
    "devices = prepare_devices('../src/devices.parquet')\n",
    "samples = prepare_samples('../src/samples.parquet')"
   ]
  },
  {
   "cell_type": "markdown",
   "metadata": {},
   "source": [
    "## Analyze by describing data\n",
    "To better understand the data, we will start by looking at a sample of the data."
   ]
  },
  {
   "cell_type": "code",
   "execution_count": 3,
   "metadata": {},
   "outputs": [
    {
     "data": {
      "text/html": [
       "<div>\n",
       "<style scoped>\n",
       "    .dataframe tbody tr th:only-of-type {\n",
       "        vertical-align: middle;\n",
       "    }\n",
       "\n",
       "    .dataframe tbody tr th {\n",
       "        vertical-align: top;\n",
       "    }\n",
       "\n",
       "    .dataframe thead th {\n",
       "        text-align: right;\n",
       "    }\n",
       "</style>\n",
       "<table border=\"1\" class=\"dataframe\">\n",
       "  <thead>\n",
       "    <tr style=\"text-align: right;\">\n",
       "      <th></th>\n",
       "      <th>id</th>\n",
       "      <th>model</th>\n",
       "      <th>brand</th>\n",
       "      <th>manufacturer</th>\n",
       "      <th>product</th>\n",
       "      <th>os_version</th>\n",
       "      <th>kernel_version</th>\n",
       "      <th>is_root</th>\n",
       "    </tr>\n",
       "  </thead>\n",
       "  <tbody>\n",
       "    <tr>\n",
       "      <th>218</th>\n",
       "      <td>219</td>\n",
       "      <td>sm-g930f</td>\n",
       "      <td>samsung</td>\n",
       "      <td>samsung</td>\n",
       "      <td>heroltexx</td>\n",
       "      <td>7.0</td>\n",
       "      <td>3.18.14-10422490</td>\n",
       "      <td>0</td>\n",
       "    </tr>\n",
       "    <tr>\n",
       "      <th>609</th>\n",
       "      <td>610</td>\n",
       "      <td>f3311</td>\n",
       "      <td>sony</td>\n",
       "      <td>sony</td>\n",
       "      <td>f3311</td>\n",
       "      <td>6.0</td>\n",
       "      <td>3.18.19+</td>\n",
       "      <td>0</td>\n",
       "    </tr>\n",
       "    <tr>\n",
       "      <th>2473</th>\n",
       "      <td>2474</td>\n",
       "      <td>iris 512</td>\n",
       "      <td>lava</td>\n",
       "      <td>lava</td>\n",
       "      <td>iris 512</td>\n",
       "      <td>5.1</td>\n",
       "      <td>3.10.72+</td>\n",
       "      <td>0</td>\n",
       "    </tr>\n",
       "    <tr>\n",
       "      <th>1914</th>\n",
       "      <td>1915</td>\n",
       "      <td>nokia_xl</td>\n",
       "      <td>nokia</td>\n",
       "      <td>nokia</td>\n",
       "      <td>rm-1030</td>\n",
       "      <td>4.1.2</td>\n",
       "      <td>3.4.0-perf</td>\n",
       "      <td>1</td>\n",
       "    </tr>\n",
       "    <tr>\n",
       "      <th>106</th>\n",
       "      <td>107</td>\n",
       "      <td>ale-l21</td>\n",
       "      <td>huawei</td>\n",
       "      <td>huawei</td>\n",
       "      <td>ale-l21</td>\n",
       "      <td>6.0</td>\n",
       "      <td>3.10.86-gcfbfe47-dirty</td>\n",
       "      <td>0</td>\n",
       "    </tr>\n",
       "  </tbody>\n",
       "</table>\n",
       "</div>"
      ],
      "text/plain": [
       "        id     model    brand manufacturer    product os_version  \\\n",
       "218    219  sm-g930f  samsung      samsung  heroltexx        7.0   \n",
       "609    610     f3311     sony         sony      f3311        6.0   \n",
       "2473  2474  iris 512     lava         lava   iris 512        5.1   \n",
       "1914  1915  nokia_xl    nokia        nokia    rm-1030      4.1.2   \n",
       "106    107   ale-l21   huawei       huawei    ale-l21        6.0   \n",
       "\n",
       "              kernel_version  is_root  \n",
       "218         3.18.14-10422490        0  \n",
       "609                 3.18.19+        0  \n",
       "2473                3.10.72+        0  \n",
       "1914              3.4.0-perf        1  \n",
       "106   3.10.86-gcfbfe47-dirty        0  "
      ]
     },
     "execution_count": 3,
     "metadata": {},
     "output_type": "execute_result"
    }
   ],
   "source": [
    "devices.sample(5)"
   ]
  },
  {
   "cell_type": "code",
   "execution_count": 4,
   "metadata": {},
   "outputs": [
    {
     "data": {
      "text/html": [
       "<div>\n",
       "<style scoped>\n",
       "    .dataframe tbody tr th:only-of-type {\n",
       "        vertical-align: middle;\n",
       "    }\n",
       "\n",
       "    .dataframe tbody tr th {\n",
       "        vertical-align: top;\n",
       "    }\n",
       "\n",
       "    .dataframe thead th {\n",
       "        text-align: right;\n",
       "    }\n",
       "</style>\n",
       "<table border=\"1\" class=\"dataframe\">\n",
       "  <thead>\n",
       "    <tr style=\"text-align: right;\">\n",
       "      <th></th>\n",
       "      <th>device_id</th>\n",
       "      <th>timestamp</th>\n",
       "      <th>battery_level</th>\n",
       "      <th>network_status</th>\n",
       "      <th>screen_on</th>\n",
       "      <th>bluetooth_enabled</th>\n",
       "      <th>location_enabled</th>\n",
       "      <th>power_saver_enabled</th>\n",
       "      <th>nfc_enabled</th>\n",
       "      <th>unknown_sources</th>\n",
       "      <th>developer_mode</th>\n",
       "    </tr>\n",
       "  </thead>\n",
       "  <tbody>\n",
       "    <tr>\n",
       "      <th>2941262</th>\n",
       "      <td>2024</td>\n",
       "      <td>2017-10-17 13:43:39</td>\n",
       "      <td>83</td>\n",
       "      <td>disconnected</td>\n",
       "      <td>1</td>\n",
       "      <td>0</td>\n",
       "      <td>1</td>\n",
       "      <td>0</td>\n",
       "      <td>0</td>\n",
       "      <td>1</td>\n",
       "      <td>0</td>\n",
       "    </tr>\n",
       "    <tr>\n",
       "      <th>670656</th>\n",
       "      <td>370</td>\n",
       "      <td>2018-01-07 23:54:01</td>\n",
       "      <td>50</td>\n",
       "      <td>wifi</td>\n",
       "      <td>0</td>\n",
       "      <td>0</td>\n",
       "      <td>1</td>\n",
       "      <td>0</td>\n",
       "      <td>0</td>\n",
       "      <td>1</td>\n",
       "      <td>0</td>\n",
       "    </tr>\n",
       "    <tr>\n",
       "      <th>2133</th>\n",
       "      <td>1</td>\n",
       "      <td>2017-10-25 13:48:07</td>\n",
       "      <td>93</td>\n",
       "      <td>lte</td>\n",
       "      <td>1</td>\n",
       "      <td>0</td>\n",
       "      <td>1</td>\n",
       "      <td>0</td>\n",
       "      <td>0</td>\n",
       "      <td>0</td>\n",
       "      <td>0</td>\n",
       "    </tr>\n",
       "    <tr>\n",
       "      <th>844394</th>\n",
       "      <td>470</td>\n",
       "      <td>2017-10-21 09:54:32</td>\n",
       "      <td>25</td>\n",
       "      <td>wifi</td>\n",
       "      <td>0</td>\n",
       "      <td>1</td>\n",
       "      <td>1</td>\n",
       "      <td>0</td>\n",
       "      <td>0</td>\n",
       "      <td>0</td>\n",
       "      <td>0</td>\n",
       "    </tr>\n",
       "    <tr>\n",
       "      <th>3926833</th>\n",
       "      <td>2613</td>\n",
       "      <td>2017-11-21 09:49:57</td>\n",
       "      <td>54</td>\n",
       "      <td>wifi</td>\n",
       "      <td>1</td>\n",
       "      <td>0</td>\n",
       "      <td>0</td>\n",
       "      <td>0</td>\n",
       "      <td>0</td>\n",
       "      <td>0</td>\n",
       "      <td>0</td>\n",
       "    </tr>\n",
       "  </tbody>\n",
       "</table>\n",
       "</div>"
      ],
      "text/plain": [
       "         device_id           timestamp  battery_level network_status  \\\n",
       "2941262       2024 2017-10-17 13:43:39             83   disconnected   \n",
       "670656         370 2018-01-07 23:54:01             50           wifi   \n",
       "2133             1 2017-10-25 13:48:07             93            lte   \n",
       "844394         470 2017-10-21 09:54:32             25           wifi   \n",
       "3926833       2613 2017-11-21 09:49:57             54           wifi   \n",
       "\n",
       "         screen_on  bluetooth_enabled  location_enabled  power_saver_enabled  \\\n",
       "2941262          1                  0                 1                    0   \n",
       "670656           0                  0                 1                    0   \n",
       "2133             1                  0                 1                    0   \n",
       "844394           0                  1                 1                    0   \n",
       "3926833          1                  0                 0                    0   \n",
       "\n",
       "         nfc_enabled  unknown_sources  developer_mode  \n",
       "2941262            0                1               0  \n",
       "670656             0                1               0  \n",
       "2133               0                0               0  \n",
       "844394             0                0               0  \n",
       "3926833            0                0               0  "
      ]
     },
     "execution_count": 4,
     "metadata": {},
     "output_type": "execute_result"
    }
   ],
   "source": [
    "samples.sample(5)"
   ]
  },
  {
   "cell_type": "markdown",
   "metadata": {},
   "source": [
    "### What are the data types for the various features?\n",
    "#### Devices\n",
    "- Six features are categories which represent device's specs.\n",
    "- *is_root* is a boolean variable that indicates whether the device has root access.\n",
    "\n",
    "#### Samples\n",
    "- The last seven features are booleans, these are each device's settings.\n",
    "- The remaining features will be useful to group the data into different subsets."
   ]
  },
  {
   "cell_type": "code",
   "execution_count": 5,
   "metadata": {},
   "outputs": [
    {
     "name": "stdout",
     "output_type": "stream",
     "text": [
      "<class 'pandas.core.frame.DataFrame'>\n",
      "RangeIndex: 3272 entries, 0 to 3271\n",
      "Data columns (total 8 columns):\n",
      "id                3272 non-null uint16\n",
      "model             3272 non-null category\n",
      "brand             3272 non-null category\n",
      "manufacturer      3272 non-null category\n",
      "product           3272 non-null category\n",
      "os_version        3272 non-null category\n",
      "kernel_version    3272 non-null category\n",
      "is_root           3272 non-null uint8\n",
      "dtypes: category(6), uint16(1), uint8(1)\n",
      "memory usage: 193.4 KB\n"
     ]
    }
   ],
   "source": [
    "devices.info()"
   ]
  },
  {
   "cell_type": "code",
   "execution_count": 6,
   "metadata": {},
   "outputs": [
    {
     "name": "stdout",
     "output_type": "stream",
     "text": [
      "<class 'pandas.core.frame.DataFrame'>\n",
      "RangeIndex: 4675251 entries, 0 to 4675250\n",
      "Data columns (total 11 columns):\n",
      "device_id              uint16\n",
      "timestamp              datetime64[ns]\n",
      "battery_level          uint8\n",
      "network_status         category\n",
      "screen_on              uint8\n",
      "bluetooth_enabled      uint8\n",
      "location_enabled       uint8\n",
      "power_saver_enabled    uint8\n",
      "nfc_enabled            uint8\n",
      "unknown_sources        uint8\n",
      "developer_mode         uint8\n",
      "dtypes: category(1), datetime64[ns](1), uint16(1), uint8(8)\n",
      "memory usage: 84.7 MB\n"
     ]
    }
   ],
   "source": [
    "samples.info()"
   ]
  },
  {
   "cell_type": "markdown",
   "metadata": {},
   "source": [
    "### What is the distribution of categorical features?"
   ]
  },
  {
   "cell_type": "code",
   "execution_count": 7,
   "metadata": {},
   "outputs": [
    {
     "data": {
      "text/html": [
       "<div>\n",
       "<style scoped>\n",
       "    .dataframe tbody tr th:only-of-type {\n",
       "        vertical-align: middle;\n",
       "    }\n",
       "\n",
       "    .dataframe tbody tr th {\n",
       "        vertical-align: top;\n",
       "    }\n",
       "\n",
       "    .dataframe thead th {\n",
       "        text-align: right;\n",
       "    }\n",
       "</style>\n",
       "<table border=\"1\" class=\"dataframe\">\n",
       "  <thead>\n",
       "    <tr style=\"text-align: right;\">\n",
       "      <th></th>\n",
       "      <th>model</th>\n",
       "      <th>brand</th>\n",
       "      <th>manufacturer</th>\n",
       "      <th>product</th>\n",
       "      <th>os_version</th>\n",
       "      <th>kernel_version</th>\n",
       "    </tr>\n",
       "  </thead>\n",
       "  <tbody>\n",
       "    <tr>\n",
       "      <th>count</th>\n",
       "      <td>3272</td>\n",
       "      <td>3272</td>\n",
       "      <td>3272</td>\n",
       "      <td>3272</td>\n",
       "      <td>3272</td>\n",
       "      <td>3272</td>\n",
       "    </tr>\n",
       "    <tr>\n",
       "      <th>unique</th>\n",
       "      <td>798</td>\n",
       "      <td>124</td>\n",
       "      <td>131</td>\n",
       "      <td>812</td>\n",
       "      <td>21</td>\n",
       "      <td>818</td>\n",
       "    </tr>\n",
       "    <tr>\n",
       "      <th>top</th>\n",
       "      <td>ale-l21</td>\n",
       "      <td>samsung</td>\n",
       "      <td>samsung</td>\n",
       "      <td>ale-l21</td>\n",
       "      <td>7.0</td>\n",
       "      <td>3.18.14-11104523</td>\n",
       "    </tr>\n",
       "    <tr>\n",
       "      <th>freq</th>\n",
       "      <td>165</td>\n",
       "      <td>1015</td>\n",
       "      <td>1010</td>\n",
       "      <td>165</td>\n",
       "      <td>1007</td>\n",
       "      <td>103</td>\n",
       "    </tr>\n",
       "  </tbody>\n",
       "</table>\n",
       "</div>"
      ],
      "text/plain": [
       "          model    brand manufacturer  product os_version    kernel_version\n",
       "count      3272     3272         3272     3272       3272              3272\n",
       "unique      798      124          131      812         21               818\n",
       "top     ale-l21  samsung      samsung  ale-l21        7.0  3.18.14-11104523\n",
       "freq        165     1015         1010      165       1007               103"
      ]
     },
     "execution_count": 7,
     "metadata": {},
     "output_type": "execute_result"
    }
   ],
   "source": [
    "devices.describe(include=['category'])"
   ]
  },
  {
   "cell_type": "code",
   "execution_count": 8,
   "metadata": {},
   "outputs": [
    {
     "data": {
      "text/html": [
       "<div>\n",
       "<style scoped>\n",
       "    .dataframe tbody tr th:only-of-type {\n",
       "        vertical-align: middle;\n",
       "    }\n",
       "\n",
       "    .dataframe tbody tr th {\n",
       "        vertical-align: top;\n",
       "    }\n",
       "\n",
       "    .dataframe thead th {\n",
       "        text-align: right;\n",
       "    }\n",
       "</style>\n",
       "<table border=\"1\" class=\"dataframe\">\n",
       "  <thead>\n",
       "    <tr style=\"text-align: right;\">\n",
       "      <th></th>\n",
       "      <th>network_status</th>\n",
       "    </tr>\n",
       "  </thead>\n",
       "  <tbody>\n",
       "    <tr>\n",
       "      <th>count</th>\n",
       "      <td>4675251</td>\n",
       "    </tr>\n",
       "    <tr>\n",
       "      <th>unique</th>\n",
       "      <td>20</td>\n",
       "    </tr>\n",
       "    <tr>\n",
       "      <th>top</th>\n",
       "      <td>wifi</td>\n",
       "    </tr>\n",
       "    <tr>\n",
       "      <th>freq</th>\n",
       "      <td>2501504</td>\n",
       "    </tr>\n",
       "  </tbody>\n",
       "</table>\n",
       "</div>"
      ],
      "text/plain": [
       "       network_status\n",
       "count         4675251\n",
       "unique             20\n",
       "top              wifi\n",
       "freq          2501504"
      ]
     },
     "execution_count": 8,
     "metadata": {},
     "output_type": "execute_result"
    }
   ],
   "source": [
    "samples.describe(include=['category'])"
   ]
  },
  {
   "cell_type": "markdown",
   "metadata": {},
   "source": [
    "#### Inspecting *network_status* in greater detail\n",
    "- We can verify that one of the most top values has label `0` which does not provide a meaningful value!"
   ]
  },
  {
   "cell_type": "code",
   "execution_count": 9,
   "metadata": {},
   "outputs": [
    {
     "data": {
      "text/plain": [
       "wifi             2501504\n",
       "disconnected     1391338\n",
       "lte               442568\n",
       "hspap             135349\n",
       "utms               81423\n",
       "0                  41947\n",
       "hspa               36550\n",
       "edge               22484\n",
       "disconnecting      12646\n",
       "hsupa               4238\n",
       "hsdpa               3390\n",
       "gprs                1424\n",
       "connecting           100\n",
       "19                    82\n",
       "20                    76\n",
       "evdo_a                47\n",
       "30                    37\n",
       "1xrtt                 30\n",
       "16                    17\n",
       "18                     1\n",
       "Name: network_status, dtype: int64"
      ]
     },
     "execution_count": 9,
     "metadata": {},
     "output_type": "execute_result"
    }
   ],
   "source": [
    "samples.network_status.value_counts()"
   ]
  },
  {
   "cell_type": "markdown",
   "metadata": {},
   "source": [
    "### How many devices have samples?\n",
    "Lets check what is the percentage of devices that uploaded **at least one sample**.\n",
    "\n",
    "Defining the conversion goal, as the number of resgistered devices that upload samples, we can observe that:\n",
    "\n",
    "The conversion is slightly below 50%, the conversion rate is not very high!"
   ]
  },
  {
   "cell_type": "code",
   "execution_count": 10,
   "metadata": {},
   "outputs": [
    {
     "name": "stdout",
     "output_type": "stream",
     "text": [
      "From a population of 3272 devices, 1609 devices have samples, which represents 49.2%\n"
     ]
    }
   ],
   "source": [
    "percentage = round(100 * samples.device_id.nunique() / devices.shape[0], 1)\n",
    "print('From a population of {0} devices, {1} ' \\\n",
    "      'devices have samples, which represents {2}%'.format(devices.shape[0], samples.device_id.nunique(), percentage))"
   ]
  },
  {
   "cell_type": "markdown",
   "metadata": {},
   "source": [
    "## Visualizing data\n",
    "Visualizing data is crucial for recognizing underlying patterns to exploit in the model.\n",
    "\n",
    "### How are the devices distributed according to brand and OS version?\n",
    "We will plot the main features of the device's model, then we take a look at some of the samples features."
   ]
  },
  {
   "cell_type": "code",
   "execution_count": 11,
   "metadata": {},
   "outputs": [
    {
     "data": {
      "text/plain": [
       "[Text(0,0.5,'# Devices')]"
      ]
     },
     "execution_count": 11,
     "metadata": {},
     "output_type": "execute_result"
    },
    {
     "data": {
      "image/png": "[encoded data removed]",
      "text/plain": [
       "<Figure size 576x432 with 1 Axes>"
      ]
     },
     "metadata": {},
     "output_type": "display_data"
    }
   ],
   "source": [
    "brands = devices.brand.value_counts()\n",
    "pl = brands[0:15].plot(kind='bar', title='Top 15 Brands', figsize=figsize)\n",
    "pl.set(ylabel='# Devices')"
   ]
  },
  {
   "cell_type": "code",
   "execution_count": 12,
   "metadata": {},
   "outputs": [
    {
     "data": {
      "text/plain": [
       "[Text(0,0.5,'# Devices')]"
      ]
     },
     "execution_count": 12,
     "metadata": {},
     "output_type": "execute_result"
    },
    {
     "data": {
      "image/png": "[encoded data removed]",
      "text/plain": [
       "<Figure size 576x432 with 1 Axes>"
      ]
     },
     "metadata": {},
     "output_type": "display_data"
    }
   ],
   "source": [
    "pl = brands[brands.between(10, 50)].plot(kind='bar', title='Less popular brands', figsize=figsize)\n",
    "pl.set(ylabel='# Devices')"
   ]
  },
  {
   "cell_type": "code",
   "execution_count": 13,
   "metadata": {},
   "outputs": [
    {
     "data": {
      "text/plain": [
       "[Text(0,0.5,'# Devices')]"
      ]
     },
     "execution_count": 13,
     "metadata": {},
     "output_type": "execute_result"
    },
    {
     "data": {
      "image/png": "[encoded data removed]",
      "text/plain": [
       "<Figure size 576x432 with 1 Axes>"
      ]
     },
     "metadata": {},
     "output_type": "display_data"
    }
   ],
   "source": [
    "versions = devices.os_version.value_counts()\n",
    "pl = versions[:15].plot(kind='bar', title='Top 15 OS versions', figsize=figsize)\n",
    "pl.set(ylabel='# Devices')"
   ]
  },
  {
   "cell_type": "code",
   "execution_count": 14,
   "metadata": {},
   "outputs": [
    {
     "data": {
      "text/plain": [
       "[Text(0,0.5,'# Devices')]"
      ]
     },
     "execution_count": 14,
     "metadata": {},
     "output_type": "execute_result"
    },
    {
     "data": {
      "image/png": "[encoded data removed]",
      "text/plain": [
       "<Figure size 576x432 with 1 Axes>"
      ]
     },
     "metadata": {},
     "output_type": "display_data"
    }
   ],
   "source": [
    "pl = versions[versions <= 100].plot(kind='bar', title='OS versions with <= 100 devices', figsize=figsize)\n",
    "pl.set(ylabel='# Devices')"
   ]
  },
  {
   "cell_type": "code",
   "execution_count": 15,
   "metadata": {},
   "outputs": [
    {
     "name": "stdout",
     "output_type": "stream",
     "text": [
      "2958 devices do not have root access, while 314 devices are rooted\n"
     ]
    },
    {
     "data": {
      "image/png": "[encoded data removed]",
      "text/plain": [
       "<Figure size 432x288 with 1 Axes>"
      ]
     },
     "metadata": {},
     "output_type": "display_data"
    }
   ],
   "source": [
    "def plot_pie(data, title, labels,\n",
    "                 colors=['#66b3ff','#ff9999','#99ff99','#ffcc99'], explode=(0.05, 0.05, 0.05, 0.05)):\n",
    "    fig1, ax1 = plt.subplots()\n",
    "\n",
    "    ax1.pie(data, colors=colors, labels=labels,\n",
    "            autopct='%1.1f%%', startangle=45, pctdistance=0.85, explode=explode)\n",
    "\n",
    "    #draw circle\n",
    "    centre_circle = plt.Circle((0,0),0.70,fc='white')\n",
    "    fig = plt.gcf()\n",
    "    fig.gca().add_artist(centre_circle)\n",
    "    fig.suptitle(title)\n",
    "\n",
    "    ax1.axis('equal')  \n",
    "    plt.tight_layout()\n",
    "    \n",
    "rooted = devices.is_root.value_counts()\n",
    "plot_pie(rooted, 'Devices with root access', ['No', 'Yes'], ['#66b3ff','#ff9999'], (0.05, 0.05))\n",
    "\n",
    "print('{0} devices do not have root access, while {1} devices are rooted' \\\n",
    "      .format(rooted[0], rooted[1]))"
   ]
  },
  {
   "cell_type": "code",
   "execution_count": 16,
   "metadata": {},
   "outputs": [
    {
     "data": {
      "text/plain": [
       "[Text(0,0.5,'# Samples')]"
      ]
     },
     "execution_count": 16,
     "metadata": {},
     "output_type": "execute_result"
    },
    {
     "data": {
      "image/png": "[encoded data removed]",
      "text/plain": [
       "<Figure size 576x432 with 1 Axes>"
      ]
     },
     "metadata": {},
     "output_type": "display_data"
    }
   ],
   "source": [
    "settings = ['screen_on', 'bluetooth_enabled', 'location_enabled', 'power_saver_enabled', \n",
    "            'nfc_enabled', 'unknown_sources', 'developer_mode', 'wifi_enabled']\n",
    "\n",
    "# Add new setting\n",
    "samples['wifi_enabled'] = (samples['network_status'] == 'wifi').astype(np.uint8)\n",
    "\n",
    "# Frequency on/off per setting\n",
    "freqs = samples[settings].apply(pd.value_counts, axis=0).T\n",
    "freqs.columns = ['Off', 'On']\n",
    "pl = freqs.plot(kind='bar', title='Frequency On/Off per setting', figsize=figsize)\n",
    "pl.set(ylabel='# Samples')"
   ]
  },
  {
   "cell_type": "markdown",
   "metadata": {},
   "source": [
    "### How are devices distributed by conversion rates?"
   ]
  },
  {
   "cell_type": "code",
   "execution_count": 17,
   "metadata": {},
   "outputs": [
    {
     "data": {
      "image/png": "[encoded data removed]",
      "text/plain": [
       "<Figure size 432x288 with 1 Axes>"
      ]
     },
     "metadata": {},
     "output_type": "display_data"
    }
   ],
   "source": [
    "def calculate_blocks(df):\n",
    "    blocks = pd.DataFrame(df)\n",
    "    total = blocks.shape[0]\n",
    "    blocks = blocks[0]\n",
    "    return [\n",
    "        blocks[blocks.between(1, 500)].count(),\n",
    "        blocks[blocks.between(501, 1000)].count(),\n",
    "        blocks[blocks.between(1001, 5000)].count(),\n",
    "        blocks[blocks > 5000].count()\n",
    "    ]\n",
    "\n",
    "blocks = calculate_blocks(samples.groupby('device_id').size())\n",
    "plot_pie(blocks, 'Devices distribution by total samples', ['1-500', '501-1000', '1001-5000', '> 5000'])"
   ]
  },
  {
   "cell_type": "markdown",
   "metadata": {},
   "source": [
    "#### Additionally, we can take a look at the high volume samples results:"
   ]
  },
  {
   "cell_type": "code",
   "execution_count": 18,
   "metadata": {},
   "outputs": [
    {
     "name": "stdout",
     "output_type": "stream",
     "text": [
      "123 devices have more than 10000 samples, that represents 3.8%\n",
      "25  devices have more than 25000 samples, that represents 0.8%\n"
     ]
    }
   ],
   "source": [
    "def calculate_conversion(limit):\n",
    "    df = pd.DataFrame(samples.groupby('device_id').size() > limit, columns=['goal'])\n",
    "    num = df[df.goal].shape[0]\n",
    "    percentage = round(100 * num / devices.shape[0], 1)\n",
    "    print('{0:<3} devices have more than {1} samples, that represents {2}%'.format(num, limit, percentage))\n",
    "\n",
    "calculate_conversion(10000)\n",
    "calculate_conversion(25000)"
   ]
  },
  {
   "cell_type": "markdown",
   "metadata": {},
   "source": [
    "## Transforming Features\n",
    "1. First, add a new feature *wifi_enabled* (done in the previous step), will tell us if a sample has `wifi` value or some other status. This will be necessary to calculate another feature.\n",
    "2. Next, calculate the changes over time and battery level, *time_diff* will be the time passed between each sample and *pct_change* the change percentage compared with the previous sample. The latter can be specially useful to group samples in batches of battery levels.\n",
    "3. We will also add an extra feature *discharging* (`1.0` for discharge state, `0.0` for charge state) which will make it easier to group samples by battery state.\n",
    "4. Combine the settings values into a numeric class, obtained by converting the group of values into a decimal number.\n",
    "5. Lastly, drop useless features. We can drop the settings features since we have the *combination* value."
   ]
  },
  {
   "cell_type": "code",
   "execution_count": 19,
   "metadata": {},
   "outputs": [
    {
     "data": {
      "text/html": [
       "<div>\n",
       "<style scoped>\n",
       "    .dataframe tbody tr th:only-of-type {\n",
       "        vertical-align: middle;\n",
       "    }\n",
       "\n",
       "    .dataframe tbody tr th {\n",
       "        vertical-align: top;\n",
       "    }\n",
       "\n",
       "    .dataframe thead th {\n",
       "        text-align: right;\n",
       "    }\n",
       "</style>\n",
       "<table border=\"1\" class=\"dataframe\">\n",
       "  <thead>\n",
       "    <tr style=\"text-align: right;\">\n",
       "      <th></th>\n",
       "      <th>device_id</th>\n",
       "      <th>timestamp</th>\n",
       "      <th>battery_level</th>\n",
       "      <th>network_status</th>\n",
       "      <th>time_diff</th>\n",
       "      <th>change</th>\n",
       "      <th>discharging</th>\n",
       "      <th>combination</th>\n",
       "    </tr>\n",
       "  </thead>\n",
       "  <tbody>\n",
       "    <tr>\n",
       "      <th>2592753</th>\n",
       "      <td>1765</td>\n",
       "      <td>2018-03-26 19:31:32</td>\n",
       "      <td>1</td>\n",
       "      <td>wifi</td>\n",
       "      <td>00:00:10</td>\n",
       "      <td>0.00</td>\n",
       "      <td>1.0</td>\n",
       "      <td>145</td>\n",
       "    </tr>\n",
       "    <tr>\n",
       "      <th>3624726</th>\n",
       "      <td>2409</td>\n",
       "      <td>2017-10-24 16:29:22</td>\n",
       "      <td>63</td>\n",
       "      <td>wifi</td>\n",
       "      <td>00:01:06</td>\n",
       "      <td>0.02</td>\n",
       "      <td>0.0</td>\n",
       "      <td>33</td>\n",
       "    </tr>\n",
       "    <tr>\n",
       "      <th>3155111</th>\n",
       "      <td>2152</td>\n",
       "      <td>2017-11-01 23:12:42</td>\n",
       "      <td>36</td>\n",
       "      <td>disconnected</td>\n",
       "      <td>00:08:01</td>\n",
       "      <td>-0.03</td>\n",
       "      <td>1.0</td>\n",
       "      <td>152</td>\n",
       "    </tr>\n",
       "    <tr>\n",
       "      <th>1582122</th>\n",
       "      <td>1065</td>\n",
       "      <td>2017-10-27 00:32:56</td>\n",
       "      <td>53</td>\n",
       "      <td>wifi</td>\n",
       "      <td>00:01:08</td>\n",
       "      <td>0.02</td>\n",
       "      <td>0.0</td>\n",
       "      <td>5</td>\n",
       "    </tr>\n",
       "    <tr>\n",
       "      <th>3831041</th>\n",
       "      <td>2528</td>\n",
       "      <td>2017-12-11 21:30:37</td>\n",
       "      <td>42</td>\n",
       "      <td>lte</td>\n",
       "      <td>00:00:39</td>\n",
       "      <td>0.02</td>\n",
       "      <td>0.0</td>\n",
       "      <td>72</td>\n",
       "    </tr>\n",
       "  </tbody>\n",
       "</table>\n",
       "</div>"
      ],
      "text/plain": [
       "         device_id           timestamp  battery_level network_status  \\\n",
       "2592753       1765 2018-03-26 19:31:32              1           wifi   \n",
       "3624726       2409 2017-10-24 16:29:22             63           wifi   \n",
       "3155111       2152 2017-11-01 23:12:42             36   disconnected   \n",
       "1582122       1065 2017-10-27 00:32:56             53           wifi   \n",
       "3831041       2528 2017-12-11 21:30:37             42            lte   \n",
       "\n",
       "        time_diff  change  discharging  combination  \n",
       "2592753  00:00:10    0.00          1.0          145  \n",
       "3624726  00:01:06    0.02          0.0           33  \n",
       "3155111  00:08:01   -0.03          1.0          152  \n",
       "1582122  00:01:08    0.02          0.0            5  \n",
       "3831041  00:00:39    0.02          0.0           72  "
      ]
     },
     "execution_count": 19,
     "metadata": {},
     "output_type": "execute_result"
    }
   ],
   "source": [
    "samples['time_diff'] = samples.timestamp.diff()\n",
    "samples.loc[samples.device_id != samples.device_id.shift(), 'time_diff'] = None\n",
    "\n",
    "samples['change'] = samples.battery_level.pct_change().round(2)\n",
    "samples.loc[samples.device_id != samples.device_id.shift(), 'change'] = None\n",
    "\n",
    "samples['discharging'] = samples.battery_level.shift() >= samples.battery_level\n",
    "samples.loc[samples.device_id != samples.device_id.shift(), 'discharging'] = None\n",
    "\n",
    "samples['combination'] = np.packbits(samples[settings].values, axis=-1)\n",
    "\n",
    "samples = samples.drop(settings, axis=1)\n",
    "\n",
    "samples.sample(5)"
   ]
  },
  {
   "cell_type": "code",
   "execution_count": 20,
   "metadata": {},
   "outputs": [
    {
     "data": {
      "text/plain": [
       "[Text(0,0.5,'# Samples'), Text(0.5,0,'Combinations')]"
      ]
     },
     "execution_count": 20,
     "metadata": {},
     "output_type": "execute_result"
    },
    {
     "data": {
      "image/png": "[encoded data removed]",
      "text/plain": [
       "<Figure size 576x432 with 1 Axes>"
      ]
     },
     "metadata": {},
     "output_type": "display_data"
    }
   ],
   "source": [
    "combs = samples.combination.value_counts().T\n",
    "pl = combs[0:15].plot(kind='bar', title='Top 15 combinations', figsize=figsize)\n",
    "pl.set(xlabel='Combinations', ylabel='# Samples')"
   ]
  },
  {
   "cell_type": "markdown",
   "metadata": {},
   "source": [
    "### How many samples of each type overall and by device?\n",
    "Next, we will group the samples by Device and count the samples of each state charging and discharging.\n",
    "We can also calculate how many devices have each type of sample or even both. We use the *discharging* feature to group them.\n",
    "\n",
    "The number of samples will differ **according to the sample type filter criteria!**"
   ]
  },
  {
   "cell_type": "code",
   "execution_count": 21,
   "metadata": {},
   "outputs": [
    {
     "name": "stdout",
     "output_type": "stream",
     "text": [
      "2365315 are charging samples, while 2308327 are discharging samples\n"
     ]
    },
    {
     "data": {
      "image/png": "[encoded data removed]",
      "text/plain": [
       "<Figure size 432x288 with 1 Axes>"
      ]
     },
     "metadata": {},
     "output_type": "display_data"
    }
   ],
   "source": [
    "types = samples.discharging.value_counts()\n",
    "\n",
    "plot_pie(types, 'Distribution of samples types', ['Charging', 'Discharging'],\n",
    "         ['#66b3ff','#ff9999'], (0.05,0))\n",
    "\n",
    "print('{0} are charging samples, while {1} are discharging samples' \\\n",
    "      .format(types[0], types[1]))"
   ]
  },
  {
   "cell_type": "code",
   "execution_count": 22,
   "metadata": {},
   "outputs": [
    {
     "data": {
      "text/html": [
       "<div>\n",
       "<style scoped>\n",
       "    .dataframe tbody tr th:only-of-type {\n",
       "        vertical-align: middle;\n",
       "    }\n",
       "\n",
       "    .dataframe tbody tr th {\n",
       "        vertical-align: top;\n",
       "    }\n",
       "\n",
       "    .dataframe thead th {\n",
       "        text-align: right;\n",
       "    }\n",
       "</style>\n",
       "<table border=\"1\" class=\"dataframe\">\n",
       "  <thead>\n",
       "    <tr style=\"text-align: right;\">\n",
       "      <th></th>\n",
       "      <th>charging</th>\n",
       "      <th>discharging</th>\n",
       "    </tr>\n",
       "    <tr>\n",
       "      <th>device_id</th>\n",
       "      <th></th>\n",
       "      <th></th>\n",
       "    </tr>\n",
       "  </thead>\n",
       "  <tbody>\n",
       "    <tr>\n",
       "      <th>2453</th>\n",
       "      <td>88</td>\n",
       "      <td>515</td>\n",
       "    </tr>\n",
       "    <tr>\n",
       "      <th>315</th>\n",
       "      <td>1593</td>\n",
       "      <td>1998</td>\n",
       "    </tr>\n",
       "    <tr>\n",
       "      <th>176</th>\n",
       "      <td>244</td>\n",
       "      <td>205</td>\n",
       "    </tr>\n",
       "    <tr>\n",
       "      <th>2243</th>\n",
       "      <td>153</td>\n",
       "      <td>272</td>\n",
       "    </tr>\n",
       "    <tr>\n",
       "      <th>903</th>\n",
       "      <td>367</td>\n",
       "      <td>85</td>\n",
       "    </tr>\n",
       "  </tbody>\n",
       "</table>\n",
       "</div>"
      ],
      "text/plain": [
       "           charging  discharging\n",
       "device_id                       \n",
       "2453             88          515\n",
       "315            1593         1998\n",
       "176             244          205\n",
       "2243            153          272\n",
       "903             367           85"
      ]
     },
     "execution_count": 22,
     "metadata": {},
     "output_type": "execute_result"
    }
   ],
   "source": [
    "stypes = samples.groupby('device_id').discharging.value_counts().unstack().fillna(0)\n",
    "stypes.columns = ['charging', 'discharging']\n",
    "stypes = stypes.astype(np.int)\n",
    "stypes = downcast_ints(stypes)\n",
    "\n",
    "stypes.sample(5)"
   ]
  },
  {
   "cell_type": "code",
   "execution_count": 23,
   "metadata": {},
   "outputs": [
    {
     "name": "stdout",
     "output_type": "stream",
     "text": [
      "1382 devices have both types of samples, 15 only charging samples and 89 just discharging samples.\n",
      "From all 1609 unique devices, 1486 are counted according to the filter criteria.\n"
     ]
    }
   ],
   "source": [
    "both = stypes[(stypes.charging > 0) & (stypes.discharging > 0)].shape[0]\n",
    "c_only = stypes[(stypes.charging > 0) & (stypes.discharging == 0)].shape[0]\n",
    "d_only = stypes[(stypes.charging == 0) & (stypes.discharging > 0)].shape[0]\n",
    "\n",
    "print('{0} devices have both types of samples, {1} only charging ' \\\n",
    "      'samples and {2} just discharging samples.'.format(both, c_only, d_only))\n",
    "\n",
    "print('From all {0} unique devices, {1} are counted ' \\\n",
    "      'according to the filter criteria.' \\\n",
    "      .format(samples.device_id.unique().shape[0], stypes.index.unique().shape[0]))"
   ]
  },
  {
   "cell_type": "markdown",
   "metadata": {},
   "source": [
    "### What is the distribution of samples with consecutive battery levels?\n",
    "- Lets try to split the samples in batches of consecutive battery level values, to better understand, what is an average session of usage for a device.\n",
    "- We will start by selecting only the samples with a **1%** change maximum."
   ]
  },
  {
   "cell_type": "code",
   "execution_count": 24,
   "metadata": {},
   "outputs": [
    {
     "data": {
      "text/plain": [
       "2032035"
      ]
     },
     "execution_count": 24,
     "metadata": {},
     "output_type": "execute_result"
    }
   ],
   "source": [
    "change_interval = samples.change.between(-0.01, 0.01)\n",
    "\n",
    "seqs = samples[change_interval].copy()\n",
    "\n",
    "seqs['consecutive'] = abs(seqs.battery_level.shift() - seqs.battery_level) <= 1\n",
    "seqs.loc[seqs.device_id != seqs.device_id.shift(), 'consecutive'] = False\n",
    "seqs.loc[seqs.discharging != seqs.discharging.shift(), 'consecutive'] = False\n",
    "\n",
    "def batch_len(s):\n",
    "    return s * (s.groupby((s != s.shift()).cumsum()).cumcount() + 1)\n",
    "\n",
    "seqs['batch'] = batch_len(seqs.consecutive)\n",
    "\n",
    "seqs.shape[0]"
   ]
  },
  {
   "cell_type": "code",
   "execution_count": null,
   "metadata": {},
   "outputs": [],
   "source": []
  }
 ],
 "metadata": {
  "kernelspec": {
   "display_name": "Python 3",
   "language": "python",
   "name": "python3"
  },
  "language_info": {
   "codemirror_mode": {
    "name": "ipython",
    "version": 3
   },
   "file_extension": ".py",
   "mimetype": "text/x-python",
   "name": "python",
   "nbconvert_exporter": "python",
   "pygments_lexer": "ipython3",
   "version": "3.5.2"
  }
 },
 "nbformat": 4,
 "nbformat_minor": 2
}
