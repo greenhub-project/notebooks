{
 "cells": [
  {
   "cell_type": "markdown",
   "metadata": {},
   "source": [
    "# Study Case A\n",
    "This notebook will showcase an overview of the Devices and Samples models, displaying statistical summaries and distribuitions for each model. Afterwards, we will add new features in attempt to answer the proposed questions.\n",
    "\n",
    "## Questions and problem definition\n",
    "**[WIP]** Define the problem and its questions"
   ]
  },
  {
   "cell_type": "code",
   "execution_count": 1,
   "metadata": {},
   "outputs": [],
   "source": [
    "# data analysis and wrangling\n",
    "import pandas as pd\n",
    "import numpy as np\n",
    "import pyarrow.parquet as pq\n",
    "\n",
    "# visualization\n",
    "import matplotlib.pyplot as plt\n",
    "import seaborn as sns\n",
    "%matplotlib inline\n",
    "\n",
    "# configure visualizations\n",
    "sns.set_style('whitegrid')\n",
    "figsize=(8,6)\n",
    "\n",
    "\n",
    "# helper functions\n",
    "def load_df(path, columns=None, nthreads=4, strings_to_categorical=True):\n",
    "    try:\n",
    "        table = pq.read_table(path, columns=columns, nthreads=nthreads)\n",
    "        return table.to_pandas(strings_to_categorical=strings_to_categorical)\n",
    "    except Exception as e:\n",
    "        print(e)\n",
    "\n",
    "def downcast_ints(df):\n",
    "    # downcast int types\n",
    "    df_int = df.select_dtypes(include=['int'])\n",
    "    converted_int = df_int.apply(pd.to_numeric, downcast='unsigned')\n",
    "    df[converted_int.columns] = converted_int\n",
    "    return df\n",
    "        \n",
    "def prepare_devices(path):\n",
    "    cols = ['id', 'model', 'brand', 'manufacturer', 'product', 'os_version', 'kernel_version', 'is_root']\n",
    "    return load_df(path, cols)\n",
    "        \n",
    "def prepare_samples(path):\n",
    "    cols = ['device_id', 'timestamp', 'battery_level', 'network_status', 'screen_on', \n",
    "            'bluetooth_enabled', 'location_enabled', 'power_saver_enabled', 'nfc_enabled',\n",
    "            'unknown_sources', 'developer_mode']\n",
    "    \n",
    "    # sorted by [device_id, timestamp]\n",
    "    df = load_df(path, cols)\n",
    "\n",
    "    df = df.reset_index(drop=True)\n",
    "\n",
    "    df = downcast_ints(df)\n",
    "    \n",
    "    return df"
   ]
  },
  {
   "cell_type": "markdown",
   "metadata": {},
   "source": [
    "## Acquire data\n",
    "After importing the necessary libraries, we load the files into dataframes. The *samples* data was sorted beforehand by *device_id* and *timestamp*."
   ]
  },
  {
   "cell_type": "code",
   "execution_count": 2,
   "metadata": {},
   "outputs": [],
   "source": [
    "devices = prepare_devices('../src/devices.parquet')\n",
    "samples = prepare_samples('../src/samples.parquet')"
   ]
  },
  {
   "cell_type": "markdown",
   "metadata": {},
   "source": [
    "## Analyze by describing data\n",
    "To better understand the data, we will start by looking at a sample of the data."
   ]
  },
  {
   "cell_type": "code",
   "execution_count": 3,
   "metadata": {},
   "outputs": [
    {
     "data": {
      "text/html": [
       "<div>\n",
       "<style scoped>\n",
       "    .dataframe tbody tr th:only-of-type {\n",
       "        vertical-align: middle;\n",
       "    }\n",
       "\n",
       "    .dataframe tbody tr th {\n",
       "        vertical-align: top;\n",
       "    }\n",
       "\n",
       "    .dataframe thead th {\n",
       "        text-align: right;\n",
       "    }\n",
       "</style>\n",
       "<table border=\"1\" class=\"dataframe\">\n",
       "  <thead>\n",
       "    <tr style=\"text-align: right;\">\n",
       "      <th></th>\n",
       "      <th>id</th>\n",
       "      <th>model</th>\n",
       "      <th>brand</th>\n",
       "      <th>manufacturer</th>\n",
       "      <th>product</th>\n",
       "      <th>os_version</th>\n",
       "      <th>kernel_version</th>\n",
       "      <th>is_root</th>\n",
       "    </tr>\n",
       "  </thead>\n",
       "  <tbody>\n",
       "    <tr>\n",
       "      <th>563</th>\n",
       "      <td>564</td>\n",
       "      <td>sm-j510fn</td>\n",
       "      <td>samsung</td>\n",
       "      <td>samsung</td>\n",
       "      <td>j5xnltexx</td>\n",
       "      <td>6.0.1</td>\n",
       "      <td>3.10.49-11903637</td>\n",
       "      <td>0</td>\n",
       "    </tr>\n",
       "    <tr>\n",
       "      <th>2634</th>\n",
       "      <td>2635</td>\n",
       "      <td>sm-g925i</td>\n",
       "      <td>samsung</td>\n",
       "      <td>samsung</td>\n",
       "      <td>zeroltedv</td>\n",
       "      <td>7.0</td>\n",
       "      <td>3.10.61-11965133</td>\n",
       "      <td>0</td>\n",
       "    </tr>\n",
       "    <tr>\n",
       "      <th>878</th>\n",
       "      <td>879</td>\n",
       "      <td>sm-g930f</td>\n",
       "      <td>samsung</td>\n",
       "      <td>samsung</td>\n",
       "      <td>heroltexx</td>\n",
       "      <td>7.0</td>\n",
       "      <td>3.18.14-11104523</td>\n",
       "      <td>0</td>\n",
       "    </tr>\n",
       "    <tr>\n",
       "      <th>652</th>\n",
       "      <td>653</td>\n",
       "      <td>sm-t530</td>\n",
       "      <td>samsung</td>\n",
       "      <td>samsung</td>\n",
       "      <td>matissewifixx</td>\n",
       "      <td>5.0.2</td>\n",
       "      <td>3.4.0-10239154</td>\n",
       "      <td>0</td>\n",
       "    </tr>\n",
       "    <tr>\n",
       "      <th>3007</th>\n",
       "      <td>3008</td>\n",
       "      <td>e-boda sunny v37</td>\n",
       "      <td>e-boda</td>\n",
       "      <td>e-boda</td>\n",
       "      <td>e-boda_sunny_v37</td>\n",
       "      <td>4.4.2</td>\n",
       "      <td>3.4.67</td>\n",
       "      <td>1</td>\n",
       "    </tr>\n",
       "  </tbody>\n",
       "</table>\n",
       "</div>"
      ],
      "text/plain": [
       "        id             model    brand manufacturer           product  \\\n",
       "563    564         sm-j510fn  samsung      samsung         j5xnltexx   \n",
       "2634  2635          sm-g925i  samsung      samsung         zeroltedv   \n",
       "878    879          sm-g930f  samsung      samsung         heroltexx   \n",
       "652    653           sm-t530  samsung      samsung     matissewifixx   \n",
       "3007  3008  e-boda sunny v37   e-boda       e-boda  e-boda_sunny_v37   \n",
       "\n",
       "     os_version    kernel_version  is_root  \n",
       "563       6.0.1  3.10.49-11903637        0  \n",
       "2634        7.0  3.10.61-11965133        0  \n",
       "878         7.0  3.18.14-11104523        0  \n",
       "652       5.0.2    3.4.0-10239154        0  \n",
       "3007      4.4.2            3.4.67        1  "
      ]
     },
     "execution_count": 3,
     "metadata": {},
     "output_type": "execute_result"
    }
   ],
   "source": [
    "devices.sample(5)"
   ]
  },
  {
   "cell_type": "code",
   "execution_count": 4,
   "metadata": {},
   "outputs": [
    {
     "data": {
      "text/html": [
       "<div>\n",
       "<style scoped>\n",
       "    .dataframe tbody tr th:only-of-type {\n",
       "        vertical-align: middle;\n",
       "    }\n",
       "\n",
       "    .dataframe tbody tr th {\n",
       "        vertical-align: top;\n",
       "    }\n",
       "\n",
       "    .dataframe thead th {\n",
       "        text-align: right;\n",
       "    }\n",
       "</style>\n",
       "<table border=\"1\" class=\"dataframe\">\n",
       "  <thead>\n",
       "    <tr style=\"text-align: right;\">\n",
       "      <th></th>\n",
       "      <th>device_id</th>\n",
       "      <th>timestamp</th>\n",
       "      <th>battery_level</th>\n",
       "      <th>network_status</th>\n",
       "      <th>screen_on</th>\n",
       "      <th>bluetooth_enabled</th>\n",
       "      <th>location_enabled</th>\n",
       "      <th>power_saver_enabled</th>\n",
       "      <th>nfc_enabled</th>\n",
       "      <th>unknown_sources</th>\n",
       "      <th>developer_mode</th>\n",
       "    </tr>\n",
       "  </thead>\n",
       "  <tbody>\n",
       "    <tr>\n",
       "      <th>1090624</th>\n",
       "      <td>700</td>\n",
       "      <td>2017-10-23 00:17:26</td>\n",
       "      <td>28</td>\n",
       "      <td>disconnected</td>\n",
       "      <td>0</td>\n",
       "      <td>0</td>\n",
       "      <td>0</td>\n",
       "      <td>0</td>\n",
       "      <td>0</td>\n",
       "      <td>0</td>\n",
       "      <td>0</td>\n",
       "    </tr>\n",
       "    <tr>\n",
       "      <th>3829101</th>\n",
       "      <td>2596</td>\n",
       "      <td>2017-11-22 11:28:57</td>\n",
       "      <td>88</td>\n",
       "      <td>disconnected</td>\n",
       "      <td>0</td>\n",
       "      <td>0</td>\n",
       "      <td>1</td>\n",
       "      <td>0</td>\n",
       "      <td>0</td>\n",
       "      <td>1</td>\n",
       "      <td>0</td>\n",
       "    </tr>\n",
       "    <tr>\n",
       "      <th>1796566</th>\n",
       "      <td>1229</td>\n",
       "      <td>2017-11-08 09:03:46</td>\n",
       "      <td>51</td>\n",
       "      <td>wifi</td>\n",
       "      <td>1</td>\n",
       "      <td>0</td>\n",
       "      <td>0</td>\n",
       "      <td>0</td>\n",
       "      <td>0</td>\n",
       "      <td>0</td>\n",
       "      <td>0</td>\n",
       "    </tr>\n",
       "    <tr>\n",
       "      <th>3373832</th>\n",
       "      <td>2310</td>\n",
       "      <td>2017-11-27 05:08:42</td>\n",
       "      <td>52</td>\n",
       "      <td>wifi</td>\n",
       "      <td>0</td>\n",
       "      <td>0</td>\n",
       "      <td>1</td>\n",
       "      <td>1</td>\n",
       "      <td>0</td>\n",
       "      <td>0</td>\n",
       "      <td>0</td>\n",
       "    </tr>\n",
       "    <tr>\n",
       "      <th>625478</th>\n",
       "      <td>354</td>\n",
       "      <td>2017-10-28 11:33:06</td>\n",
       "      <td>62</td>\n",
       "      <td>wifi</td>\n",
       "      <td>1</td>\n",
       "      <td>0</td>\n",
       "      <td>0</td>\n",
       "      <td>0</td>\n",
       "      <td>0</td>\n",
       "      <td>1</td>\n",
       "      <td>0</td>\n",
       "    </tr>\n",
       "  </tbody>\n",
       "</table>\n",
       "</div>"
      ],
      "text/plain": [
       "         device_id           timestamp  battery_level network_status  \\\n",
       "1090624        700 2017-10-23 00:17:26             28   disconnected   \n",
       "3829101       2596 2017-11-22 11:28:57             88   disconnected   \n",
       "1796566       1229 2017-11-08 09:03:46             51           wifi   \n",
       "3373832       2310 2017-11-27 05:08:42             52           wifi   \n",
       "625478         354 2017-10-28 11:33:06             62           wifi   \n",
       "\n",
       "         screen_on  bluetooth_enabled  location_enabled  power_saver_enabled  \\\n",
       "1090624          0                  0                 0                    0   \n",
       "3829101          0                  0                 1                    0   \n",
       "1796566          1                  0                 0                    0   \n",
       "3373832          0                  0                 1                    1   \n",
       "625478           1                  0                 0                    0   \n",
       "\n",
       "         nfc_enabled  unknown_sources  developer_mode  \n",
       "1090624            0                0               0  \n",
       "3829101            0                1               0  \n",
       "1796566            0                0               0  \n",
       "3373832            0                0               0  \n",
       "625478             0                1               0  "
      ]
     },
     "execution_count": 4,
     "metadata": {},
     "output_type": "execute_result"
    }
   ],
   "source": [
    "samples.sample(5)"
   ]
  },
  {
   "cell_type": "markdown",
   "metadata": {},
   "source": [
    "### What are the data types for the various features?\n",
    "#### Devices\n",
    "- Six features are categories which represent device's specs.\n",
    "- *is_root* is a boolean variable that indicates whether the device has root access.\n",
    "\n",
    "#### Samples\n",
    "- The last seven features are booleans, these are each device's settings.\n",
    "- The remaining features will be useful to group the data into different subsets."
   ]
  },
  {
   "cell_type": "code",
   "execution_count": 5,
   "metadata": {},
   "outputs": [
    {
     "name": "stdout",
     "output_type": "stream",
     "text": [
      "<class 'pandas.core.frame.DataFrame'>\n",
      "RangeIndex: 3265 entries, 0 to 3264\n",
      "Data columns (total 8 columns):\n",
      "id                3265 non-null uint16\n",
      "model             3265 non-null category\n",
      "brand             3265 non-null category\n",
      "manufacturer      3265 non-null category\n",
      "product           3265 non-null category\n",
      "os_version        3265 non-null category\n",
      "kernel_version    3265 non-null category\n",
      "is_root           3265 non-null uint8\n",
      "dtypes: category(6), uint16(1), uint8(1)\n",
      "memory usage: 193.3 KB\n"
     ]
    }
   ],
   "source": [
    "devices.info()"
   ]
  },
  {
   "cell_type": "code",
   "execution_count": 6,
   "metadata": {},
   "outputs": [
    {
     "name": "stdout",
     "output_type": "stream",
     "text": [
      "<class 'pandas.core.frame.DataFrame'>\n",
      "RangeIndex: 4587326 entries, 0 to 4587325\n",
      "Data columns (total 11 columns):\n",
      "device_id              uint16\n",
      "timestamp              datetime64[ns]\n",
      "battery_level          uint8\n",
      "network_status         category\n",
      "screen_on              uint8\n",
      "bluetooth_enabled      uint8\n",
      "location_enabled       uint8\n",
      "power_saver_enabled    uint8\n",
      "nfc_enabled            uint8\n",
      "unknown_sources        uint8\n",
      "developer_mode         uint8\n",
      "dtypes: category(1), datetime64[ns](1), uint16(1), uint8(8)\n",
      "memory usage: 83.1 MB\n"
     ]
    }
   ],
   "source": [
    "samples.info()"
   ]
  },
  {
   "cell_type": "markdown",
   "metadata": {},
   "source": [
    "### What is the distribution of categorical features?"
   ]
  },
  {
   "cell_type": "code",
   "execution_count": 7,
   "metadata": {},
   "outputs": [
    {
     "data": {
      "text/html": [
       "<div>\n",
       "<style scoped>\n",
       "    .dataframe tbody tr th:only-of-type {\n",
       "        vertical-align: middle;\n",
       "    }\n",
       "\n",
       "    .dataframe tbody tr th {\n",
       "        vertical-align: top;\n",
       "    }\n",
       "\n",
       "    .dataframe thead th {\n",
       "        text-align: right;\n",
       "    }\n",
       "</style>\n",
       "<table border=\"1\" class=\"dataframe\">\n",
       "  <thead>\n",
       "    <tr style=\"text-align: right;\">\n",
       "      <th></th>\n",
       "      <th>model</th>\n",
       "      <th>brand</th>\n",
       "      <th>manufacturer</th>\n",
       "      <th>product</th>\n",
       "      <th>os_version</th>\n",
       "      <th>kernel_version</th>\n",
       "    </tr>\n",
       "  </thead>\n",
       "  <tbody>\n",
       "    <tr>\n",
       "      <th>count</th>\n",
       "      <td>3265</td>\n",
       "      <td>3265</td>\n",
       "      <td>3265</td>\n",
       "      <td>3265</td>\n",
       "      <td>3265</td>\n",
       "      <td>3265</td>\n",
       "    </tr>\n",
       "    <tr>\n",
       "      <th>unique</th>\n",
       "      <td>798</td>\n",
       "      <td>124</td>\n",
       "      <td>131</td>\n",
       "      <td>812</td>\n",
       "      <td>21</td>\n",
       "      <td>816</td>\n",
       "    </tr>\n",
       "    <tr>\n",
       "      <th>top</th>\n",
       "      <td>ale-l21</td>\n",
       "      <td>samsung</td>\n",
       "      <td>samsung</td>\n",
       "      <td>ale-l21</td>\n",
       "      <td>7.0</td>\n",
       "      <td>3.18.14-11104523</td>\n",
       "    </tr>\n",
       "    <tr>\n",
       "      <th>freq</th>\n",
       "      <td>165</td>\n",
       "      <td>1011</td>\n",
       "      <td>1006</td>\n",
       "      <td>165</td>\n",
       "      <td>1007</td>\n",
       "      <td>103</td>\n",
       "    </tr>\n",
       "  </tbody>\n",
       "</table>\n",
       "</div>"
      ],
      "text/plain": [
       "          model    brand manufacturer  product os_version    kernel_version\n",
       "count      3265     3265         3265     3265       3265              3265\n",
       "unique      798      124          131      812         21               816\n",
       "top     ale-l21  samsung      samsung  ale-l21        7.0  3.18.14-11104523\n",
       "freq        165     1011         1006      165       1007               103"
      ]
     },
     "execution_count": 7,
     "metadata": {},
     "output_type": "execute_result"
    }
   ],
   "source": [
    "devices.describe(include=['category'])"
   ]
  },
  {
   "cell_type": "code",
   "execution_count": 8,
   "metadata": {},
   "outputs": [
    {
     "data": {
      "text/html": [
       "<div>\n",
       "<style scoped>\n",
       "    .dataframe tbody tr th:only-of-type {\n",
       "        vertical-align: middle;\n",
       "    }\n",
       "\n",
       "    .dataframe tbody tr th {\n",
       "        vertical-align: top;\n",
       "    }\n",
       "\n",
       "    .dataframe thead th {\n",
       "        text-align: right;\n",
       "    }\n",
       "</style>\n",
       "<table border=\"1\" class=\"dataframe\">\n",
       "  <thead>\n",
       "    <tr style=\"text-align: right;\">\n",
       "      <th></th>\n",
       "      <th>network_status</th>\n",
       "    </tr>\n",
       "  </thead>\n",
       "  <tbody>\n",
       "    <tr>\n",
       "      <th>count</th>\n",
       "      <td>4587326</td>\n",
       "    </tr>\n",
       "    <tr>\n",
       "      <th>unique</th>\n",
       "      <td>20</td>\n",
       "    </tr>\n",
       "    <tr>\n",
       "      <th>top</th>\n",
       "      <td>wifi</td>\n",
       "    </tr>\n",
       "    <tr>\n",
       "      <th>freq</th>\n",
       "      <td>2458197</td>\n",
       "    </tr>\n",
       "  </tbody>\n",
       "</table>\n",
       "</div>"
      ],
      "text/plain": [
       "       network_status\n",
       "count         4587326\n",
       "unique             20\n",
       "top              wifi\n",
       "freq          2458197"
      ]
     },
     "execution_count": 8,
     "metadata": {},
     "output_type": "execute_result"
    }
   ],
   "source": [
    "samples.describe(include=['category'])"
   ]
  },
  {
   "cell_type": "markdown",
   "metadata": {},
   "source": [
    "#### Inspecting *network_status* in greater detail\n",
    "- We can verify that one of the most top values has label `0` which does not provide a meaningful value!"
   ]
  },
  {
   "cell_type": "code",
   "execution_count": 9,
   "metadata": {},
   "outputs": [
    {
     "data": {
      "text/plain": [
       "wifi             2458197\n",
       "disconnected     1360836\n",
       "lte               433236\n",
       "hspap             133264\n",
       "utms               79950\n",
       "0                  41508\n",
       "hspa               36341\n",
       "edge               22118\n",
       "disconnecting      12470\n",
       "hsupa               4228\n",
       "hsdpa               3377\n",
       "gprs                1421\n",
       "connecting            99\n",
       "19                    78\n",
       "20                    71\n",
       "evdo_a                47\n",
       "30                    37\n",
       "1xrtt                 30\n",
       "16                    17\n",
       "18                     1\n",
       "Name: network_status, dtype: int64"
      ]
     },
     "execution_count": 9,
     "metadata": {},
     "output_type": "execute_result"
    }
   ],
   "source": [
    "samples.network_status.value_counts()"
   ]
  },
  {
   "cell_type": "markdown",
   "metadata": {},
   "source": [
    "### How many devices have samples?\n",
    "Lets check what is the percentage of devices that uploaded **at least one sample**.\n",
    "\n",
    "Defining the conversion goal, as the number of resgistered devices that upload samples, we can observe that:\n",
    "\n",
    "The conversion is slightly below 50%, the conversion rate is not very high!"
   ]
  },
  {
   "cell_type": "code",
   "execution_count": 10,
   "metadata": {},
   "outputs": [
    {
     "name": "stdout",
     "output_type": "stream",
     "text": [
      "From a population of 3265 devices, 1597 devices have samples, which represents 48.9%\n"
     ]
    }
   ],
   "source": [
    "percentage = round(100 * samples.device_id.nunique() / devices.shape[0], 1)\n",
    "print('From a population of {0} devices, {1} ' \\\n",
    "      'devices have samples, which represents {2}%'.format(devices.shape[0], samples.device_id.nunique(), percentage))"
   ]
  },
  {
   "cell_type": "markdown",
   "metadata": {},
   "source": [
    "#### Additionally, we can calculate a few more conversion rates:"
   ]
  },
  {
   "cell_type": "code",
   "execution_count": 11,
   "metadata": {},
   "outputs": [
    {
     "name": "stdout",
     "output_type": "stream",
     "text": [
      "1137 devices have more than 100 samples, that represents 34.8%\n",
      "693 devices have more than 1000 samples, that represents 21.2%\n"
     ]
    }
   ],
   "source": [
    "def calculate_conversion(limit):\n",
    "    df = pd.DataFrame(samples.groupby('device_id').size() > limit, columns=['goal'])\n",
    "    num = df[df.goal].shape[0]\n",
    "    percentage = round(100 * num / devices.shape[0], 1)\n",
    "    print('{0} devices have more than {1} samples, that represents {2}%'.format(num, limit, percentage))\n",
    "\n",
    "calculate_conversion(100)\n",
    "calculate_conversion(1000)"
   ]
  },
  {
   "cell_type": "markdown",
   "metadata": {},
   "source": [
    "## Visualizing data\n",
    "Visualizing data is crucial for recognizing underlying patterns to exploit in the model.\n",
    "\n",
    "### How are the devices distributed according to brand and OS version?\n",
    "We will plot the main features of the device's model, then we take a look at the sampling distribution."
   ]
  },
  {
   "cell_type": "code",
   "execution_count": 12,
   "metadata": {},
   "outputs": [
    {
     "data": {
      "text/plain": [
       "[Text(0,0.5,'# Devices')]"
      ]
     },
     "execution_count": 12,
     "metadata": {},
     "output_type": "execute_result"
    },
    {
     "data": {
      "image/png": "[encoded data removed]",
      "text/plain": [
       "<Figure size 576x432 with 1 Axes>"
      ]
     },
     "metadata": {},
     "output_type": "display_data"
    }
   ],
   "source": [
    "brands = devices.brand.value_counts()\n",
    "pl = brands[0:15].plot(kind='bar', title='Top 15 Brands', figsize=figsize)\n",
    "pl.set(ylabel='# Devices')"
   ]
  },
  {
   "cell_type": "code",
   "execution_count": 13,
   "metadata": {},
   "outputs": [
    {
     "data": {
      "text/plain": [
       "[Text(0,0.5,'# Devices')]"
      ]
     },
     "execution_count": 13,
     "metadata": {},
     "output_type": "execute_result"
    },
    {
     "data": {
      "image/png": "[encoded data removed]",
      "text/plain": [
       "<Figure size 576x432 with 1 Axes>"
      ]
     },
     "metadata": {},
     "output_type": "display_data"
    }
   ],
   "source": [
    "pl = brands[brands.between(10, 50)].plot(kind='bar', title='Less popular brands', figsize=figsize)\n",
    "pl.set(ylabel='# Devices')"
   ]
  },
  {
   "cell_type": "code",
   "execution_count": 14,
   "metadata": {},
   "outputs": [
    {
     "data": {
      "text/plain": [
       "[Text(0,0.5,'# Devices')]"
      ]
     },
     "execution_count": 14,
     "metadata": {},
     "output_type": "execute_result"
    },
    {
     "data": {
      "image/png": "[encoded data removed]",
      "text/plain": [
       "<Figure size 576x432 with 1 Axes>"
      ]
     },
     "metadata": {},
     "output_type": "display_data"
    }
   ],
   "source": [
    "versions = devices.os_version.value_counts()\n",
    "pl = versions[:15].plot(kind='bar', title='Top 15 OS versions', figsize=figsize)\n",
    "pl.set(ylabel='# Devices')"
   ]
  },
  {
   "cell_type": "code",
   "execution_count": 15,
   "metadata": {},
   "outputs": [
    {
     "data": {
      "text/plain": [
       "[Text(0,0.5,'# Devices')]"
      ]
     },
     "execution_count": 15,
     "metadata": {},
     "output_type": "execute_result"
    },
    {
     "data": {
      "image/png": "[encoded data removed]",
      "text/plain": [
       "<Figure size 576x432 with 1 Axes>"
      ]
     },
     "metadata": {},
     "output_type": "display_data"
    }
   ],
   "source": [
    "pl = versions[versions <= 100].plot(kind='bar', title='OS versions with <= 100 devices', figsize=figsize)\n",
    "pl.set(ylabel='# Devices')"
   ]
  },
  {
   "cell_type": "code",
   "execution_count": 16,
   "metadata": {},
   "outputs": [
    {
     "data": {
      "image/png": "[encoded data removed]",
      "text/plain": [
       "<Figure size 432x288 with 1 Axes>"
      ]
     },
     "metadata": {},
     "output_type": "display_data"
    }
   ],
   "source": [
    "def plot_pie(data, labels, title, explode=(0.05, 0.05)):\n",
    "    fig1, ax1 = plt.subplots()\n",
    "\n",
    "    colors = ['#66b3ff', '#ff9999']\n",
    "\n",
    "    ax1.pie(data, colors=colors, labels=labels,\n",
    "            autopct='%1.1f%%', startangle=45, pctdistance=0.85, explode=explode)\n",
    "\n",
    "    #draw circle\n",
    "    centre_circle = plt.Circle((0,0),0.70,fc='white')\n",
    "    fig = plt.gcf()\n",
    "    fig.gca().add_artist(centre_circle)\n",
    "    fig.suptitle(title)\n",
    "\n",
    "    ax1.axis('equal')  \n",
    "    plt.tight_layout()\n",
    "    \n",
    "plot_pie(devices.is_root.value_counts(), ['No', 'Yes'], 'Devices with root access')"
   ]
  },
  {
   "cell_type": "code",
   "execution_count": 17,
   "metadata": {},
   "outputs": [
    {
     "data": {
      "text/plain": [
       "[Text(0,0.5,'# Samples')]"
      ]
     },
     "execution_count": 17,
     "metadata": {},
     "output_type": "execute_result"
    },
    {
     "data": {
      "image/png": "[encoded data removed]",
      "text/plain": [
       "<Figure size 576x432 with 1 Axes>"
      ]
     },
     "metadata": {},
     "output_type": "display_data"
    }
   ],
   "source": [
    "settings = ['screen_on', 'bluetooth_enabled', 'location_enabled', 'power_saver_enabled', \n",
    "            'nfc_enabled', 'unknown_sources', 'developer_mode', 'wifi_enabled']\n",
    "\n",
    "# Add new setting\n",
    "samples['wifi_enabled'] = (samples['network_status'] == 'wifi').astype(np.uint8)\n",
    "\n",
    "# Frequency on/off per setting\n",
    "freqs = samples[settings].apply(pd.value_counts, axis=0).T\n",
    "freqs.columns = ['Off', 'On']\n",
    "pl = freqs.plot(kind='bar', title='Frequency On/Off per setting', figsize=figsize)\n",
    "pl.set(ylabel='# Samples')"
   ]
  },
  {
   "cell_type": "markdown",
   "metadata": {},
   "source": [
    "## Transforming Features\n",
    "1. First, add a new feature *wifi_enabled* (done in the previous step), will tell us if a sample has `wifi` value or some other status. This will be necessary to calculate another feature.\n",
    "2. Next, calculate the changes over time and battery level, *time_diff* will be the time passed between each sample and *pct_change* the change percentage compared with the previous sample. The latter can be specially useful to group samples in batches of battery levels.\n",
    "3. We will also add an extra feature *discharging* (`1.0` for discharge state, `0.0` for charge state) which will make it easier to group samples by battery state.\n",
    "4. Combine the settings values into a numeric class, obtained by converting the group of values into a decimal number.\n",
    "5. Lastly, drop useless features. We can drop the settings features since we have the *combination* value."
   ]
  },
  {
   "cell_type": "code",
   "execution_count": 18,
   "metadata": {},
   "outputs": [
    {
     "data": {
      "text/html": [
       "<div>\n",
       "<style scoped>\n",
       "    .dataframe tbody tr th:only-of-type {\n",
       "        vertical-align: middle;\n",
       "    }\n",
       "\n",
       "    .dataframe tbody tr th {\n",
       "        vertical-align: top;\n",
       "    }\n",
       "\n",
       "    .dataframe thead th {\n",
       "        text-align: right;\n",
       "    }\n",
       "</style>\n",
       "<table border=\"1\" class=\"dataframe\">\n",
       "  <thead>\n",
       "    <tr style=\"text-align: right;\">\n",
       "      <th></th>\n",
       "      <th>device_id</th>\n",
       "      <th>timestamp</th>\n",
       "      <th>battery_level</th>\n",
       "      <th>network_status</th>\n",
       "      <th>time_diff</th>\n",
       "      <th>change</th>\n",
       "      <th>discharging</th>\n",
       "      <th>combination</th>\n",
       "    </tr>\n",
       "  </thead>\n",
       "  <tbody>\n",
       "    <tr>\n",
       "      <th>4091830</th>\n",
       "      <td>2720</td>\n",
       "      <td>2018-01-23 18:46:59</td>\n",
       "      <td>32</td>\n",
       "      <td>hspa</td>\n",
       "      <td>00:00:30</td>\n",
       "      <td>-0.03</td>\n",
       "      <td>1.0</td>\n",
       "      <td>40</td>\n",
       "    </tr>\n",
       "    <tr>\n",
       "      <th>2935252</th>\n",
       "      <td>2046</td>\n",
       "      <td>2017-10-27 23:36:40</td>\n",
       "      <td>16</td>\n",
       "      <td>wifi</td>\n",
       "      <td>00:01:31</td>\n",
       "      <td>0.07</td>\n",
       "      <td>0.0</td>\n",
       "      <td>39</td>\n",
       "    </tr>\n",
       "    <tr>\n",
       "      <th>1882356</th>\n",
       "      <td>1290</td>\n",
       "      <td>2018-01-20 14:56:14</td>\n",
       "      <td>61</td>\n",
       "      <td>wifi</td>\n",
       "      <td>00:01:10</td>\n",
       "      <td>0.02</td>\n",
       "      <td>0.0</td>\n",
       "      <td>97</td>\n",
       "    </tr>\n",
       "    <tr>\n",
       "      <th>780005</th>\n",
       "      <td>430</td>\n",
       "      <td>2017-10-28 05:41:49</td>\n",
       "      <td>36</td>\n",
       "      <td>wifi</td>\n",
       "      <td>01:27:56</td>\n",
       "      <td>-0.14</td>\n",
       "      <td>1.0</td>\n",
       "      <td>237</td>\n",
       "    </tr>\n",
       "    <tr>\n",
       "      <th>3471182</th>\n",
       "      <td>2344</td>\n",
       "      <td>2017-10-20 03:51:19</td>\n",
       "      <td>60</td>\n",
       "      <td>disconnected</td>\n",
       "      <td>05:49:15</td>\n",
       "      <td>-0.02</td>\n",
       "      <td>1.0</td>\n",
       "      <td>8</td>\n",
       "    </tr>\n",
       "  </tbody>\n",
       "</table>\n",
       "</div>"
      ],
      "text/plain": [
       "         device_id           timestamp  battery_level network_status  \\\n",
       "4091830       2720 2018-01-23 18:46:59             32           hspa   \n",
       "2935252       2046 2017-10-27 23:36:40             16           wifi   \n",
       "1882356       1290 2018-01-20 14:56:14             61           wifi   \n",
       "780005         430 2017-10-28 05:41:49             36           wifi   \n",
       "3471182       2344 2017-10-20 03:51:19             60   disconnected   \n",
       "\n",
       "        time_diff  change  discharging  combination  \n",
       "4091830  00:00:30   -0.03          1.0           40  \n",
       "2935252  00:01:31    0.07          0.0           39  \n",
       "1882356  00:01:10    0.02          0.0           97  \n",
       "780005   01:27:56   -0.14          1.0          237  \n",
       "3471182  05:49:15   -0.02          1.0            8  "
      ]
     },
     "execution_count": 18,
     "metadata": {},
     "output_type": "execute_result"
    }
   ],
   "source": [
    "samples['time_diff'] = samples.timestamp.diff()\n",
    "samples.loc[samples.device_id != samples.device_id.shift(), 'time_diff'] = None\n",
    "\n",
    "samples['change'] = samples.battery_level.pct_change().round(2)\n",
    "samples.loc[samples.device_id != samples.device_id.shift(), 'change'] = None\n",
    "\n",
    "samples['discharging'] = samples.battery_level.shift() >= samples.battery_level\n",
    "samples.loc[samples.device_id != samples.device_id.shift(), 'discharging'] = None\n",
    "\n",
    "samples['combination'] = np.packbits(samples[settings].values, axis=-1)\n",
    "\n",
    "samples = samples.drop(settings, axis=1)\n",
    "\n",
    "samples.sample(5)"
   ]
  },
  {
   "cell_type": "code",
   "execution_count": 19,
   "metadata": {},
   "outputs": [
    {
     "data": {
      "text/plain": [
       "[Text(0,0.5,'# Samples'), Text(0.5,0,'Combinations')]"
      ]
     },
     "execution_count": 19,
     "metadata": {},
     "output_type": "execute_result"
    },
    {
     "data": {
      "image/png": "[encoded data removed]",
      "text/plain": [
       "<Figure size 576x432 with 1 Axes>"
      ]
     },
     "metadata": {},
     "output_type": "display_data"
    }
   ],
   "source": [
    "combs = samples.combination.value_counts().T\n",
    "pl = combs[0:15].plot(kind='bar', title='Top 15 combinations', figsize=figsize)\n",
    "pl.set(xlabel='Combinations', ylabel='# Samples')"
   ]
  },
  {
   "cell_type": "markdown",
   "metadata": {},
   "source": [
    "### How many samples of each type overall and by device?\n",
    "Next, we will group the samples by Device and count the samples of each state charging and discharging.\n",
    "We can also calculate how many devices have each type of sample or even both. We use the *discharging* feature to group them.\n",
    "\n",
    "The number of samples will differ **according to the sample type filter criteria!**"
   ]
  },
  {
   "cell_type": "code",
   "execution_count": 20,
   "metadata": {},
   "outputs": [
    {
     "name": "stdout",
     "output_type": "stream",
     "text": [
      "2319693 are charging samples, while 2266036 are discharging samples\n"
     ]
    },
    {
     "data": {
      "image/png": "[encoded data removed]",
      "text/plain": [
       "<Figure size 432x288 with 1 Axes>"
      ]
     },
     "metadata": {},
     "output_type": "display_data"
    }
   ],
   "source": [
    "types = samples.discharging.value_counts()\n",
    "\n",
    "plot_pie(types, ['Charging', 'Discharging'], 'Distribution of samples types', (0.05,0))\n",
    "\n",
    "print('{0} are charging samples, while {1} are discharging samples' \\\n",
    "      .format(types[0], types[1]))"
   ]
  },
  {
   "cell_type": "code",
   "execution_count": 21,
   "metadata": {},
   "outputs": [
    {
     "data": {
      "text/html": [
       "<div>\n",
       "<style scoped>\n",
       "    .dataframe tbody tr th:only-of-type {\n",
       "        vertical-align: middle;\n",
       "    }\n",
       "\n",
       "    .dataframe tbody tr th {\n",
       "        vertical-align: top;\n",
       "    }\n",
       "\n",
       "    .dataframe thead th {\n",
       "        text-align: right;\n",
       "    }\n",
       "</style>\n",
       "<table border=\"1\" class=\"dataframe\">\n",
       "  <thead>\n",
       "    <tr style=\"text-align: right;\">\n",
       "      <th></th>\n",
       "      <th>charging</th>\n",
       "      <th>discharging</th>\n",
       "    </tr>\n",
       "    <tr>\n",
       "      <th>device_id</th>\n",
       "      <th></th>\n",
       "      <th></th>\n",
       "    </tr>\n",
       "  </thead>\n",
       "  <tbody>\n",
       "    <tr>\n",
       "      <th>1020</th>\n",
       "      <td>754</td>\n",
       "      <td>1309</td>\n",
       "    </tr>\n",
       "    <tr>\n",
       "      <th>544</th>\n",
       "      <td>2074</td>\n",
       "      <td>1679</td>\n",
       "    </tr>\n",
       "    <tr>\n",
       "      <th>3175</th>\n",
       "      <td>460</td>\n",
       "      <td>1032</td>\n",
       "    </tr>\n",
       "    <tr>\n",
       "      <th>2473</th>\n",
       "      <td>1046</td>\n",
       "      <td>239</td>\n",
       "    </tr>\n",
       "    <tr>\n",
       "      <th>1459</th>\n",
       "      <td>2998</td>\n",
       "      <td>3596</td>\n",
       "    </tr>\n",
       "  </tbody>\n",
       "</table>\n",
       "</div>"
      ],
      "text/plain": [
       "           charging  discharging\n",
       "device_id                       \n",
       "1020            754         1309\n",
       "544            2074         1679\n",
       "3175            460         1032\n",
       "2473           1046          239\n",
       "1459           2998         3596"
      ]
     },
     "execution_count": 21,
     "metadata": {},
     "output_type": "execute_result"
    }
   ],
   "source": [
    "stypes = samples.groupby('device_id').discharging.value_counts().unstack().fillna(0)\n",
    "stypes.columns = ['charging', 'discharging']\n",
    "stypes = stypes.astype(np.int)\n",
    "stypes = downcast_ints(stypes)\n",
    "\n",
    "stypes.sample(5)"
   ]
  },
  {
   "cell_type": "code",
   "execution_count": 22,
   "metadata": {},
   "outputs": [
    {
     "name": "stdout",
     "output_type": "stream",
     "text": [
      "1373 devices have both types of samples, 14 only charging samples and 88 just discharging samples.\n",
      "From all 1597 unique devices, 1475 are counted according to the filter criteria.\n"
     ]
    }
   ],
   "source": [
    "both = stypes[(stypes.charging > 0) & (stypes.discharging > 0)].shape[0]\n",
    "c_only = stypes[(stypes.charging > 0) & (stypes.discharging == 0)].shape[0]\n",
    "d_only = stypes[(stypes.charging == 0) & (stypes.discharging > 0)].shape[0]\n",
    "\n",
    "print('{0} devices have both types of samples, {1} only charging ' \\\n",
    "      'samples and {2} just discharging samples.'.format(both, c_only, d_only))\n",
    "\n",
    "print('From all {0} unique devices, {1} are counted ' \\\n",
    "      'according to the filter criteria.' \\\n",
    "      .format(samples.device_id.unique().shape[0], stypes.index.unique().shape[0]))"
   ]
  },
  {
   "cell_type": "markdown",
   "metadata": {},
   "source": [
    "### What is the distribution of samples with consecutive battery levels?\n",
    "- Lets try to split the samples in batches of consecutive battery level values, to better understand, what is an average session of usage for a device.\n",
    "- We will start by selecting only the samples with a **1%** change maximum."
   ]
  },
  {
   "cell_type": "code",
   "execution_count": 23,
   "metadata": {},
   "outputs": [
    {
     "data": {
      "text/plain": [
       "1994054"
      ]
     },
     "execution_count": 23,
     "metadata": {},
     "output_type": "execute_result"
    }
   ],
   "source": [
    "change_interval = samples.change.between(-0.01, 0.01)\n",
    "\n",
    "seqs = samples[change_interval].copy()\n",
    "\n",
    "seqs['consecutive'] = abs(seqs.battery_level.shift() - seqs.battery_level) <= 1\n",
    "seqs.loc[seqs.device_id != seqs.device_id.shift(), 'consecutive'] = False\n",
    "seqs.loc[seqs.discharging != seqs.discharging.shift(), 'consecutive'] = False\n",
    "\n",
    "def batch_len(s):\n",
    "    return s * (s.groupby((s != s.shift()).cumsum()).cumcount() + 1)\n",
    "\n",
    "seqs['batch'] = batch_len(seqs.consecutive)\n",
    "\n",
    "seqs.shape[0]"
   ]
  },
  {
   "cell_type": "code",
   "execution_count": null,
   "metadata": {},
   "outputs": [],
   "source": []
  }
 ],
 "metadata": {
  "kernelspec": {
   "display_name": "Python 3",
   "language": "python",
   "name": "python3"
  },
  "language_info": {
   "codemirror_mode": {
    "name": "ipython",
    "version": 3
   },
   "file_extension": ".py",
   "mimetype": "text/x-python",
   "name": "python",
   "nbconvert_exporter": "python",
   "pygments_lexer": "ipython3",
   "version": "3.5.2"
  }
 },
 "nbformat": 4,
 "nbformat_minor": 2
}
