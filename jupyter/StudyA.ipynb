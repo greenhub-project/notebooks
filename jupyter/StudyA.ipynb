{
 "cells": [
  {
   "cell_type": "markdown",
   "metadata": {},
   "source": [
    "# Study Case A\n",
    "This notebook will showcase an overview of the Devices and Samples models, displaying statistical summaries and distribuitions for each model. Afterwards, we will add new features in attempt to answer the proposed questions.\n",
    "\n",
    "## Questions and problem definition\n",
    "**WIP** Define the problem and its questions"
   ]
  },
  {
   "cell_type": "code",
   "execution_count": 1,
   "metadata": {},
   "outputs": [],
   "source": [
    "# data analysis and wrangling\n",
    "import pandas as pd\n",
    "import numpy as np\n",
    "import pyarrow.parquet as pq\n",
    "\n",
    "# visualization\n",
    "import matplotlib.pyplot as plt\n",
    "import seaborn as sns\n",
    "%matplotlib inline\n",
    "\n",
    "# configure visualizations\n",
    "sns.set_style('whitegrid')\n",
    "figsize=(8,6)\n",
    "\n",
    "\n",
    "# helper functions\n",
    "def load_df(path, columns=None, nthreads=4, strings_to_categorical=True):\n",
    "    try:\n",
    "        table = pq.read_table(path, columns=columns, nthreads=nthreads)\n",
    "        return table.to_pandas(strings_to_categorical=strings_to_categorical)\n",
    "    except Exception as e:\n",
    "        print(e)\n",
    "\n",
    "def prepare_devices(path):\n",
    "    cols = ['id', 'model', 'brand', 'manufacturer', 'product', 'os_version', 'kernel_version', 'is_root']\n",
    "    return load_df(path, cols)\n",
    "        \n",
    "def prepare_samples(path):\n",
    "    cols = ['device_id', 'timestamp', 'battery_level', 'network_status', 'screen_on', \n",
    "            'bluetooth_enabled', 'location_enabled', 'power_saver_enabled', 'nfc_enabled',\n",
    "            'unknown_sources', 'developer_mode']\n",
    "    \n",
    "    # sorted by [device_id, timestamp]\n",
    "    df = load_df(path, cols)\n",
    "\n",
    "    df = df.reset_index(drop=True)\n",
    "\n",
    "    # downcast int types\n",
    "    df_int = df.select_dtypes(include=['int'])\n",
    "    converted_int = df_int.apply(pd.to_numeric, downcast='unsigned')\n",
    "\n",
    "    df[converted_int.columns] = converted_int\n",
    "    \n",
    "    return df"
   ]
  },
  {
   "cell_type": "markdown",
   "metadata": {},
   "source": [
    "## Acquire data\n",
    "After importing the necessary libraries, we load the files into dataframes. The *samples* data was sorted beforehand by *device_id* and *timestamp*."
   ]
  },
  {
   "cell_type": "code",
   "execution_count": 2,
   "metadata": {},
   "outputs": [],
   "source": [
    "devices = prepare_devices('../src/devices.parquet')\n",
    "samples = prepare_samples('../src/samples.parquet')"
   ]
  },
  {
   "cell_type": "markdown",
   "metadata": {},
   "source": [
    "## Analyze by describing data\n",
    "To better understand the data, we will start by looking at a sample of the data."
   ]
  },
  {
   "cell_type": "code",
   "execution_count": 3,
   "metadata": {},
   "outputs": [
    {
     "data": {
      "text/html": [
       "<div>\n",
       "<style scoped>\n",
       "    .dataframe tbody tr th:only-of-type {\n",
       "        vertical-align: middle;\n",
       "    }\n",
       "\n",
       "    .dataframe tbody tr th {\n",
       "        vertical-align: top;\n",
       "    }\n",
       "\n",
       "    .dataframe thead th {\n",
       "        text-align: right;\n",
       "    }\n",
       "</style>\n",
       "<table border=\"1\" class=\"dataframe\">\n",
       "  <thead>\n",
       "    <tr style=\"text-align: right;\">\n",
       "      <th></th>\n",
       "      <th>id</th>\n",
       "      <th>model</th>\n",
       "      <th>brand</th>\n",
       "      <th>manufacturer</th>\n",
       "      <th>product</th>\n",
       "      <th>os_version</th>\n",
       "      <th>kernel_version</th>\n",
       "      <th>is_root</th>\n",
       "    </tr>\n",
       "  </thead>\n",
       "  <tbody>\n",
       "    <tr>\n",
       "      <th>687</th>\n",
       "      <td>688</td>\n",
       "      <td>sm-e500m</td>\n",
       "      <td>samsung</td>\n",
       "      <td>samsung</td>\n",
       "      <td>e5lteub</td>\n",
       "      <td>5.1.1</td>\n",
       "      <td>3.10.49-7815827</td>\n",
       "      <td>0</td>\n",
       "    </tr>\n",
       "    <tr>\n",
       "      <th>669</th>\n",
       "      <td>670</td>\n",
       "      <td>a0001</td>\n",
       "      <td>oneplus</td>\n",
       "      <td>oneplus</td>\n",
       "      <td>bacon</td>\n",
       "      <td>6.0.1</td>\n",
       "      <td>3.4.110-cyanogenmod-g326cf3a</td>\n",
       "      <td>0</td>\n",
       "    </tr>\n",
       "    <tr>\n",
       "      <th>1235</th>\n",
       "      <td>1236</td>\n",
       "      <td>asus_z012d</td>\n",
       "      <td>asus</td>\n",
       "      <td>asus</td>\n",
       "      <td>ww_phone</td>\n",
       "      <td>7.0</td>\n",
       "      <td>3.18.31-perf-g4dbe070-00013-gfcbc3b3</td>\n",
       "      <td>0</td>\n",
       "    </tr>\n",
       "    <tr>\n",
       "      <th>2315</th>\n",
       "      <td>2316</td>\n",
       "      <td>be_pure</td>\n",
       "      <td>ulefone</td>\n",
       "      <td>alps</td>\n",
       "      <td>be_pure</td>\n",
       "      <td>4.4.2</td>\n",
       "      <td>3.4.67</td>\n",
       "      <td>1</td>\n",
       "    </tr>\n",
       "    <tr>\n",
       "      <th>3162</th>\n",
       "      <td>3163</td>\n",
       "      <td>sm-j730f</td>\n",
       "      <td>samsung</td>\n",
       "      <td>samsung</td>\n",
       "      <td>j7y17ltexx</td>\n",
       "      <td>7.0</td>\n",
       "      <td>3.18.14-12784722</td>\n",
       "      <td>0</td>\n",
       "    </tr>\n",
       "  </tbody>\n",
       "</table>\n",
       "</div>"
      ],
      "text/plain": [
       "        id       model    brand manufacturer     product os_version  \\\n",
       "687    688    sm-e500m  samsung      samsung     e5lteub      5.1.1   \n",
       "669    670       a0001  oneplus      oneplus       bacon      6.0.1   \n",
       "1235  1236  asus_z012d     asus         asus    ww_phone        7.0   \n",
       "2315  2316     be_pure  ulefone         alps     be_pure      4.4.2   \n",
       "3162  3163    sm-j730f  samsung      samsung  j7y17ltexx        7.0   \n",
       "\n",
       "                            kernel_version  is_root  \n",
       "687                        3.10.49-7815827        0  \n",
       "669           3.4.110-cyanogenmod-g326cf3a        0  \n",
       "1235  3.18.31-perf-g4dbe070-00013-gfcbc3b3        0  \n",
       "2315                                3.4.67        1  \n",
       "3162                      3.18.14-12784722        0  "
      ]
     },
     "execution_count": 3,
     "metadata": {},
     "output_type": "execute_result"
    }
   ],
   "source": [
    "devices.sample(5)"
   ]
  },
  {
   "cell_type": "code",
   "execution_count": 4,
   "metadata": {},
   "outputs": [
    {
     "data": {
      "text/html": [
       "<div>\n",
       "<style scoped>\n",
       "    .dataframe tbody tr th:only-of-type {\n",
       "        vertical-align: middle;\n",
       "    }\n",
       "\n",
       "    .dataframe tbody tr th {\n",
       "        vertical-align: top;\n",
       "    }\n",
       "\n",
       "    .dataframe thead th {\n",
       "        text-align: right;\n",
       "    }\n",
       "</style>\n",
       "<table border=\"1\" class=\"dataframe\">\n",
       "  <thead>\n",
       "    <tr style=\"text-align: right;\">\n",
       "      <th></th>\n",
       "      <th>device_id</th>\n",
       "      <th>timestamp</th>\n",
       "      <th>battery_level</th>\n",
       "      <th>network_status</th>\n",
       "      <th>screen_on</th>\n",
       "      <th>bluetooth_enabled</th>\n",
       "      <th>location_enabled</th>\n",
       "      <th>power_saver_enabled</th>\n",
       "      <th>nfc_enabled</th>\n",
       "      <th>unknown_sources</th>\n",
       "      <th>developer_mode</th>\n",
       "    </tr>\n",
       "  </thead>\n",
       "  <tbody>\n",
       "    <tr>\n",
       "      <th>1135956</th>\n",
       "      <td>745</td>\n",
       "      <td>2017-12-15 23:38:48</td>\n",
       "      <td>36</td>\n",
       "      <td>disconnected</td>\n",
       "      <td>0</td>\n",
       "      <td>0</td>\n",
       "      <td>1</td>\n",
       "      <td>0</td>\n",
       "      <td>0</td>\n",
       "      <td>1</td>\n",
       "      <td>0</td>\n",
       "    </tr>\n",
       "    <tr>\n",
       "      <th>4080032</th>\n",
       "      <td>2712</td>\n",
       "      <td>2017-11-26 04:24:45</td>\n",
       "      <td>89</td>\n",
       "      <td>disconnected</td>\n",
       "      <td>0</td>\n",
       "      <td>1</td>\n",
       "      <td>1</td>\n",
       "      <td>0</td>\n",
       "      <td>0</td>\n",
       "      <td>0</td>\n",
       "      <td>0</td>\n",
       "    </tr>\n",
       "    <tr>\n",
       "      <th>2120077</th>\n",
       "      <td>1455</td>\n",
       "      <td>2017-10-31 15:31:19</td>\n",
       "      <td>56</td>\n",
       "      <td>hspap</td>\n",
       "      <td>0</td>\n",
       "      <td>0</td>\n",
       "      <td>0</td>\n",
       "      <td>0</td>\n",
       "      <td>0</td>\n",
       "      <td>0</td>\n",
       "      <td>0</td>\n",
       "    </tr>\n",
       "    <tr>\n",
       "      <th>514369</th>\n",
       "      <td>288</td>\n",
       "      <td>2018-02-08 20:16:36</td>\n",
       "      <td>31</td>\n",
       "      <td>wifi</td>\n",
       "      <td>0</td>\n",
       "      <td>0</td>\n",
       "      <td>1</td>\n",
       "      <td>0</td>\n",
       "      <td>0</td>\n",
       "      <td>0</td>\n",
       "      <td>0</td>\n",
       "    </tr>\n",
       "    <tr>\n",
       "      <th>2181267</th>\n",
       "      <td>1468</td>\n",
       "      <td>2018-04-16 14:23:36</td>\n",
       "      <td>47</td>\n",
       "      <td>wifi</td>\n",
       "      <td>0</td>\n",
       "      <td>0</td>\n",
       "      <td>0</td>\n",
       "      <td>0</td>\n",
       "      <td>0</td>\n",
       "      <td>1</td>\n",
       "      <td>0</td>\n",
       "    </tr>\n",
       "  </tbody>\n",
       "</table>\n",
       "</div>"
      ],
      "text/plain": [
       "         device_id           timestamp  battery_level network_status  \\\n",
       "1135956        745 2017-12-15 23:38:48             36   disconnected   \n",
       "4080032       2712 2017-11-26 04:24:45             89   disconnected   \n",
       "2120077       1455 2017-10-31 15:31:19             56          hspap   \n",
       "514369         288 2018-02-08 20:16:36             31           wifi   \n",
       "2181267       1468 2018-04-16 14:23:36             47           wifi   \n",
       "\n",
       "         screen_on  bluetooth_enabled  location_enabled  power_saver_enabled  \\\n",
       "1135956          0                  0                 1                    0   \n",
       "4080032          0                  1                 1                    0   \n",
       "2120077          0                  0                 0                    0   \n",
       "514369           0                  0                 1                    0   \n",
       "2181267          0                  0                 0                    0   \n",
       "\n",
       "         nfc_enabled  unknown_sources  developer_mode  \n",
       "1135956            0                1               0  \n",
       "4080032            0                0               0  \n",
       "2120077            0                0               0  \n",
       "514369             0                0               0  \n",
       "2181267            0                1               0  "
      ]
     },
     "execution_count": 4,
     "metadata": {},
     "output_type": "execute_result"
    }
   ],
   "source": [
    "samples.sample(5)"
   ]
  },
  {
   "cell_type": "markdown",
   "metadata": {},
   "source": [
    "### What are the data types for the various features?\n",
    "#### Devices\n",
    "- Six features are categories which represent device's specs.\n",
    "- *is_root* is a boolean variable that indicates whether the device has root access.\n",
    "\n",
    "#### Samples\n",
    "- The last seven features are booleans, these are each device's settings.\n",
    "- The remaining features will be useful to group the data into different subsets."
   ]
  },
  {
   "cell_type": "code",
   "execution_count": 5,
   "metadata": {},
   "outputs": [
    {
     "name": "stdout",
     "output_type": "stream",
     "text": [
      "<class 'pandas.core.frame.DataFrame'>\n",
      "RangeIndex: 3265 entries, 0 to 3264\n",
      "Data columns (total 8 columns):\n",
      "id                3265 non-null uint16\n",
      "model             3265 non-null category\n",
      "brand             3265 non-null category\n",
      "manufacturer      3265 non-null category\n",
      "product           3265 non-null category\n",
      "os_version        3265 non-null category\n",
      "kernel_version    3265 non-null category\n",
      "is_root           3265 non-null uint8\n",
      "dtypes: category(6), uint16(1), uint8(1)\n",
      "memory usage: 193.3 KB\n"
     ]
    }
   ],
   "source": [
    "devices.info()"
   ]
  },
  {
   "cell_type": "code",
   "execution_count": 6,
   "metadata": {},
   "outputs": [
    {
     "name": "stdout",
     "output_type": "stream",
     "text": [
      "<class 'pandas.core.frame.DataFrame'>\n",
      "RangeIndex: 4587326 entries, 0 to 4587325\n",
      "Data columns (total 11 columns):\n",
      "device_id              uint16\n",
      "timestamp              datetime64[ns]\n",
      "battery_level          uint8\n",
      "network_status         category\n",
      "screen_on              uint8\n",
      "bluetooth_enabled      uint8\n",
      "location_enabled       uint8\n",
      "power_saver_enabled    uint8\n",
      "nfc_enabled            uint8\n",
      "unknown_sources        uint8\n",
      "developer_mode         uint8\n",
      "dtypes: category(1), datetime64[ns](1), uint16(1), uint8(8)\n",
      "memory usage: 83.1 MB\n"
     ]
    }
   ],
   "source": [
    "samples.info()"
   ]
  },
  {
   "cell_type": "markdown",
   "metadata": {},
   "source": [
    "### What is the distribution of categorical features?"
   ]
  },
  {
   "cell_type": "code",
   "execution_count": 7,
   "metadata": {},
   "outputs": [
    {
     "data": {
      "text/html": [
       "<div>\n",
       "<style scoped>\n",
       "    .dataframe tbody tr th:only-of-type {\n",
       "        vertical-align: middle;\n",
       "    }\n",
       "\n",
       "    .dataframe tbody tr th {\n",
       "        vertical-align: top;\n",
       "    }\n",
       "\n",
       "    .dataframe thead th {\n",
       "        text-align: right;\n",
       "    }\n",
       "</style>\n",
       "<table border=\"1\" class=\"dataframe\">\n",
       "  <thead>\n",
       "    <tr style=\"text-align: right;\">\n",
       "      <th></th>\n",
       "      <th>model</th>\n",
       "      <th>brand</th>\n",
       "      <th>manufacturer</th>\n",
       "      <th>product</th>\n",
       "      <th>os_version</th>\n",
       "      <th>kernel_version</th>\n",
       "    </tr>\n",
       "  </thead>\n",
       "  <tbody>\n",
       "    <tr>\n",
       "      <th>count</th>\n",
       "      <td>3265</td>\n",
       "      <td>3265</td>\n",
       "      <td>3265</td>\n",
       "      <td>3265</td>\n",
       "      <td>3265</td>\n",
       "      <td>3265</td>\n",
       "    </tr>\n",
       "    <tr>\n",
       "      <th>unique</th>\n",
       "      <td>798</td>\n",
       "      <td>124</td>\n",
       "      <td>131</td>\n",
       "      <td>812</td>\n",
       "      <td>22</td>\n",
       "      <td>816</td>\n",
       "    </tr>\n",
       "    <tr>\n",
       "      <th>top</th>\n",
       "      <td>ale-l21</td>\n",
       "      <td>samsung</td>\n",
       "      <td>samsung</td>\n",
       "      <td>ale-l21</td>\n",
       "      <td>7.0</td>\n",
       "      <td>3.18.14-11104523</td>\n",
       "    </tr>\n",
       "    <tr>\n",
       "      <th>freq</th>\n",
       "      <td>165</td>\n",
       "      <td>1011</td>\n",
       "      <td>1006</td>\n",
       "      <td>165</td>\n",
       "      <td>1007</td>\n",
       "      <td>103</td>\n",
       "    </tr>\n",
       "  </tbody>\n",
       "</table>\n",
       "</div>"
      ],
      "text/plain": [
       "          model    brand manufacturer  product os_version    kernel_version\n",
       "count      3265     3265         3265     3265       3265              3265\n",
       "unique      798      124          131      812         22               816\n",
       "top     ale-l21  samsung      samsung  ale-l21        7.0  3.18.14-11104523\n",
       "freq        165     1011         1006      165       1007               103"
      ]
     },
     "execution_count": 7,
     "metadata": {},
     "output_type": "execute_result"
    }
   ],
   "source": [
    "devices.describe(include=['category'])"
   ]
  },
  {
   "cell_type": "code",
   "execution_count": 8,
   "metadata": {},
   "outputs": [
    {
     "data": {
      "text/html": [
       "<div>\n",
       "<style scoped>\n",
       "    .dataframe tbody tr th:only-of-type {\n",
       "        vertical-align: middle;\n",
       "    }\n",
       "\n",
       "    .dataframe tbody tr th {\n",
       "        vertical-align: top;\n",
       "    }\n",
       "\n",
       "    .dataframe thead th {\n",
       "        text-align: right;\n",
       "    }\n",
       "</style>\n",
       "<table border=\"1\" class=\"dataframe\">\n",
       "  <thead>\n",
       "    <tr style=\"text-align: right;\">\n",
       "      <th></th>\n",
       "      <th>network_status</th>\n",
       "    </tr>\n",
       "  </thead>\n",
       "  <tbody>\n",
       "    <tr>\n",
       "      <th>count</th>\n",
       "      <td>4587326</td>\n",
       "    </tr>\n",
       "    <tr>\n",
       "      <th>unique</th>\n",
       "      <td>20</td>\n",
       "    </tr>\n",
       "    <tr>\n",
       "      <th>top</th>\n",
       "      <td>wifi</td>\n",
       "    </tr>\n",
       "    <tr>\n",
       "      <th>freq</th>\n",
       "      <td>2458197</td>\n",
       "    </tr>\n",
       "  </tbody>\n",
       "</table>\n",
       "</div>"
      ],
      "text/plain": [
       "       network_status\n",
       "count         4587326\n",
       "unique             20\n",
       "top              wifi\n",
       "freq          2458197"
      ]
     },
     "execution_count": 8,
     "metadata": {},
     "output_type": "execute_result"
    }
   ],
   "source": [
    "samples.describe(include=['category'])"
   ]
  },
  {
   "cell_type": "markdown",
   "metadata": {},
   "source": [
    "#### Inspecting *network_status* in greater detail\n",
    "- We can verify that one of the most top values has label `0` which does not provide a meaningful value!"
   ]
  },
  {
   "cell_type": "code",
   "execution_count": 9,
   "metadata": {},
   "outputs": [
    {
     "data": {
      "text/plain": [
       "wifi             2458197\n",
       "disconnected     1360836\n",
       "lte               433236\n",
       "hspap             133264\n",
       "utms               79950\n",
       "0                  41508\n",
       "hspa               36341\n",
       "edge               22118\n",
       "disconnecting      12470\n",
       "hsupa               4228\n",
       "hsdpa               3377\n",
       "gprs                1421\n",
       "connecting            99\n",
       "19                    78\n",
       "20                    71\n",
       "evdo_a                47\n",
       "30                    37\n",
       "1xrtt                 30\n",
       "16                    17\n",
       "18                     1\n",
       "Name: network_status, dtype: int64"
      ]
     },
     "execution_count": 9,
     "metadata": {},
     "output_type": "execute_result"
    }
   ],
   "source": [
    "samples.network_status.value_counts()"
   ]
  },
  {
   "cell_type": "markdown",
   "metadata": {},
   "source": [
    "### How many devices have samples?\n",
    "Lets check what is the percentage of devices that uploaded **at least one sample**.\n",
    "\n",
    "Defining the conversion goal, as the number of resgistered devices that upload samples, we can observe that:\n",
    "\n",
    "The conversion is slightly below 50%, the conversion rate is not very high!"
   ]
  },
  {
   "cell_type": "code",
   "execution_count": 10,
   "metadata": {},
   "outputs": [
    {
     "name": "stdout",
     "output_type": "stream",
     "text": [
      "From a population of 3265 devices, 1597 devices have samples, which represents 48.9%\n"
     ]
    }
   ],
   "source": [
    "percentage = round(100 * samples.device_id.nunique() / devices.shape[0], 1)\n",
    "print('From a population of {0} devices, {1} ' \\\n",
    "      'devices have samples, which represents {2}%'.format(devices.shape[0], samples.device_id.nunique(), percentage))"
   ]
  },
  {
   "cell_type": "markdown",
   "metadata": {},
   "source": [
    "#### Additionally, we can calculate a few more conversion rates:"
   ]
  },
  {
   "cell_type": "code",
   "execution_count": 11,
   "metadata": {},
   "outputs": [
    {
     "name": "stdout",
     "output_type": "stream",
     "text": [
      "1137 devices have more than 100 samples, that represents 34.8%\n",
      "693 devices have more than 1000 samples, that represents 21.2%\n"
     ]
    }
   ],
   "source": [
    "def calculate_conversion(limit):\n",
    "    df = pd.DataFrame(samples.groupby('device_id').size() > limit, columns=['goal'])\n",
    "    num = df[df.goal].shape[0]\n",
    "    percentage = round(100 * num / devices.shape[0], 1)\n",
    "    print('{0} devices have more than {1} samples, that represents {2}%'.format(num, limit, percentage))\n",
    "\n",
    "calculate_conversion(100)\n",
    "calculate_conversion(1000)"
   ]
  },
  {
   "cell_type": "markdown",
   "metadata": {},
   "source": [
    "## Visualizing data\n",
    "Visualizing data is crucial for recognizing underlying patterns to exploit in the model."
   ]
  },
  {
   "cell_type": "code",
   "execution_count": 12,
   "metadata": {},
   "outputs": [
    {
     "data": {
      "text/plain": [
       "[Text(0,0.5,'# Devices')]"
      ]
     },
     "execution_count": 12,
     "metadata": {},
     "output_type": "execute_result"
    },
    {
     "data": {
      "image/png": "[encoded data removed]",
      "text/plain": [
       "<Figure size 576x432 with 1 Axes>"
      ]
     },
     "metadata": {},
     "output_type": "display_data"
    }
   ],
   "source": [
    "brands = devices.brand.value_counts()[0:15]\n",
    "cx = brands.plot(kind='bar', title='Top 15 Brands', figsize=figsize)\n",
    "cx.set(ylabel='# Devices')"
   ]
  },
  {
   "cell_type": "code",
   "execution_count": 13,
   "metadata": {},
   "outputs": [
    {
     "data": {
      "text/plain": [
       "[Text(0,0.5,'# Devices')]"
      ]
     },
     "execution_count": 13,
     "metadata": {},
     "output_type": "execute_result"
    },
    {
     "data": {
      "image/png": "[encoded data removed]",
      "text/plain": [
       "<Figure size 576x432 with 1 Axes>"
      ]
     },
     "metadata": {},
     "output_type": "display_data"
    }
   ],
   "source": [
    "versions = devices.os_version.value_counts()[:15]\n",
    "pl = versions.plot(kind='bar', title='Top 15 Android OS versions', figsize=figsize)\n",
    "pl.set(ylabel='# Devices')"
   ]
  },
  {
   "cell_type": "code",
   "execution_count": 14,
   "metadata": {},
   "outputs": [
    {
     "data": {
      "text/plain": [
       "[Text(0,0.5,'# Samples')]"
      ]
     },
     "execution_count": 14,
     "metadata": {},
     "output_type": "execute_result"
    },
    {
     "data": {
      "image/png": "[encoded data removed]",
      "text/plain": [
       "<Figure size 576x432 with 1 Axes>"
      ]
     },
     "metadata": {},
     "output_type": "display_data"
    }
   ],
   "source": [
    "settings = ['screen_on', 'bluetooth_enabled', 'location_enabled', 'power_saver_enabled', \n",
    "            'nfc_enabled', 'unknown_sources', 'developer_mode', 'wifi_enabled']\n",
    "\n",
    "# Add new setting\n",
    "samples['wifi_enabled'] = (samples['network_status'] == 'wifi').astype(np.uint8)\n",
    "\n",
    "# Frequency on/off per setting\n",
    "freqs = samples[settings].apply(pd.value_counts, axis=0).T\n",
    "freqs.columns = ['Off', 'On']\n",
    "pl = freqs.plot(kind='bar', title='Frequency On/Off per setting', figsize=figsize)\n",
    "pl.set(ylabel='# Samples')"
   ]
  },
  {
   "cell_type": "markdown",
   "metadata": {},
   "source": [
    "## Transforming Features\n",
    "1. First, add a new feature *wifi_enabled* (done in the previous step), will tell us if a sample has `wifi` value or some other status. This will be necessary to calculate another feature.\n",
    "2. Next, calculate the changes over time and battery level, *time_diff* will be the total seconds passed between each sample and *pct_change* the change percentage compared with the previous sample. The latter can be specially useful to group samples in batches of battery levels.\n",
    "3. We will also add an extra feature *discharging* (`1.0` for discharge state, `0.0` for charge state) which will make it easier to group samples by battery state.\n",
    "4. Combine the settings values into a numberic class, obtained by converting the group of values into a decimal number.\n",
    "5. Lastly, drop useless features. We can drop the settings features since we have the *combination* value."
   ]
  },
  {
   "cell_type": "code",
   "execution_count": 15,
   "metadata": {},
   "outputs": [
    {
     "data": {
      "text/html": [
       "<div>\n",
       "<style scoped>\n",
       "    .dataframe tbody tr th:only-of-type {\n",
       "        vertical-align: middle;\n",
       "    }\n",
       "\n",
       "    .dataframe tbody tr th {\n",
       "        vertical-align: top;\n",
       "    }\n",
       "\n",
       "    .dataframe thead th {\n",
       "        text-align: right;\n",
       "    }\n",
       "</style>\n",
       "<table border=\"1\" class=\"dataframe\">\n",
       "  <thead>\n",
       "    <tr style=\"text-align: right;\">\n",
       "      <th></th>\n",
       "      <th>device_id</th>\n",
       "      <th>timestamp</th>\n",
       "      <th>battery_level</th>\n",
       "      <th>network_status</th>\n",
       "      <th>time_diff</th>\n",
       "      <th>change</th>\n",
       "      <th>discharging</th>\n",
       "      <th>combination</th>\n",
       "    </tr>\n",
       "  </thead>\n",
       "  <tbody>\n",
       "    <tr>\n",
       "      <th>3249363</th>\n",
       "      <td>2234</td>\n",
       "      <td>2018-01-11 01:23:18</td>\n",
       "      <td>91</td>\n",
       "      <td>wifi</td>\n",
       "      <td>174.0</td>\n",
       "      <td>0.01</td>\n",
       "      <td>0.0</td>\n",
       "      <td>39</td>\n",
       "    </tr>\n",
       "    <tr>\n",
       "      <th>3342401</th>\n",
       "      <td>2298</td>\n",
       "      <td>2017-12-24 12:37:14</td>\n",
       "      <td>42</td>\n",
       "      <td>disconnected</td>\n",
       "      <td>40.0</td>\n",
       "      <td>0.02</td>\n",
       "      <td>0.0</td>\n",
       "      <td>6</td>\n",
       "    </tr>\n",
       "    <tr>\n",
       "      <th>1862561</th>\n",
       "      <td>1267</td>\n",
       "      <td>2017-11-23 18:36:23</td>\n",
       "      <td>69</td>\n",
       "      <td>wifi</td>\n",
       "      <td>70.0</td>\n",
       "      <td>0.01</td>\n",
       "      <td>0.0</td>\n",
       "      <td>1</td>\n",
       "    </tr>\n",
       "    <tr>\n",
       "      <th>4112536</th>\n",
       "      <td>2725</td>\n",
       "      <td>2018-01-14 20:11:53</td>\n",
       "      <td>73</td>\n",
       "      <td>wifi</td>\n",
       "      <td>30.0</td>\n",
       "      <td>-0.01</td>\n",
       "      <td>1.0</td>\n",
       "      <td>131</td>\n",
       "    </tr>\n",
       "    <tr>\n",
       "      <th>339270</th>\n",
       "      <td>219</td>\n",
       "      <td>2018-02-09 20:06:15</td>\n",
       "      <td>73</td>\n",
       "      <td>disconnected</td>\n",
       "      <td>120.0</td>\n",
       "      <td>-0.01</td>\n",
       "      <td>1.0</td>\n",
       "      <td>208</td>\n",
       "    </tr>\n",
       "  </tbody>\n",
       "</table>\n",
       "</div>"
      ],
      "text/plain": [
       "         device_id           timestamp  battery_level network_status  \\\n",
       "3249363       2234 2018-01-11 01:23:18             91           wifi   \n",
       "3342401       2298 2017-12-24 12:37:14             42   disconnected   \n",
       "1862561       1267 2017-11-23 18:36:23             69           wifi   \n",
       "4112536       2725 2018-01-14 20:11:53             73           wifi   \n",
       "339270         219 2018-02-09 20:06:15             73   disconnected   \n",
       "\n",
       "         time_diff  change  discharging  combination  \n",
       "3249363      174.0    0.01          0.0           39  \n",
       "3342401       40.0    0.02          0.0            6  \n",
       "1862561       70.0    0.01          0.0            1  \n",
       "4112536       30.0   -0.01          1.0          131  \n",
       "339270       120.0   -0.01          1.0          208  "
      ]
     },
     "execution_count": 15,
     "metadata": {},
     "output_type": "execute_result"
    }
   ],
   "source": [
    "samples['time_diff'] = samples['timestamp'].diff().dt.total_seconds()\n",
    "samples.loc[samples.device_id != samples.device_id.shift(), 'time_diff'] = None\n",
    "\n",
    "samples['change'] = samples['battery_level'].pct_change().round(2)\n",
    "samples.loc[samples.device_id != samples.device_id.shift(), 'change'] = None\n",
    "\n",
    "samples['discharging'] = samples.battery_level.shift() >= samples.battery_level\n",
    "samples.loc[samples.device_id != samples.device_id.shift(), 'discharging'] = None\n",
    "\n",
    "samples['combination'] = np.packbits(samples[settings].values, axis=-1)\n",
    "\n",
    "samples = samples.drop(settings, axis=1)\n",
    "\n",
    "samples.sample(5)"
   ]
  },
  {
   "cell_type": "code",
   "execution_count": 16,
   "metadata": {},
   "outputs": [
    {
     "data": {
      "text/plain": [
       "[Text(0,0.5,'# Samples'), Text(0.5,0,'Combinations')]"
      ]
     },
     "execution_count": 16,
     "metadata": {},
     "output_type": "execute_result"
    },
    {
     "data": {
      "image/png": "[encoded data removed]",
      "text/plain": [
       "<Figure size 576x432 with 1 Axes>"
      ]
     },
     "metadata": {},
     "output_type": "display_data"
    }
   ],
   "source": [
    "combs = samples.combination.value_counts()[0:15].T\n",
    "pl = combs.plot(kind='bar', title='Top 15 combinations', figsize=figsize)\n",
    "pl.set(xlabel='Combinations', ylabel='# Samples')"
   ]
  },
  {
   "cell_type": "code",
   "execution_count": null,
   "metadata": {},
   "outputs": [],
   "source": []
  }
 ],
 "metadata": {
  "kernelspec": {
   "display_name": "Python 3",
   "language": "python",
   "name": "python3"
  },
  "language_info": {
   "codemirror_mode": {
    "name": "ipython",
    "version": 3
   },
   "file_extension": ".py",
   "mimetype": "text/x-python",
   "name": "python",
   "nbconvert_exporter": "python",
   "pygments_lexer": "ipython3",
   "version": "3.5.2"
  }
 },
 "nbformat": 4,
 "nbformat_minor": 2
}
