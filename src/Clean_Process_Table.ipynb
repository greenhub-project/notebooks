{
 "cells": [
  {
   "cell_type": "code",
   "execution_count": null,
   "metadata": {
    "collapsed": true
   },
   "outputs": [],
   "source": [
    "import pandas as pd\n",
    "\n",
    "chunksize = 10 ** 7\n",
    "i = 0\n",
    "for df in pd.read_csv(r'C:\\Users\\ruben\\Desktop\\Investigation\\updated_dataset_07_3_2018\\app_processes.csv', usecols=['sample_id', 'name', 'application_label'], chunksize=chunksize):\n",
    "    mask = df['application_label'] == r'\\N'\n",
    "    df.loc[mask, 'application_label'] = df['name']\n",
    "    \n",
    "    df['application_label'] = df['application_label'].str.lower()\n",
    "    \n",
    "    if i == 0:\n",
    "        df.to_csv(r'C:\\Users\\ruben\\Desktop\\new_processes.csv', mode='a', index=False, encoding='utf-8')\n",
    "        i = 1\n",
    "    else:\n",
    "        df.to_csv(r'C:\\Users\\ruben\\Desktop\\new_processes.csv', mode='a', index=False, encoding='utf-8', header=False)\n",
    "\n",
    "    \n",
    "print('Done!')"
   ]
  }
 ],
 "metadata": {
  "kernelspec": {
   "display_name": "Python 3",
   "language": "python",
   "name": "python3"
  },
  "language_info": {
   "codemirror_mode": {
    "name": "ipython",
    "version": 3
   },
   "file_extension": ".py",
   "mimetype": "text/x-python",
   "name": "python",
   "nbconvert_exporter": "python",
   "pygments_lexer": "ipython3",
   "version": "3.6.3"
  }
 },
 "nbformat": 4,
 "nbformat_minor": 2
}
