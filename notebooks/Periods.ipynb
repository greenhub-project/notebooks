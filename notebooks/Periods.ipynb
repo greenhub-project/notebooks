{
 "cells": [
  {
   "cell_type": "code",
   "execution_count": 1,
   "metadata": {},
   "outputs": [],
   "source": [
    "# data analysis and wrangling\n",
    "import pandas as pd\n",
    "import numpy as np\n",
    "import pyarrow.parquet as pq\n",
    "\n",
    "from datetime import timedelta\n",
    "from utils import downcast\n",
    "\n",
    "# visualization\n",
    "import matplotlib.pyplot as plt\n",
    "import seaborn as sns\n",
    "\n",
    "%matplotlib inline\n",
    "\n",
    "# configure visualizations\n",
    "sns.set_style('whitegrid')\n",
    "figsize=(8,6)"
   ]
  },
  {
   "cell_type": "code",
   "execution_count": 2,
   "metadata": {},
   "outputs": [],
   "source": [
    "def load_df(path, columns=None, use_threads=True):\n",
    "    try:\n",
    "        return pq.read_table(path, columns=columns, use_threads=use_threads).to_pandas(strings_to_categorical=True)\n",
    "    except Exception as e:\n",
    "        print(e)"
   ]
  },
  {
   "cell_type": "code",
   "execution_count": 3,
   "metadata": {},
   "outputs": [],
   "source": [
    "df = load_df('datasets/periods.parquet.gzip')\n",
    "df = downcast(df)"
   ]
  },
  {
   "cell_type": "code",
   "execution_count": 4,
   "metadata": {},
   "outputs": [],
   "source": [
    "df['size'] = df.groupby('period')['period'].transform('size')"
   ]
  },
  {
   "cell_type": "code",
   "execution_count": 5,
   "metadata": {},
   "outputs": [],
   "source": [
    "df['period_acc'] = df['time_diff'].cumsum()\n",
    "df.loc[df['period'] != df['period'].shift(), 'period_acc'] = None"
   ]
  },
  {
   "cell_type": "code",
   "execution_count": 6,
   "metadata": {},
   "outputs": [],
   "source": [
    "gf = df[df['size'] >= 50].copy()\n",
    "gf = gf.reset_index(drop=True)"
   ]
  },
  {
   "cell_type": "code",
   "execution_count": 7,
   "metadata": {},
   "outputs": [
    {
     "name": "stdout",
     "output_type": "stream",
     "text": [
      "<class 'pandas.core.frame.DataFrame'>\n",
      "RangeIndex: 4543502 entries, 0 to 4543501\n",
      "Data columns (total 13 columns):\n",
      "device_id         uint16\n",
      "timestamp         datetime64[ns]\n",
      "battery_level     uint8\n",
      "network_status    category\n",
      "screen_on         uint8\n",
      "change            float32\n",
      "boundary          uint8\n",
      "period            uint32\n",
      "change_acc        float32\n",
      "time_diff         float32\n",
      "time_acc          float32\n",
      "size              int64\n",
      "period_acc        float32\n",
      "dtypes: category(1), datetime64[ns](1), float32(5), int64(1), uint16(1), uint32(1), uint8(3)\n",
      "memory usage: 199.3 MB\n"
     ]
    }
   ],
   "source": [
    "gf.info()"
   ]
  }
 ],
 "metadata": {
  "kernelspec": {
   "display_name": "Python 3",
   "language": "python",
   "name": "python3"
  },
  "language_info": {
   "codemirror_mode": {
    "name": "ipython",
    "version": 3
   },
   "file_extension": ".py",
   "mimetype": "text/x-python",
   "name": "python",
   "nbconvert_exporter": "python",
   "pygments_lexer": "ipython3",
   "version": "3.7.3"
  }
 },
 "nbformat": 4,
 "nbformat_minor": 2
}
