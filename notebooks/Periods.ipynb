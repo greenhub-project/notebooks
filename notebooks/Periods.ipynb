{
 "cells": [
  {
   "cell_type": "code",
   "execution_count": 1,
   "metadata": {},
   "outputs": [],
   "source": [
    "# data analysis and wrangling\n",
    "import pandas as pd\n",
    "import numpy as np\n",
    "import pyarrow.parquet as pq\n",
    "\n",
    "from datetime import timedelta\n",
    "from utils import downcast\n",
    "\n",
    "# visualization\n",
    "import matplotlib.pyplot as plt\n",
    "import seaborn as sns\n",
    "\n",
    "%matplotlib inline\n",
    "\n",
    "# configure visualizations\n",
    "sns.set_style('whitegrid')\n",
    "figsize=(8,6)"
   ]
  },
  {
   "cell_type": "code",
   "execution_count": 2,
   "metadata": {},
   "outputs": [],
   "source": [
    "def load_df(path, columns=None, use_threads=True):\n",
    "    try:\n",
    "        return pq.read_table(path, columns=columns, use_threads=use_threads).to_pandas(strings_to_categorical=True)\n",
    "    except Exception as e:\n",
    "        print(e)"
   ]
  },
  {
   "cell_type": "code",
   "execution_count": 3,
   "metadata": {},
   "outputs": [],
   "source": [
    "df = load_df('datasets/periods.parquet.gzip')\n",
    "df = downcast(df)\n",
    "df = df.drop(['network_status', 'screen_on', 'boundary'], axis=1)"
   ]
  },
  {
   "cell_type": "code",
   "execution_count": 4,
   "metadata": {},
   "outputs": [],
   "source": [
    "devices = pd.read_csv('datasets/devices.csv', usecols=['id', 'manufacturer', 'brand', 'os_version'])\n",
    "devices = downcast(devices)"
   ]
  },
  {
   "cell_type": "code",
   "execution_count": 5,
   "metadata": {},
   "outputs": [],
   "source": [
    "# df['period_acc'] = df['time_diff'].cumsum()\n",
    "# df.loc[df['period'] != df['period'].shift(), 'period_acc'] = None"
   ]
  },
  {
   "cell_type": "code",
   "execution_count": 6,
   "metadata": {},
   "outputs": [],
   "source": [
    "df['size'] = df.groupby('period')['period'].transform('size')"
   ]
  },
  {
   "cell_type": "code",
   "execution_count": 7,
   "metadata": {},
   "outputs": [],
   "source": [
    "df = df[(df['size'] >= 10) & (df['size'] <= 100)]"
   ]
  },
  {
   "cell_type": "code",
   "execution_count": 8,
   "metadata": {},
   "outputs": [],
   "source": [
    "df['direction'] = df['change'].apply(lambda x: 1 if x >= 0 else -1)"
   ]
  },
  {
   "cell_type": "code",
   "execution_count": 9,
   "metadata": {},
   "outputs": [],
   "source": [
    "df['max_change'] = df['change_acc'].abs().groupby(df['period']).transform('max')"
   ]
  },
  {
   "cell_type": "code",
   "execution_count": 10,
   "metadata": {},
   "outputs": [],
   "source": [
    "df['max_time'] = df['time_acc'].groupby(df['period']).transform('max')"
   ]
  },
  {
   "cell_type": "code",
   "execution_count": 11,
   "metadata": {},
   "outputs": [],
   "source": [
    "df['ppm'] = df['max_change'].div(df['max_time'].div(60)).round(4)"
   ]
  },
  {
   "cell_type": "code",
   "execution_count": 12,
   "metadata": {},
   "outputs": [],
   "source": [
    "df = df.merge(devices, 'left', left_on='device_id', right_on='id')"
   ]
  },
  {
   "cell_type": "code",
   "execution_count": 13,
   "metadata": {},
   "outputs": [],
   "source": [
    "gf = df[['period', 'size', 'direction', 'ppm', 'brand', 'os_version']].copy()"
   ]
  },
  {
   "cell_type": "code",
   "execution_count": 14,
   "metadata": {},
   "outputs": [],
   "source": [
    "gf = gf.drop_duplicates('period')\n",
    "gf = gf.reset_index(drop=True)"
   ]
  },
  {
   "cell_type": "code",
   "execution_count": 18,
   "metadata": {},
   "outputs": [
    {
     "data": {
      "text/html": [
       "<div>\n",
       "<style scoped>\n",
       "    .dataframe tbody tr th:only-of-type {\n",
       "        vertical-align: middle;\n",
       "    }\n",
       "\n",
       "    .dataframe tbody tr th {\n",
       "        vertical-align: top;\n",
       "    }\n",
       "\n",
       "    .dataframe thead th {\n",
       "        text-align: right;\n",
       "    }\n",
       "</style>\n",
       "<table border=\"1\" class=\"dataframe\">\n",
       "  <thead>\n",
       "    <tr style=\"text-align: right;\">\n",
       "      <th></th>\n",
       "      <th>period</th>\n",
       "      <th>size</th>\n",
       "      <th>direction</th>\n",
       "      <th>ppm</th>\n",
       "      <th>brand</th>\n",
       "      <th>os_version</th>\n",
       "    </tr>\n",
       "  </thead>\n",
       "  <tbody>\n",
       "    <tr>\n",
       "      <th>0</th>\n",
       "      <td>1</td>\n",
       "      <td>11</td>\n",
       "      <td>-1</td>\n",
       "      <td>0.2026</td>\n",
       "      <td>lge</td>\n",
       "      <td>6.0.1</td>\n",
       "    </tr>\n",
       "    <tr>\n",
       "      <th>1</th>\n",
       "      <td>2</td>\n",
       "      <td>49</td>\n",
       "      <td>-1</td>\n",
       "      <td>0.1914</td>\n",
       "      <td>lge</td>\n",
       "      <td>6.0.1</td>\n",
       "    </tr>\n",
       "    <tr>\n",
       "      <th>2</th>\n",
       "      <td>4</td>\n",
       "      <td>47</td>\n",
       "      <td>1</td>\n",
       "      <td>0.1571</td>\n",
       "      <td>lge</td>\n",
       "      <td>6.0.1</td>\n",
       "    </tr>\n",
       "    <tr>\n",
       "      <th>3</th>\n",
       "      <td>5</td>\n",
       "      <td>11</td>\n",
       "      <td>-1</td>\n",
       "      <td>0.0601</td>\n",
       "      <td>lge</td>\n",
       "      <td>6.0.1</td>\n",
       "    </tr>\n",
       "    <tr>\n",
       "      <th>4</th>\n",
       "      <td>6</td>\n",
       "      <td>32</td>\n",
       "      <td>1</td>\n",
       "      <td>0.0522</td>\n",
       "      <td>lge</td>\n",
       "      <td>6.0.1</td>\n",
       "    </tr>\n",
       "  </tbody>\n",
       "</table>\n",
       "</div>"
      ],
      "text/plain": [
       "   period  size  direction     ppm brand os_version\n",
       "0       1    11         -1  0.2026   lge      6.0.1\n",
       "1       2    49         -1  0.1914   lge      6.0.1\n",
       "2       4    47          1  0.1571   lge      6.0.1\n",
       "3       5    11         -1  0.0601   lge      6.0.1\n",
       "4       6    32          1  0.0522   lge      6.0.1"
      ]
     },
     "execution_count": 18,
     "metadata": {},
     "output_type": "execute_result"
    }
   ],
   "source": [
    "gf.head()"
   ]
  },
  {
   "cell_type": "code",
   "execution_count": 16,
   "metadata": {},
   "outputs": [],
   "source": [
    "brands = list(gf['brand'].value_counts()[:10].keys())"
   ]
  },
  {
   "cell_type": "code",
   "execution_count": 17,
   "metadata": {},
   "outputs": [
    {
     "data": {
      "text/plain": [
       "brand     direction\n",
       "bq        -1           0.087999\n",
       "           1          -0.384124\n",
       "huawei    -1           0.227981\n",
       "           1           0.008395\n",
       "lenovo    -1           0.053790\n",
       "           1          -0.072871\n",
       "lge       -1           0.173712\n",
       "           1           0.073622\n",
       "motorola  -1           0.033732\n",
       "           1           0.056201\n",
       "oneplus   -1          -0.049000\n",
       "           1           0.119840\n",
       "samsung   -1           0.064320\n",
       "           1           0.070546\n",
       "tcl       -1           0.056982\n",
       "           1           0.028410\n",
       "vodafone  -1           0.008505\n",
       "           1          -0.922912\n",
       "zte       -1           0.042612\n",
       "           1           5.338967\n",
       "Name: ppm, dtype: float32"
      ]
     },
     "execution_count": 17,
     "metadata": {},
     "output_type": "execute_result"
    }
   ],
   "source": [
    "gf[gf['brand'].isin(brands)].groupby(['brand', 'direction'])['ppm'].mean()"
   ]
  },
  {
   "cell_type": "code",
   "execution_count": null,
   "metadata": {},
   "outputs": [],
   "source": []
  }
 ],
 "metadata": {
  "kernelspec": {
   "display_name": "Python 3",
   "language": "python",
   "name": "python3"
  },
  "language_info": {
   "codemirror_mode": {
    "name": "ipython",
    "version": 3
   },
   "file_extension": ".py",
   "mimetype": "text/x-python",
   "name": "python",
   "nbconvert_exporter": "python",
   "pygments_lexer": "ipython3",
   "version": "3.7.3"
  }
 },
 "nbformat": 4,
 "nbformat_minor": 2
}
