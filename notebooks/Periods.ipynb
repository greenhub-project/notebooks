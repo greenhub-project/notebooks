{
 "cells": [
  {
   "cell_type": "code",
   "execution_count": 1,
   "metadata": {},
   "outputs": [],
   "source": [
    "# data analysis and wrangling\n",
    "import pandas as pd\n",
    "import numpy as np\n",
    "import pyarrow.parquet as pq\n",
    "\n",
    "from datetime import timedelta\n",
    "from utils import downcast\n",
    "\n",
    "# visualization\n",
    "import matplotlib.pyplot as plt\n",
    "import seaborn as sns\n",
    "\n",
    "%matplotlib inline\n",
    "\n",
    "# configure visualizations\n",
    "sns.set_style('whitegrid')\n",
    "figsize=(8,6)"
   ]
  },
  {
   "cell_type": "code",
   "execution_count": 2,
   "metadata": {},
   "outputs": [],
   "source": [
    "def load_df(path, columns=None, use_threads=True):\n",
    "    try:\n",
    "        return pq.read_table(path, columns=columns, use_threads=use_threads).to_pandas(strings_to_categorical=True)\n",
    "    except Exception as e:\n",
    "        print(e)"
   ]
  },
  {
   "cell_type": "code",
   "execution_count": 3,
   "metadata": {},
   "outputs": [],
   "source": [
    "df = load_df('datasets/periods.parquet.gzip')\n",
    "df = downcast(df)\n",
    "df = df.drop(['network_status', 'screen_on', 'boundary'], axis=1)"
   ]
  },
  {
   "cell_type": "code",
   "execution_count": 4,
   "metadata": {},
   "outputs": [],
   "source": [
    "# df['period_acc'] = df['time_diff'].cumsum()\n",
    "# df.loc[df['period'] != df['period'].shift(), 'period_acc'] = None"
   ]
  },
  {
   "cell_type": "code",
   "execution_count": 5,
   "metadata": {},
   "outputs": [],
   "source": [
    "df['size'] = df.groupby('period')['period'].transform('size')"
   ]
  },
  {
   "cell_type": "code",
   "execution_count": 6,
   "metadata": {},
   "outputs": [],
   "source": [
    "df['direction'] = df['change'].apply(lambda x: 1 if x > 0 else -1)"
   ]
  },
  {
   "cell_type": "code",
   "execution_count": 7,
   "metadata": {},
   "outputs": [],
   "source": [
    "df['max_change'] = df['change_acc'].abs().groupby(df['period']).transform('max')"
   ]
  },
  {
   "cell_type": "code",
   "execution_count": 8,
   "metadata": {},
   "outputs": [],
   "source": [
    "df['max_time'] = df['time_acc'].groupby(df['period']).transform('max')"
   ]
  },
  {
   "cell_type": "code",
   "execution_count": 9,
   "metadata": {},
   "outputs": [],
   "source": [
    "df['ppm'] = df['max_change'].div(df['max_time'].div(60)).round(4)"
   ]
  },
  {
   "cell_type": "code",
   "execution_count": 10,
   "metadata": {},
   "outputs": [
    {
     "data": {
      "text/html": [
       "<div>\n",
       "<style scoped>\n",
       "    .dataframe tbody tr th:only-of-type {\n",
       "        vertical-align: middle;\n",
       "    }\n",
       "\n",
       "    .dataframe tbody tr th {\n",
       "        vertical-align: top;\n",
       "    }\n",
       "\n",
       "    .dataframe thead th {\n",
       "        text-align: right;\n",
       "    }\n",
       "</style>\n",
       "<table border=\"1\" class=\"dataframe\">\n",
       "  <thead>\n",
       "    <tr style=\"text-align: right;\">\n",
       "      <th></th>\n",
       "      <th>device_id</th>\n",
       "      <th>timestamp</th>\n",
       "      <th>battery_level</th>\n",
       "      <th>change</th>\n",
       "      <th>period</th>\n",
       "      <th>change_acc</th>\n",
       "      <th>time_diff</th>\n",
       "      <th>time_acc</th>\n",
       "      <th>size</th>\n",
       "      <th>direction</th>\n",
       "      <th>max_change</th>\n",
       "      <th>max_time</th>\n",
       "      <th>ppm</th>\n",
       "    </tr>\n",
       "  </thead>\n",
       "  <tbody>\n",
       "    <tr>\n",
       "      <th>0</th>\n",
       "      <td>1</td>\n",
       "      <td>2017-10-15 18:36:46</td>\n",
       "      <td>99</td>\n",
       "      <td>NaN</td>\n",
       "      <td>1</td>\n",
       "      <td>NaN</td>\n",
       "      <td>NaN</td>\n",
       "      <td>NaN</td>\n",
       "      <td>11</td>\n",
       "      <td>-1</td>\n",
       "      <td>11.0</td>\n",
       "      <td>3258.0</td>\n",
       "      <td>0.2026</td>\n",
       "    </tr>\n",
       "    <tr>\n",
       "      <th>1</th>\n",
       "      <td>1</td>\n",
       "      <td>2017-10-15 18:41:54</td>\n",
       "      <td>98</td>\n",
       "      <td>-1.0</td>\n",
       "      <td>1</td>\n",
       "      <td>-1.0</td>\n",
       "      <td>308.0</td>\n",
       "      <td>308.0</td>\n",
       "      <td>11</td>\n",
       "      <td>-1</td>\n",
       "      <td>11.0</td>\n",
       "      <td>3258.0</td>\n",
       "      <td>0.2026</td>\n",
       "    </tr>\n",
       "    <tr>\n",
       "      <th>2</th>\n",
       "      <td>1</td>\n",
       "      <td>2017-10-15 18:46:54</td>\n",
       "      <td>97</td>\n",
       "      <td>-1.0</td>\n",
       "      <td>1</td>\n",
       "      <td>-2.0</td>\n",
       "      <td>300.0</td>\n",
       "      <td>608.0</td>\n",
       "      <td>11</td>\n",
       "      <td>-1</td>\n",
       "      <td>11.0</td>\n",
       "      <td>3258.0</td>\n",
       "      <td>0.2026</td>\n",
       "    </tr>\n",
       "    <tr>\n",
       "      <th>3</th>\n",
       "      <td>1</td>\n",
       "      <td>2017-10-15 18:50:35</td>\n",
       "      <td>96</td>\n",
       "      <td>-1.0</td>\n",
       "      <td>1</td>\n",
       "      <td>-3.0</td>\n",
       "      <td>221.0</td>\n",
       "      <td>829.0</td>\n",
       "      <td>11</td>\n",
       "      <td>-1</td>\n",
       "      <td>11.0</td>\n",
       "      <td>3258.0</td>\n",
       "      <td>0.2026</td>\n",
       "    </tr>\n",
       "    <tr>\n",
       "      <th>4</th>\n",
       "      <td>1</td>\n",
       "      <td>2017-10-15 18:54:14</td>\n",
       "      <td>95</td>\n",
       "      <td>-1.0</td>\n",
       "      <td>1</td>\n",
       "      <td>-4.0</td>\n",
       "      <td>219.0</td>\n",
       "      <td>1048.0</td>\n",
       "      <td>11</td>\n",
       "      <td>-1</td>\n",
       "      <td>11.0</td>\n",
       "      <td>3258.0</td>\n",
       "      <td>0.2026</td>\n",
       "    </tr>\n",
       "  </tbody>\n",
       "</table>\n",
       "</div>"
      ],
      "text/plain": [
       "   device_id           timestamp  battery_level  change  period  change_acc  \\\n",
       "0          1 2017-10-15 18:36:46             99     NaN       1         NaN   \n",
       "1          1 2017-10-15 18:41:54             98    -1.0       1        -1.0   \n",
       "2          1 2017-10-15 18:46:54             97    -1.0       1        -2.0   \n",
       "3          1 2017-10-15 18:50:35             96    -1.0       1        -3.0   \n",
       "4          1 2017-10-15 18:54:14             95    -1.0       1        -4.0   \n",
       "\n",
       "   time_diff  time_acc  size  direction  max_change  max_time     ppm  \n",
       "0        NaN       NaN    11         -1        11.0    3258.0  0.2026  \n",
       "1      308.0     308.0    11         -1        11.0    3258.0  0.2026  \n",
       "2      300.0     608.0    11         -1        11.0    3258.0  0.2026  \n",
       "3      221.0     829.0    11         -1        11.0    3258.0  0.2026  \n",
       "4      219.0    1048.0    11         -1        11.0    3258.0  0.2026  "
      ]
     },
     "execution_count": 10,
     "metadata": {},
     "output_type": "execute_result"
    }
   ],
   "source": [
    "df.head()"
   ]
  },
  {
   "cell_type": "code",
   "execution_count": null,
   "metadata": {},
   "outputs": [],
   "source": []
  }
 ],
 "metadata": {
  "kernelspec": {
   "display_name": "Python 3",
   "language": "python",
   "name": "python3"
  },
  "language_info": {
   "codemirror_mode": {
    "name": "ipython",
    "version": 3
   },
   "file_extension": ".py",
   "mimetype": "text/x-python",
   "name": "python",
   "nbconvert_exporter": "python",
   "pygments_lexer": "ipython3",
   "version": "3.7.3"
  }
 },
 "nbformat": 4,
 "nbformat_minor": 2
}
