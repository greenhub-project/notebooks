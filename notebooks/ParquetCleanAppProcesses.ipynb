{
 "cells": [
  {
   "cell_type": "code",
   "execution_count": 1,
   "metadata": {},
   "outputs": [],
   "source": [
    "# data analysis and wrangling\n",
    "import gc\n",
    "import pandas as pd\n",
    "import numpy as np\n",
    "import pyarrow as pa\n",
    "import pyarrow.parquet as pq\n",
    "import re\n",
    "from datetime import timedelta\n",
    "\n",
    "# visualization\n",
    "import matplotlib.pyplot as plt\n",
    "import seaborn as sns\n",
    "\n",
    "%matplotlib inline\n",
    "\n",
    "# configure visualizations\n",
    "sns.set_style('whitegrid')\n",
    "figsize=(8,6)"
   ]
  },
  {
   "cell_type": "code",
   "execution_count": 2,
   "metadata": {},
   "outputs": [],
   "source": [
    "def load_df(path, cols, use_threads=True):\n",
    "    try:\n",
    "        return pq.read_table(path, columns=cols, use_threads=use_threads).to_pandas()\n",
    "    except Exception as e:\n",
    "        print(e)\n",
    "\n",
    "def downcast_ints(df):\n",
    "    # downcast int types\n",
    "    df_int = df.select_dtypes(include=['int'])\n",
    "    converted_int = df_int.apply(pd.to_numeric, downcast='unsigned')\n",
    "    df[converted_int.columns] = converted_int\n",
    "    \n",
    "    return df\n",
    "        \n",
    "def prepare(path,cols,dtypes):\n",
    "\n",
    "    df = load_df(path,cols)\n",
    "    df = df.astype(dtypes)\n",
    "    df = df.reset_index(drop=True)\n",
    "    df = downcast_ints(df)\n",
    "    \n",
    "    return df\n",
    "\n",
    "def get_label(value):\n",
    "    labels_map = {\"googlequicksearchbox\" : \"google\",\n",
    "                \"music\" : \"google play music\",\n",
    "                \"katana\" : \"facebook\",\n",
    "                \"latin\" : \"gboard\",\n",
    "                \"orca\" : \"messenger\",\n",
    "                \"chrome\" : \"chrome\",\n",
    "                \"android\" : \"instagram\",\n",
    "                \"whatsapp\" : \"whatsapp\",\n",
    "                \"gps\" : \"shareit\",\n",
    "                \"talk\" : \"hangouts\",\n",
    "                \"lite\" : \"fb lite\",\n",
    "                \"vidmate\" : \"vidmate\",\n",
    "                \"youtube\" : \"youtube\",\n",
    "                \"maps\" : \"maps\",\n",
    "                \"pop\" : \"es file explorer\"}\n",
    "    for k,v in labels_map.items():\n",
    "        try:\n",
    "            if re.match(r\".+\"+k+\"$\",value) :\n",
    "                return v\n",
    "        except ValueError as e:\n",
    "            raise e\n",
    "    return \"No label\""
   ]
  },
  {
   "cell_type": "code",
   "execution_count": 3,
   "metadata": {},
   "outputs": [
    {
     "name": "stdout",
     "output_type": "stream",
     "text": [
      "<class 'pandas.core.frame.DataFrame'>\n",
      "RangeIndex: 159935697 entries, 0 to 159935696\n",
      "Data columns (total 2 columns):\n",
      "sample_id    uint32\n",
      "name         category\n",
      "dtypes: category(1), uint32(1)\n",
      "memory usage: 762.6 MB\n"
     ]
    }
   ],
   "source": [
    "cols = ['sample_id', 'name']\n",
    "dtypes = {'sample_id' : 'uint32', 'name' : 'category'}\n",
    "df = prepare('1-parquet-files/top15-apps.parquet',cols,dtypes)\n",
    "\n",
    "df.info()"
   ]
  },
  {
   "cell_type": "code",
   "execution_count": 4,
   "metadata": {
    "scrolled": true
   },
   "outputs": [
    {
     "data": {
      "text/html": [
       "<div>\n",
       "<style scoped>\n",
       "    .dataframe tbody tr th:only-of-type {\n",
       "        vertical-align: middle;\n",
       "    }\n",
       "\n",
       "    .dataframe tbody tr th {\n",
       "        vertical-align: top;\n",
       "    }\n",
       "\n",
       "    .dataframe thead th {\n",
       "        text-align: right;\n",
       "    }\n",
       "</style>\n",
       "<table border=\"1\" class=\"dataframe\">\n",
       "  <thead>\n",
       "    <tr style=\"text-align: right;\">\n",
       "      <th></th>\n",
       "      <th>sample_id</th>\n",
       "      <th>name</th>\n",
       "    </tr>\n",
       "  </thead>\n",
       "  <tbody>\n",
       "    <tr>\n",
       "      <td>0</td>\n",
       "      <td>1</td>\n",
       "      <td>com.google.android.music:main</td>\n",
       "    </tr>\n",
       "    <tr>\n",
       "      <td>1</td>\n",
       "      <td>1</td>\n",
       "      <td>com.facebook.katana:videoplayer</td>\n",
       "    </tr>\n",
       "    <tr>\n",
       "      <td>2</td>\n",
       "      <td>1</td>\n",
       "      <td>com.facebook.orca:videoplayer</td>\n",
       "    </tr>\n",
       "    <tr>\n",
       "      <td>3</td>\n",
       "      <td>1</td>\n",
       "      <td>com.facebook.katana</td>\n",
       "    </tr>\n",
       "    <tr>\n",
       "      <td>4</td>\n",
       "      <td>1</td>\n",
       "      <td>com.facebook.orca</td>\n",
       "    </tr>\n",
       "    <tr>\n",
       "      <td>...</td>\n",
       "      <td>...</td>\n",
       "      <td>...</td>\n",
       "    </tr>\n",
       "    <tr>\n",
       "      <td>95</td>\n",
       "      <td>12</td>\n",
       "      <td>com.google.android.googlequicksearchbox:intera...</td>\n",
       "    </tr>\n",
       "    <tr>\n",
       "      <td>96</td>\n",
       "      <td>13</td>\n",
       "      <td>com.google.android.music:main</td>\n",
       "    </tr>\n",
       "    <tr>\n",
       "      <td>97</td>\n",
       "      <td>13</td>\n",
       "      <td>com.facebook.katana:videoplayer</td>\n",
       "    </tr>\n",
       "    <tr>\n",
       "      <td>98</td>\n",
       "      <td>13</td>\n",
       "      <td>com.facebook.orca:videoplayer</td>\n",
       "    </tr>\n",
       "    <tr>\n",
       "      <td>99</td>\n",
       "      <td>13</td>\n",
       "      <td>com.facebook.katana</td>\n",
       "    </tr>\n",
       "  </tbody>\n",
       "</table>\n",
       "<p>100 rows × 2 columns</p>\n",
       "</div>"
      ],
      "text/plain": [
       "    sample_id                                               name\n",
       "0           1                      com.google.android.music:main\n",
       "1           1                    com.facebook.katana:videoplayer\n",
       "2           1                      com.facebook.orca:videoplayer\n",
       "3           1                                com.facebook.katana\n",
       "4           1                                  com.facebook.orca\n",
       "..        ...                                                ...\n",
       "95         12  com.google.android.googlequicksearchbox:intera...\n",
       "96         13                      com.google.android.music:main\n",
       "97         13                    com.facebook.katana:videoplayer\n",
       "98         13                      com.facebook.orca:videoplayer\n",
       "99         13                                com.facebook.katana\n",
       "\n",
       "[100 rows x 2 columns]"
      ]
     },
     "execution_count": 4,
     "metadata": {},
     "output_type": "execute_result"
    }
   ],
   "source": [
    "df.head(100)"
   ]
  },
  {
   "cell_type": "code",
   "execution_count": 5,
   "metadata": {},
   "outputs": [],
   "source": [
    "df[['name', 'sub']] = df['name'].str.split(':', n=1, expand=True).astype('category')\n",
    "df = df.reset_index(drop=True)\n"
   ]
  },
  {
   "cell_type": "code",
   "execution_count": 10,
   "metadata": {},
   "outputs": [],
   "source": [
    "df['label'] = df['name'].apply(lambda x: get_label(x)).astype('category')\n"
   ]
  },
  {
   "cell_type": "code",
   "execution_count": 11,
   "metadata": {},
   "outputs": [
    {
     "name": "stderr",
     "output_type": "stream",
     "text": [
      "/home/greenhub/.local/lib/python3.6/site-packages/pandas/core/generic.py:9314: FutureWarning: Implicitly converting categorical to object-dtype ndarray. One or more of the values in 'other' are not present in this categorical's categories. A future version of pandas will raise a ValueError when 'other' contains different categories.\n",
      "\n",
      "To preserve the current behavior, add the new categories to the categorical before calling 'where', or convert the categorical to a different dtype.\n",
      "  errors=errors,\n"
     ]
    }
   ],
   "source": [
    "df['sub'] = df['sub'].mask(cond = df['sub'].isnull(), other = 'core_app').astype('category')\n"
   ]
  },
  {
   "cell_type": "code",
   "execution_count": 12,
   "metadata": {},
   "outputs": [
    {
     "name": "stdout",
     "output_type": "stream",
     "text": [
      "<class 'pandas.core.frame.DataFrame'>\n",
      "RangeIndex: 159935697 entries, 0 to 159935696\n",
      "Data columns (total 4 columns):\n",
      "sample_id    uint32\n",
      "name         category\n",
      "sub          category\n",
      "label        category\n",
      "dtypes: category(3), uint32(1)\n",
      "memory usage: 1.0 GB\n"
     ]
    }
   ],
   "source": [
    "#df.head(100)\n",
    "df.info()"
   ]
  },
  {
   "cell_type": "code",
   "execution_count": 13,
   "metadata": {},
   "outputs": [],
   "source": [
    "size = df.shape[0] // 2\n",
    "\n",
    "table = pa.Table.from_pandas(df[:size], nthreads=4)\n",
    "\n",
    "pqwriter = pq.ParquetWriter('2-datasets/top15Apps.parquet', table.schema)\n",
    "pqwriter.write_table(table)\n",
    "\n",
    "table = pa.Table.from_pandas(df[size:], nthreads=4)\n",
    "pqwriter.write_table(table)\n",
    "\n",
    "if pqwriter:\n",
    "    pqwriter.close()"
   ]
  },
  {
   "cell_type": "code",
   "execution_count": null,
   "metadata": {},
   "outputs": [],
   "source": []
  }
 ],
 "metadata": {
  "kernelspec": {
   "display_name": "Python 3",
   "language": "python",
   "name": "python3"
  },
  "language_info": {
   "codemirror_mode": {
    "name": "ipython",
    "version": 3
   },
   "file_extension": ".py",
   "mimetype": "text/x-python",
   "name": "python",
   "nbconvert_exporter": "python",
   "pygments_lexer": "ipython3",
   "version": "3.6.8"
  }
 },
 "nbformat": 4,
 "nbformat_minor": 2
}
