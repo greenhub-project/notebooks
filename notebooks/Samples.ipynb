{
 "cells": [
  {
   "cell_type": "code",
   "execution_count": 1,
   "metadata": {},
   "outputs": [],
   "source": [
    "# data analysis and wrangling\n",
    "import pandas as pd\n",
    "import numpy as np\n",
    "import pyarrow.parquet as pq\n",
    "from datetime import timedelta\n",
    "\n",
    "# visualization\n",
    "import matplotlib.pyplot as plt\n",
    "import seaborn as sns\n",
    "\n",
    "%matplotlib inline\n",
    "\n",
    "# configure visualizations\n",
    "sns.set_style('whitegrid')\n",
    "figsize=(8,6)"
   ]
  },
  {
   "cell_type": "code",
   "execution_count": 2,
   "metadata": {},
   "outputs": [],
   "source": [
    "def load_df(path, columns=None, use_threads=True):\n",
    "    try:\n",
    "        return pq.read_table(path, columns=columns, use_threads=use_threads).to_pandas()\n",
    "    except Exception as e:\n",
    "        print(e)\n",
    "\n",
    "def downcast_ints(df):\n",
    "    # downcast int types\n",
    "    df_int = df.select_dtypes(include=['int'])\n",
    "    converted_int = df_int.apply(pd.to_numeric, downcast='unsigned')\n",
    "    df[converted_int.columns] = converted_int\n",
    "    \n",
    "    return df\n",
    "        \n",
    "def prepare(path):\n",
    "    cols = ['device_id', 'timestamp', 'battery_level', 'network_status', 'screen_on']\n",
    "    # sorted by [device_id, timestamp]\n",
    "    df = load_df(path, cols)\n",
    "    df = df.reset_index(drop=True)\n",
    "    df = downcast_ints(df)\n",
    "    \n",
    "    return df"
   ]
  },
  {
   "cell_type": "code",
   "execution_count": 3,
   "metadata": {},
   "outputs": [
    {
     "name": "stdout",
     "output_type": "stream",
     "text": [
      "<class 'pandas.core.frame.DataFrame'>\n",
      "RangeIndex: 11503813 entries, 0 to 11503812\n",
      "Data columns (total 5 columns):\n",
      "device_id         uint16\n",
      "timestamp         datetime64[ns]\n",
      "battery_level     uint8\n",
      "network_status    object\n",
      "screen_on         uint8\n",
      "dtypes: datetime64[ns](1), object(1), uint16(1), uint8(2)\n",
      "memory usage: 219.4+ MB\n"
     ]
    }
   ],
   "source": [
    "df = prepare('datasets/samples.parquet')\n",
    "df.info()"
   ]
  },
  {
   "cell_type": "code",
   "execution_count": 4,
   "metadata": {},
   "outputs": [],
   "source": [
    "df['change'] = df.battery_level - df.battery_level.shift()\n",
    "df.loc[df.device_id != df.device_id.shift(), 'change'] = None"
   ]
  },
  {
   "cell_type": "code",
   "execution_count": 5,
   "metadata": {},
   "outputs": [],
   "source": [
    "def show_hist(s, bins, title, end=None, start=0, step=1, ylabel='# Samples', color='#66b3ff'):\n",
    "    s.hist(bins=bins, color=color, edgecolor='k', linewidth=.5, figsize=(12,6))\n",
    "    if (end != None):\n",
    "        plt.xticks(np.arange(start, end, step))\n",
    "    plt.ylabel(ylabel)\n",
    "    plt.title(title)\n",
    "    plt.savefig(title + '.png')\n",
    "    plt.show()"
   ]
  },
  {
   "cell_type": "code",
   "execution_count": 6,
   "metadata": {},
   "outputs": [
    {
     "data": {
      "image/png": "[encoded data removed]",
      "text/plain": [
       "<Figure size 864x432 with 1 Axes>"
      ]
     },
     "metadata": {
      "needs_background": "light"
     },
     "output_type": "display_data"
    }
   ],
   "source": [
    "interval = 5\n",
    "\n",
    "gl = df[(df['change'] >= -interval) & (df['change'] <= interval)]\n",
    "\n",
    "show_hist(gl['change'], 50, 'Level changes distribution')"
   ]
  },
  {
   "cell_type": "code",
   "execution_count": 7,
   "metadata": {},
   "outputs": [],
   "source": [
    "df['change_acc'] = df['change'].cumsum()\n",
    "df.loc[df.device_id != df.device_id.shift(), 'change_acc'] = None"
   ]
  },
  {
   "cell_type": "code",
   "execution_count": 8,
   "metadata": {},
   "outputs": [],
   "source": [
    "df['time_diff'] = df['timestamp'].diff().dt.total_seconds()\n",
    "df['time_acc'] = df['time_diff'].cumsum()\n",
    "df.loc[df.device_id != df.device_id.shift(), 'time_acc'] = None"
   ]
  },
  {
   "cell_type": "code",
   "execution_count": 9,
   "metadata": {},
   "outputs": [
    {
     "data": {
      "text/html": [
       "<div>\n",
       "<style scoped>\n",
       "    .dataframe tbody tr th:only-of-type {\n",
       "        vertical-align: middle;\n",
       "    }\n",
       "\n",
       "    .dataframe tbody tr th {\n",
       "        vertical-align: top;\n",
       "    }\n",
       "\n",
       "    .dataframe thead th {\n",
       "        text-align: right;\n",
       "    }\n",
       "</style>\n",
       "<table border=\"1\" class=\"dataframe\">\n",
       "  <thead>\n",
       "    <tr style=\"text-align: right;\">\n",
       "      <th></th>\n",
       "      <th>device_id</th>\n",
       "      <th>timestamp</th>\n",
       "      <th>battery_level</th>\n",
       "      <th>network_status</th>\n",
       "      <th>screen_on</th>\n",
       "      <th>change</th>\n",
       "      <th>change_acc</th>\n",
       "      <th>time_diff</th>\n",
       "      <th>time_acc</th>\n",
       "    </tr>\n",
       "  </thead>\n",
       "  <tbody>\n",
       "    <tr>\n",
       "      <th>0</th>\n",
       "      <td>1</td>\n",
       "      <td>2017-10-15 18:36:46</td>\n",
       "      <td>99</td>\n",
       "      <td>lte</td>\n",
       "      <td>1</td>\n",
       "      <td>NaN</td>\n",
       "      <td>NaN</td>\n",
       "      <td>NaN</td>\n",
       "      <td>NaN</td>\n",
       "    </tr>\n",
       "    <tr>\n",
       "      <th>1</th>\n",
       "      <td>1</td>\n",
       "      <td>2017-10-15 18:41:54</td>\n",
       "      <td>98</td>\n",
       "      <td>lte</td>\n",
       "      <td>1</td>\n",
       "      <td>-1.0</td>\n",
       "      <td>-1.0</td>\n",
       "      <td>308.0</td>\n",
       "      <td>308.0</td>\n",
       "    </tr>\n",
       "    <tr>\n",
       "      <th>2</th>\n",
       "      <td>1</td>\n",
       "      <td>2017-10-15 18:46:54</td>\n",
       "      <td>97</td>\n",
       "      <td>lte</td>\n",
       "      <td>1</td>\n",
       "      <td>-1.0</td>\n",
       "      <td>-2.0</td>\n",
       "      <td>300.0</td>\n",
       "      <td>608.0</td>\n",
       "    </tr>\n",
       "    <tr>\n",
       "      <th>3</th>\n",
       "      <td>1</td>\n",
       "      <td>2017-10-15 18:50:35</td>\n",
       "      <td>96</td>\n",
       "      <td>lte</td>\n",
       "      <td>1</td>\n",
       "      <td>-1.0</td>\n",
       "      <td>-3.0</td>\n",
       "      <td>221.0</td>\n",
       "      <td>829.0</td>\n",
       "    </tr>\n",
       "    <tr>\n",
       "      <th>4</th>\n",
       "      <td>1</td>\n",
       "      <td>2017-10-15 18:54:14</td>\n",
       "      <td>95</td>\n",
       "      <td>lte</td>\n",
       "      <td>1</td>\n",
       "      <td>-1.0</td>\n",
       "      <td>-4.0</td>\n",
       "      <td>219.0</td>\n",
       "      <td>1048.0</td>\n",
       "    </tr>\n",
       "  </tbody>\n",
       "</table>\n",
       "</div>"
      ],
      "text/plain": [
       "   device_id           timestamp  battery_level network_status  screen_on  \\\n",
       "0          1 2017-10-15 18:36:46             99            lte          1   \n",
       "1          1 2017-10-15 18:41:54             98            lte          1   \n",
       "2          1 2017-10-15 18:46:54             97            lte          1   \n",
       "3          1 2017-10-15 18:50:35             96            lte          1   \n",
       "4          1 2017-10-15 18:54:14             95            lte          1   \n",
       "\n",
       "   change  change_acc  time_diff  time_acc  \n",
       "0     NaN         NaN        NaN       NaN  \n",
       "1    -1.0        -1.0      308.0     308.0  \n",
       "2    -1.0        -2.0      300.0     608.0  \n",
       "3    -1.0        -3.0      221.0     829.0  \n",
       "4    -1.0        -4.0      219.0    1048.0  "
      ]
     },
     "execution_count": 9,
     "metadata": {},
     "output_type": "execute_result"
    }
   ],
   "source": [
    "df.head()"
   ]
  },
  {
   "cell_type": "code",
   "execution_count": null,
   "metadata": {},
   "outputs": [],
   "source": []
  }
 ],
 "metadata": {
  "kernelspec": {
   "display_name": "Python 3",
   "language": "python",
   "name": "python3"
  },
  "language_info": {
   "codemirror_mode": {
    "name": "ipython",
    "version": 3
   },
   "file_extension": ".py",
   "mimetype": "text/x-python",
   "name": "python",
   "nbconvert_exporter": "python",
   "pygments_lexer": "ipython3",
   "version": "3.7.3"
  }
 },
 "nbformat": 4,
 "nbformat_minor": 2
}
