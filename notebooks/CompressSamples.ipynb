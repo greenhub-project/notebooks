{
 "cells": [
  {
   "cell_type": "code",
   "execution_count": 7,
   "metadata": {},
   "outputs": [],
   "source": [
    "import numpy as np\n",
    "import pandas as pd\n",
    "import pyarrow as pa\n",
    "import pyarrow.parquet as pq"
   ]
  },
  {
   "cell_type": "code",
   "execution_count": 8,
   "metadata": {},
   "outputs": [],
   "source": [
    "def typecast_objects(gl_obj):\n",
    "    gl_obj = gl_obj.apply(lambda x: x.str.strip())\n",
    "    gl_obj = gl_obj.apply(lambda x: x.str.lower())\n",
    "    # convert object to category columns\n",
    "    # when unique values < 50% of total\n",
    "    converted_obj = pd.DataFrame()\n",
    "    for col in gl_obj.columns:\n",
    "        num_unique_values = len(gl_obj[col].unique())\n",
    "        num_total_values = len(gl_obj[col])\n",
    "        if num_unique_values / num_total_values < 0.5:\n",
    "            converted_obj.loc[:, col] = gl_obj[col].astype('category')\n",
    "        else:\n",
    "            converted_obj.loc[:, col] = gl_obj[col]\n",
    "    return converted_obj\n",
    "\n",
    "\n",
    "def save_df(df, path, compression='snappy', use_dictionary=True):\n",
    "    \"\"\"\n",
    "    Save a pandas DataFrame to a parquet file\n",
    "    \"\"\"\n",
    "    try:\n",
    "        df.to_parquet(path, compression=compression,\n",
    "                      use_dictionary=use_dictionary)\n",
    "        print(path, 'created!')\n",
    "    except Exception as e:\n",
    "        print(e)"
   ]
  },
  {
   "cell_type": "code",
   "execution_count": 9,
   "metadata": {},
   "outputs": [
    {
     "name": "stdout",
     "output_type": "stream",
     "text": [
      "<class 'pandas.core.frame.DataFrame'>\n",
      "RangeIndex: 11957118 entries, 0 to 11957117\n",
      "Data columns (total 10 columns):\n",
      "id                   int64\n",
      "device_id            int64\n",
      "timestamp            datetime64[ns]\n",
      "battery_state        object\n",
      "battery_level        float64\n",
      "network_status       object\n",
      "screen_brightness    int64\n",
      "screen_on            int64\n",
      "timezone             object\n",
      "country_code         object\n",
      "dtypes: datetime64[ns](1), float64(1), int64(4), object(4)\n",
      "memory usage: 912.3+ MB\n"
     ]
    }
   ],
   "source": [
    "cols = ['id', 'device_id', 'timestamp', 'battery_state', 'battery_level',\n",
    "'network_status', 'screen_brightness', 'screen_on','timezone', 'country_code']\n",
    "\n",
    "df = pd.read_csv('0-Original-CSV/samples.csv', usecols=cols, parse_dates=['timestamp'])\n",
    "\n",
    "df.info()"
   ]
  },
  {
   "cell_type": "code",
   "execution_count": 10,
   "metadata": {},
   "outputs": [],
   "source": [
    "# sorting\n",
    "df = df.sort_values(by=['device_id', 'timestamp'])\n",
    "\n",
    "# date filtering\n",
    "df = df[pd.Timestamp('2017-10-15') <= df.timestamp]\n",
    "\n",
    "# reset indexes\n",
    "df = df.reset_index(drop=True)\n",
    "\n",
    "# explicitly cast battery level to integer\n",
    "df_level = df.battery_level * 100\n",
    "converted_level = df_level.astype(np.uint8)\n",
    "\n",
    "# downcast integer columns\n",
    "df_int = df.select_dtypes(include=['int'])\n",
    "converted_int = df_int.apply(pd.to_numeric, downcast='unsigned')\n",
    "\n",
    "# downcast float columns\n",
    "df_float = df.select_dtypes(include=['float']).drop('battery_level', axis=1)\n",
    "converted_float = df_float.apply(pd.to_numeric, downcast='float')\n",
    "\n",
    "# convert object to category columns\n",
    "# when unique values < 50% of total\n",
    "df_obj = df.select_dtypes(include=['object'])\n",
    "converted_obj = typecast_objects(df_obj)\n",
    "\n",
    "# transform optimized types\n",
    "df[converted_int.columns] = converted_int\n",
    "df[converted_float.columns] = converted_float\n",
    "df[converted_obj.columns] = converted_obj\n",
    "df['battery_level'] = converted_level\n",
    "\n",
    "# filter out malformed records\n",
    "df = df[df.battery_level <= 100]"
   ]
  },
  {
   "cell_type": "code",
   "execution_count": 11,
   "metadata": {},
   "outputs": [
    {
     "name": "stdout",
     "output_type": "stream",
     "text": [
      "parquet_files/samples.parquet created!\n"
     ]
    }
   ],
   "source": [
    "save_df(df, 'parquet_files/samples.parquet')"
   ]
  },
  {
   "cell_type": "code",
   "execution_count": 12,
   "metadata": {},
   "outputs": [
    {
     "name": "stdout",
     "output_type": "stream",
     "text": [
      "<class 'pandas.core.frame.DataFrame'>\n",
      "Int64Index: 11503813 entries, 0 to 11503816\n",
      "Data columns (total 10 columns):\n",
      "id                   uint32\n",
      "device_id            uint16\n",
      "timestamp            datetime64[ns]\n",
      "battery_state        category\n",
      "battery_level        uint8\n",
      "network_status       category\n",
      "screen_brightness    int64\n",
      "screen_on            uint8\n",
      "timezone             category\n",
      "country_code         category\n",
      "dtypes: category(4), datetime64[ns](1), int64(1), uint16(1), uint32(1), uint8(2)\n",
      "memory usage: 416.9 MB\n"
     ]
    }
   ],
   "source": [
    "df.info()"
   ]
  },
  {
   "cell_type": "code",
   "execution_count": null,
   "metadata": {},
   "outputs": [],
   "source": []
  }
 ],
 "metadata": {
  "kernelspec": {
   "display_name": "Python 3",
   "language": "python",
   "name": "python3"
  },
  "language_info": {
   "codemirror_mode": {
    "name": "ipython",
    "version": 3
   },
   "file_extension": ".py",
   "mimetype": "text/x-python",
   "name": "python",
   "nbconvert_exporter": "python",
   "pygments_lexer": "ipython3",
   "version": "3.6.8"
  }
 },
 "nbformat": 4,
 "nbformat_minor": 2
}
