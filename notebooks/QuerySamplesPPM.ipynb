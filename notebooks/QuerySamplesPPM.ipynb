{
 "cells": [
  {
   "cell_type": "code",
   "execution_count": 1,
   "metadata": {},
   "outputs": [],
   "source": [
    "# data analysis and wrangling\n",
    "import pandas as pd\n",
    "import numpy as np\n",
    "import pyarrow.parquet as pq\n",
    "from datetime import timedelta\n",
    "\n",
    "# visualization\n",
    "import matplotlib.pyplot as plt\n",
    "from matplotlib import gridspec\n",
    "import seaborn as sns\n",
    "\n",
    "%matplotlib inline\n",
    "\n",
    "# configure visualizations\n",
    "sns.set_style('whitegrid')\n",
    "figsize=(8,6)"
   ]
  },
  {
   "cell_type": "code",
   "execution_count": 2,
   "metadata": {},
   "outputs": [],
   "source": [
    "def load_df(path, columns=None, use_threads=True):\n",
    "    try:\n",
    "        return pq.read_table(path, columns=columns, use_threads=use_threads).to_pandas()\n",
    "    except Exception as e:\n",
    "        print(e)\n",
    "\n",
    "def downcast_ints(df):\n",
    "    # downcast int types\n",
    "    df_int = df.select_dtypes(include=['int'])\n",
    "    converted_int = df_int.apply(pd.to_numeric, downcast='unsigned')\n",
    "    df[converted_int.columns] = converted_int\n",
    "    \n",
    "    return df\n",
    "        \n",
    "def prepare(path,cols):\n",
    "\n",
    "    df = load_df(path,cols)\n",
    "    df = df.reset_index(drop=True)\n",
    "    df = downcast_ints(df)\n",
    "    \n",
    "    return df"
   ]
  },
  {
   "cell_type": "code",
   "execution_count": 3,
   "metadata": {},
   "outputs": [],
   "source": [
    "def pieOthers(dfVars,dfVals,threshold):\n",
    "    df = pd.DataFrame(\n",
    "        data = {'var': dfVars, 'value' : dfVals},\n",
    "        ).sort_values('value', ascending = False)\n",
    "    \n",
    "    if threshold > 0 :\n",
    "        df2 = df[:threshold].copy()\n",
    "        new_row = pd.DataFrame(data = {\n",
    "            'var' : ['Others'],\n",
    "            'value' : [dfVals[threshold:].sum()]\n",
    "        })\n",
    "\n",
    "        df2 = pd.concat([df2, new_row])\n",
    "    else:\n",
    "        df2 = df\n",
    "        \n",
    "    percent = 100.*df2['value']/df2['value'].sum()\n",
    "    labels = ['{0} - {1:1.2f} %'.format(i,j) for i,j in zip(df2['var'], percent)]\n",
    "    #labels = ['{0} - {1}'.format(i,j) for i,j in zip(df2['var'], df2['value'])]\n",
    "    \n",
    "    colorsX = plt.cm.tab20.colors\n",
    "    patches, texts = plt.pie(df2['value'], shadow=True, startangle=90, colors = colorsX)\n",
    "    plt.legend(patches, labels, loc=\"best\")\n",
    "    plt.axis('equal')\n",
    "    plt.tight_layout()\n",
    "    plt.show()\n",
    "    \n",
    "def pieOthers2(dfVars,dfVals,threshold):\n",
    "    df = pd.DataFrame(\n",
    "        data = {'var': dfVars, 'value' : dfVals},\n",
    "        ).sort_values('value', ascending = False)\n",
    "    \n",
    "    if threshold > 0 :\n",
    "        df2 = df[:threshold].copy()\n",
    "        new_row = pd.DataFrame(data = {\n",
    "            'var' : ['Others'],\n",
    "            'value' : [dfVals[threshold:].sum()]\n",
    "        })\n",
    "\n",
    "        df2 = pd.concat([df2, new_row])\n",
    "    else:\n",
    "        df2 = df\n",
    "    \n",
    "    percent = 100.*df2['value']/df2['value'].sum()\n",
    "    labels = ['{0} - {1:1.2f} %'.format(i,j) for i,j in zip(df2['var'], percent)]\n",
    "    \n",
    "    #labels = ['{0} - {1}'.format(i,j) for i,j in zip(df2['var'], df2['value'])]\n",
    "    \n",
    "    fig=plt.figure(figsize=(7,5))\n",
    "    gs1 = gridspec.GridSpec(1,1,\n",
    "        left=0.1,right=0.7,\n",
    "        bottom=0.1,top=0.7,\n",
    "    )\n",
    "    pie_ax=fig.add_subplot(gs1[0])\n",
    "    \n",
    "    colors = plt.cm.tab20.colors\n",
    "    wedges, texts = pie_ax.pie(\n",
    "        df2['value'],\n",
    "        shadow=True,\n",
    "        colors=colors,\n",
    "        startangle=90,\n",
    "    )\n",
    "    bbox_props = dict(boxstyle=\"square,pad=0.3\", fc=\"w\", ec=\"k\", lw=0.72)\n",
    "    kw = dict(xycoords='data', textcoords='data', arrowprops=dict(arrowstyle=\"-\"), zorder=0, va=\"center\")\n",
    "\n",
    "    for i, p in enumerate(wedges):\n",
    "        ang = (p.theta2 - p.theta1)/2. + p.theta1\n",
    "        y = np.sin(np.deg2rad(ang))\n",
    "        x = np.cos(np.deg2rad(ang))\n",
    "        horizontalalignment = {-1: \"right\", 1: \"left\"}[int(np.sign(x))]\n",
    "        connectionstyle = \"angle,angleA=0,angleB={}\".format(ang)\n",
    "        kw[\"arrowprops\"].update({\"connectionstyle\": connectionstyle,\"color\":colors[i]})\n",
    "        pie_ax.annotate(labels[i], xy=(x, y), xytext=(1.35*np.sign(x), 1.4*y),\n",
    "                     horizontalalignment=horizontalalignment, **kw)\n",
    "    pie_ax.axis('equal')\n",
    "\n",
    "    plt.show()"
   ]
  },
  {
   "cell_type": "code",
   "execution_count": 4,
   "metadata": {},
   "outputs": [],
   "source": [
    "cols = ['id','network_status', 'screen_on', 'timezone', 'country_code', 'period', 'direction', 'ppm']\n",
    "dfSamples = prepare('datasets/samplesPPM.parquet',cols)"
   ]
  },
  {
   "cell_type": "code",
   "execution_count": 9,
   "metadata": {
    "scrolled": true
   },
   "outputs": [],
   "source": [
    "dfSamples_droppedDup = dfSamples.drop(['id', 'screen_on', 'network_status'], axis=1).drop_duplicates()\n",
    "\n",
    "#due to functional dependicies, individual duplication drops must be done\n",
    "dfSamples_droppedDup_Screen = dfSamples.drop(dfSamples.columns.difference(['period', 'direction', 'ppm', 'screen_on']), axis=1).drop_duplicates()\n",
    "dfSamples_droppedDup_NetworkStatus = dfSamples.drop(dfSamples.columns.difference(['period', 'direction', 'ppm', 'network_status']), axis=1).drop_duplicates()\n"
   ]
  },
  {
   "cell_type": "code",
   "execution_count": 43,
   "metadata": {},
   "outputs": [],
   "source": [
    "def samplesGroupBy(dataframe, var, direction, minCount):\n",
    "    df = dataframe.groupby([var,'direction'])['ppm'].agg(average_ppm='mean', std='std', count='count').reset_index().sort_values(['average_ppm'], ascending=False)\n",
    "    return df.loc[(df['direction'] == direction) & (df['count'] >= minCount)]\n",
    "\n",
    "dfTimezoneGBPos = samplesGroupBy(dfSamples_droppedDup, 'timezone', 1, 30)\n",
    "dfTimezoneGBNeg = samplesGroupBy(dfSamples_droppedDup, 'timezone', -1, 30)\n",
    "\n",
    "dfCountryGBPos = samplesGroupBy(dfSamples_droppedDup, 'country_code', 1, 30)\n",
    "dfCountryGBNeg = samplesGroupBy(dfSamples_droppedDup, 'country_code', -1, 30)\n",
    "\n",
    "dfScreenGBPos = samplesGroupBy(dfSamples_droppedDup_Screen, 'screen_on', 1, 0)\n",
    "dfScreenGBNeg = samplesGroupBy(dfSamples_droppedDup_Screen, 'screen_on', -1, 0)\n",
    "\n",
    "dfNetworkStatusGBPos = samplesGroupBy(dfSamples_droppedDup_NetworkStatus, 'network_status', 1, 30)\n",
    "dfNetworkStatusGBNeg = samplesGroupBy(dfSamples_droppedDup_NetworkStatus, 'network_status', -1, 30)"
   ]
  },
  {
   "cell_type": "code",
   "execution_count": 16,
   "metadata": {},
   "outputs": [
    {
     "name": "stdout",
     "output_type": "stream",
     "text": [
      "               timezone  direction  average_ppm       std  count\n",
      "61    AFRICA/PORTO-NOVO        1.0     2.399762  2.791198     32\n",
      "249       ASIA/JAYAPURA        1.0     1.033726  0.488529    472\n",
      "370     EUROPE/ISTANBUL        1.0     1.018886  0.705314    155\n",
      "382   EUROPE/LUXEMBOURG        1.0     0.911628  0.495417    513\n",
      "304        ASIA/TBILISI        1.0     0.907625  0.405421    104\n",
      "..                  ...        ...          ...       ...    ...\n",
      "310          ASIA/TOKYO        1.0     0.399742  0.149462     86\n",
      "318  ASIA/YEKATERINBURG        1.0     0.370269  0.225378     91\n",
      "223         ASIA/BEIRUT        1.0     0.334566  0.108292     44\n",
      "57       AFRICA/NAIROBI        1.0     0.309540  0.169422     80\n",
      "202   AMERICA/VANCOUVER        1.0     0.299367  0.127781     82\n",
      "\n",
      "[137 rows x 5 columns]\n",
      "              timezone  direction  average_ppm       std  count\n",
      "15    AFRICA/BUJUMBURA       -1.0     2.644638  2.297229     60\n",
      "60   AFRICA/PORTO-NOVO       -1.0     2.112202  2.329160     46\n",
      "112     AMERICA/DENVER       -1.0     1.430524  7.025665    528\n",
      "116   AMERICA/EDMONTON       -1.0     1.026540  0.752100    165\n",
      "35       AFRICA/HARARE       -1.0     0.875232  0.714253     95\n",
      "..                 ...        ...          ...       ...    ...\n",
      "327   ATLANTIC/MADEIRA       -1.0     0.162208  0.199289  21507\n",
      "319       ASIA/YEREVAN       -1.0     0.137865  0.186040     34\n",
      "52       AFRICA/MAPUTO       -1.0     0.131808  0.110527    288\n",
      "347    EUROPE/BELGRADE       -1.0     0.126494  0.168150     33\n",
      "309         ASIA/TOKYO       -1.0     0.087975  0.076826     93\n",
      "\n",
      "[144 rows x 5 columns]\n"
     ]
    }
   ],
   "source": [
    "print(dfTimezoneGBPos);print(dfTimezoneGBNeg)"
   ]
  },
  {
   "cell_type": "code",
   "execution_count": 17,
   "metadata": {
    "collapsed": true
   },
   "outputs": [
    {
     "name": "stdout",
     "output_type": "stream",
     "text": [
      "    country_code  direction  average_ppm       std  count\n",
      "27            bj        1.0     2.092857  2.714462     35\n",
      "266           tr        1.0     1.003432  0.566540    148\n",
      "163           lu        1.0     0.918329  0.491773    500\n",
      "1             ae        1.0     0.893526  0.613443    411\n",
      "274           ua        1.0     0.891641  0.801452    409\n",
      "..           ...        ...          ...       ...    ...\n",
      "39            bw        1.0     0.417514  0.101347    118\n",
      "81            eg        1.0     0.410910  0.208281     59\n",
      "270           tw        1.0     0.403103  0.281912     38\n",
      "143           jp        1.0     0.401657  0.164492     49\n",
      "145           ke        1.0     0.323094  0.172040     72\n",
      "\n",
      "[94 rows x 5 columns]\n",
      "    country_code  direction  average_ppm       std  count\n",
      "24            bi       -1.0     2.638927  2.280685     58\n",
      "26            bj       -1.0     1.898302  2.258115     48\n",
      "292           zw       -1.0     0.882162  0.714865     94\n",
      "34            bs       -1.0     0.784886  0.648820     58\n",
      "140           jo       -1.0     0.677069  0.481894    224\n",
      "..           ...        ...          ...       ...    ...\n",
      "221           pt       -1.0     0.176805  0.291306  46232\n",
      "245           sl       -1.0     0.173220  0.173219     70\n",
      "191           mz       -1.0     0.136453  0.122600    285\n",
      "201           nl       -1.0     0.124483  0.133580    461\n",
      "142           jp       -1.0     0.086835  0.071631     48\n",
      "\n",
      "[95 rows x 5 columns]\n"
     ]
    }
   ],
   "source": [
    "print(dfCountryGBPos);print(dfCountryGBNeg)"
   ]
  },
  {
   "cell_type": "code",
   "execution_count": 21,
   "metadata": {},
   "outputs": [
    {
     "name": "stdout",
     "output_type": "stream",
     "text": [
      "   screen_on  direction  average_ppm       std   count\n",
      "1          0        1.0     0.682100  0.679152  128211\n",
      "3          1        1.0     0.647396  0.693152   87967\n",
      "   screen_on  direction  average_ppm       std   count\n",
      "2          1       -1.0     0.324557  0.922686  131032\n",
      "0          0       -1.0     0.229028  0.495743  102907\n"
     ]
    }
   ],
   "source": [
    "print(dfScreenGBPos);print(dfScreenGBNeg)"
   ]
  },
  {
   "cell_type": "code",
   "execution_count": 44,
   "metadata": {},
   "outputs": [
    {
     "name": "stdout",
     "output_type": "stream",
     "text": [
      "   network_status  direction  average_ppm       std  count\n",
      "23         EVDO_A        1.0     0.763882  0.275708    140\n",
      "31          HSPAP        1.0     0.678161  0.495035   9522\n",
      "39           WIFI        1.0     0.671215  0.830926  82410\n",
      "29           HSPA        1.0     0.665793  0.625496   3692\n",
      "15   DISCONNECTED        1.0     0.662881  0.601121  56928\n",
      "37           UTMS        1.0     0.662144  0.455777   3871\n",
      "27          HSDPA        1.0     0.632587  0.310541    562\n",
      "35            LTE        1.0     0.627449  0.467582  19282\n",
      "1               0        1.0     0.625242  0.405350   1632\n",
      "19           EDGE        1.0     0.591348  0.361806   1560\n",
      "33          HSUPA        1.0     0.578681  0.298708    688\n",
      "17  DISCONNECTING        1.0     0.538634  0.283396    947\n",
      "25           GPRS        1.0     0.522476  0.308337    129\n",
      "6              19        1.0     0.465028  0.222995     47\n",
      "   network_status  direction  average_ppm       std  count\n",
      "28           HSPA       -1.0     0.343693  0.500024  10060\n",
      "0               0       -1.0     0.326598  0.508171   3749\n",
      "38           WIFI       -1.0     0.301418  0.906522  87519\n",
      "30          HSPAP       -1.0     0.298970  0.443315  26429\n",
      "5              19       -1.0     0.297645  0.202265     83\n",
      "26          HSDPA       -1.0     0.281132  0.420573   1755\n",
      "20          EHRPD       -1.0     0.276520  0.253162     46\n",
      "14   DISCONNECTED       -1.0     0.255975  0.787010  84329\n",
      "12     CONNECTING       -1.0     0.250116  0.422610     57\n",
      "22         EVDO_A       -1.0     0.245516  0.190140    270\n",
      "7           1XRTT       -1.0     0.239816  0.154583     87\n",
      "32          HSUPA       -1.0     0.228663  0.241416   1293\n",
      "24           GPRS       -1.0     0.228581  0.359551    477\n",
      "34            LTE       -1.0     0.222196  0.330090  32584\n",
      "36           UTMS       -1.0     0.215996  0.344258  11370\n",
      "18           EDGE       -1.0     0.213612  0.313005   6055\n",
      "16  DISCONNECTING       -1.0     0.179025  0.154768   4528\n"
     ]
    }
   ],
   "source": [
    "print(dfNetworkStatusGBPos);print(dfNetworkStatusGBNeg)"
   ]
  },
  {
   "cell_type": "code",
   "execution_count": 48,
   "metadata": {},
   "outputs": [],
   "source": [
    "cols2 = ['id','sample_id','health']\n",
    "dfBatteryDetails = prepare('datasets/battery_details.parquet',cols2)\n",
    "\n",
    "#only consider samples with battery health = {OVERHEAT, OVER VOLTAGE, GOOD}. Leave out = {DEAD, UNSPECIFIED FAILURE, UNKNOWN}\n",
    "#dfBatteryDetails_Health = dfBatteryDetails.loc[(dfBatteryDetails['health'] == \"GOOD\") | (dfBatteryDetails['health'] == 'OVER VOLTAGE') | (dfBatteryDetails['health'] == \"OVERHEAT\")]\n",
    "dfBatteryDetails_Health = dfBatteryDetails.loc[(dfBatteryDetails['health'] == \"GOOD\")]"
   ]
  },
  {
   "cell_type": "code",
   "execution_count": 49,
   "metadata": {},
   "outputs": [],
   "source": [
    "df_inner_SamplesBattery = pd.merge(dfSamples, dfBatteryDetails_Health, left_on='id', right_on='sample_id', how='inner')"
   ]
  },
  {
   "cell_type": "code",
   "execution_count": 50,
   "metadata": {
    "scrolled": true
   },
   "outputs": [],
   "source": [
    "df_inner_SamplesBattery_droppedDup = df_inner_SamplesBattery.drop(['id_x', 'screen_on', 'network_status', 'id_y', 'sample_id', 'health'], axis=1).drop_duplicates()\n",
    "df_inner_SamplesBattery_droppedDup_Screen = df_inner_SamplesBattery.drop(df_inner_SamplesBattery.columns.difference(['period', 'direction', 'ppm', 'screen_on']), axis=1).drop_duplicates()\n",
    "df_inner_SamplesBattery_droppedDup_NetworkStatus = df_inner_SamplesBattery.drop(df_inner_SamplesBattery.columns.difference(['period', 'direction', 'ppm', 'network_status']), axis=1).drop_duplicates()"
   ]
  },
  {
   "cell_type": "code",
   "execution_count": 51,
   "metadata": {},
   "outputs": [],
   "source": [
    "df_inner_SamplesBattery_TimezoneGBPos = samplesGroupBy(df_inner_SamplesBattery_droppedDup, 'timezone', 1, 30)\n",
    "df_inner_SamplesBattery_TimezoneGBNeg = samplesGroupBy(df_inner_SamplesBattery_droppedDup, 'timezone', -1, 30)\n",
    "\n",
    "df_inner_SamplesBattery_CountryGBPos = samplesGroupBy(df_inner_SamplesBattery_droppedDup, 'country_code', 1, 30)\n",
    "df_inner_SamplesBattery_CountryGBNeg = samplesGroupBy(df_inner_SamplesBattery_droppedDup, 'country_code', -1, 30)\n",
    "\n",
    "df_inner_SamplesBattery_ScreenGBPos = samplesGroupBy(df_inner_SamplesBattery_droppedDup_Screen, 'screen_on', 1, 0)\n",
    "df_inner_SamplesBattery_ScreenGBNeg = samplesGroupBy(df_inner_SamplesBattery_droppedDup_Screen, 'screen_on', -1, 0)\n",
    "\n",
    "df_inner_SamplesBattery_NetworkStatusGBPos = samplesGroupBy(df_inner_SamplesBattery_droppedDup_NetworkStatus, 'network_status', 1, 30)\n",
    "df_inner_SamplesBattery_NetworkStatusGBNeg = samplesGroupBy(df_inner_SamplesBattery_droppedDup_NetworkStatus, 'network_status', -1, 30)"
   ]
  },
  {
   "cell_type": "code",
   "execution_count": 52,
   "metadata": {},
   "outputs": [
    {
     "name": "stdout",
     "output_type": "stream",
     "text": [
      "               timezone  direction  average_ppm       std  count\n",
      "61    AFRICA/PORTO-NOVO        1.0     2.399762  2.791198     32\n",
      "249       ASIA/JAYAPURA        1.0     1.033726  0.488529    472\n",
      "370     EUROPE/ISTANBUL        1.0     1.018886  0.705314    155\n",
      "382   EUROPE/LUXEMBOURG        1.0     0.911628  0.495417    513\n",
      "304        ASIA/TBILISI        1.0     0.907625  0.405421    104\n",
      "..                  ...        ...          ...       ...    ...\n",
      "310          ASIA/TOKYO        1.0     0.399742  0.149462     86\n",
      "318  ASIA/YEKATERINBURG        1.0     0.370269  0.225378     91\n",
      "223         ASIA/BEIRUT        1.0     0.334566  0.108292     44\n",
      "57       AFRICA/NAIROBI        1.0     0.309540  0.169422     80\n",
      "202   AMERICA/VANCOUVER        1.0     0.299367  0.127781     82\n",
      "\n",
      "[137 rows x 5 columns]\n",
      "               timezone  direction  average_ppm       std  count\n",
      "61    AFRICA/PORTO-NOVO        1.0     2.399762  2.791198     32\n",
      "249       ASIA/JAYAPURA        1.0     1.033726  0.488529    472\n",
      "370     EUROPE/ISTANBUL        1.0     1.018886  0.705314    155\n",
      "382   EUROPE/LUXEMBOURG        1.0     0.911628  0.495417    513\n",
      "304        ASIA/TBILISI        1.0     0.907625  0.405421    104\n",
      "..                  ...        ...          ...       ...    ...\n",
      "310          ASIA/TOKYO        1.0     0.399742  0.149462     86\n",
      "318  ASIA/YEKATERINBURG        1.0     0.370269  0.225378     91\n",
      "223         ASIA/BEIRUT        1.0     0.334566  0.108292     44\n",
      "57       AFRICA/NAIROBI        1.0     0.309540  0.169422     80\n",
      "202   AMERICA/VANCOUVER        1.0     0.299367  0.127781     82\n",
      "\n",
      "[137 rows x 5 columns]\n",
      "              timezone  direction  average_ppm       std  count\n",
      "15    AFRICA/BUJUMBURA       -1.0     2.644638  2.297229     60\n",
      "60   AFRICA/PORTO-NOVO       -1.0     2.112202  2.329160     46\n",
      "112     AMERICA/DENVER       -1.0     1.430524  7.025665    528\n",
      "116   AMERICA/EDMONTON       -1.0     1.026540  0.752100    165\n",
      "35       AFRICA/HARARE       -1.0     0.875232  0.714253     95\n",
      "..                 ...        ...          ...       ...    ...\n",
      "327   ATLANTIC/MADEIRA       -1.0     0.162208  0.199289  21507\n",
      "319       ASIA/YEREVAN       -1.0     0.137865  0.186040     34\n",
      "52       AFRICA/MAPUTO       -1.0     0.131808  0.110527    288\n",
      "347    EUROPE/BELGRADE       -1.0     0.126494  0.168150     33\n",
      "309         ASIA/TOKYO       -1.0     0.087975  0.076826     93\n",
      "\n",
      "[144 rows x 5 columns]\n",
      "              timezone  direction  average_ppm       std  count\n",
      "15    AFRICA/BUJUMBURA       -1.0     2.644638  2.297229     60\n",
      "60   AFRICA/PORTO-NOVO       -1.0     2.112202  2.329160     46\n",
      "112     AMERICA/DENVER       -1.0     1.434705  7.038698    526\n",
      "116   AMERICA/EDMONTON       -1.0     1.032536  0.750437    164\n",
      "35       AFRICA/HARARE       -1.0     0.865248  0.664306     92\n",
      "..                 ...        ...          ...       ...    ...\n",
      "327   ATLANTIC/MADEIRA       -1.0     0.162263  0.199369  21477\n",
      "319       ASIA/YEREVAN       -1.0     0.137865  0.186040     34\n",
      "52       AFRICA/MAPUTO       -1.0     0.131808  0.110527    288\n",
      "347    EUROPE/BELGRADE       -1.0     0.126494  0.168150     33\n",
      "309         ASIA/TOKYO       -1.0     0.087975  0.076826     93\n",
      "\n",
      "[144 rows x 5 columns]\n"
     ]
    }
   ],
   "source": [
    "print(dfTimezoneGBPos);print(df_inner_SamplesBattery_TimezoneGBPos)\n",
    "print(dfTimezoneGBNeg);print(df_inner_SamplesBattery_TimezoneGBNeg)"
   ]
  },
  {
   "cell_type": "code",
   "execution_count": 53,
   "metadata": {},
   "outputs": [
    {
     "name": "stdout",
     "output_type": "stream",
     "text": [
      "    country_code  direction  average_ppm       std  count\n",
      "27            bj        1.0     2.092857  2.714462     35\n",
      "266           tr        1.0     1.003432  0.566540    148\n",
      "163           lu        1.0     0.918329  0.491773    500\n",
      "1             ae        1.0     0.893526  0.613443    411\n",
      "274           ua        1.0     0.891641  0.801452    409\n",
      "..           ...        ...          ...       ...    ...\n",
      "39            bw        1.0     0.417514  0.101347    118\n",
      "81            eg        1.0     0.410910  0.208281     59\n",
      "270           tw        1.0     0.403103  0.281912     38\n",
      "143           jp        1.0     0.401657  0.164492     49\n",
      "145           ke        1.0     0.323094  0.172040     72\n",
      "\n",
      "[94 rows x 5 columns]\n",
      "    country_code  direction  average_ppm       std  count\n",
      "27            bj        1.0     2.092857  2.714462     35\n",
      "266           tr        1.0     1.003432  0.566540    148\n",
      "163           lu        1.0     0.918329  0.491773    500\n",
      "1             ae        1.0     0.893526  0.613443    411\n",
      "274           ua        1.0     0.891641  0.801452    409\n",
      "..           ...        ...          ...       ...    ...\n",
      "39            bw        1.0     0.417514  0.101347    118\n",
      "81            eg        1.0     0.410910  0.208281     59\n",
      "270           tw        1.0     0.403103  0.281912     38\n",
      "143           jp        1.0     0.401657  0.164492     49\n",
      "145           ke        1.0     0.323094  0.172040     72\n",
      "\n",
      "[94 rows x 5 columns]\n",
      "    country_code  direction  average_ppm       std  count\n",
      "24            bi       -1.0     2.638927  2.280685     58\n",
      "26            bj       -1.0     1.898302  2.258115     48\n",
      "292           zw       -1.0     0.882162  0.714865     94\n",
      "34            bs       -1.0     0.784886  0.648820     58\n",
      "140           jo       -1.0     0.677069  0.481894    224\n",
      "..           ...        ...          ...       ...    ...\n",
      "221           pt       -1.0     0.176805  0.291306  46232\n",
      "245           sl       -1.0     0.173220  0.173219     70\n",
      "191           mz       -1.0     0.136453  0.122600    285\n",
      "201           nl       -1.0     0.124483  0.133580    461\n",
      "142           jp       -1.0     0.086835  0.071631     48\n",
      "\n",
      "[95 rows x 5 columns]\n",
      "    country_code  direction  average_ppm       std  count\n",
      "24            bi       -1.0     2.638927  2.280685     58\n",
      "26            bj       -1.0     1.898302  2.258115     48\n",
      "292           zw       -1.0     0.872297  0.664518     91\n",
      "34            bs       -1.0     0.784886  0.648820     58\n",
      "140           jo       -1.0     0.677069  0.481894    224\n",
      "..           ...        ...          ...       ...    ...\n",
      "221           pt       -1.0     0.176815  0.291348  46215\n",
      "245           sl       -1.0     0.173220  0.173219     70\n",
      "191           mz       -1.0     0.136453  0.122600    285\n",
      "201           nl       -1.0     0.121968  0.130826    453\n",
      "142           jp       -1.0     0.086835  0.071631     48\n",
      "\n",
      "[95 rows x 5 columns]\n"
     ]
    }
   ],
   "source": [
    "print(dfCountryGBPos);print(df_inner_SamplesBattery_CountryGBPos)\n",
    "print(dfCountryGBNeg);print(df_inner_SamplesBattery_CountryGBNeg)"
   ]
  },
  {
   "cell_type": "code",
   "execution_count": 54,
   "metadata": {},
   "outputs": [
    {
     "name": "stdout",
     "output_type": "stream",
     "text": [
      "   screen_on  direction  average_ppm       std   count\n",
      "1          0        1.0     0.682100  0.679152  128211\n",
      "3          1        1.0     0.647396  0.693152   87967\n",
      "   screen_on  direction  average_ppm       std   count\n",
      "1          0        1.0     0.682205  0.679186  128141\n",
      "3          1        1.0     0.646629  0.690513   87751\n",
      "   screen_on  direction  average_ppm       std   count\n",
      "2          1       -1.0     0.324557  0.922686  131032\n",
      "0          0       -1.0     0.229028  0.495743  102907\n",
      "   screen_on  direction  average_ppm       std   count\n",
      "2          1       -1.0     0.323293  0.916810  130647\n",
      "0          0       -1.0     0.228589  0.495694  102618\n"
     ]
    }
   ],
   "source": [
    "print(dfScreenGBPos);print(df_inner_SamplesBattery_ScreenGBPos)\n",
    "print(dfScreenGBNeg);print(df_inner_SamplesBattery_ScreenGBNeg)"
   ]
  },
  {
   "cell_type": "code",
   "execution_count": 55,
   "metadata": {},
   "outputs": [
    {
     "name": "stdout",
     "output_type": "stream",
     "text": [
      "   network_status  direction  average_ppm       std  count\n",
      "23         EVDO_A        1.0     0.763882  0.275708    140\n",
      "31          HSPAP        1.0     0.678161  0.495035   9522\n",
      "39           WIFI        1.0     0.671215  0.830926  82410\n",
      "29           HSPA        1.0     0.665793  0.625496   3692\n",
      "15   DISCONNECTED        1.0     0.662881  0.601121  56928\n",
      "37           UTMS        1.0     0.662144  0.455777   3871\n",
      "27          HSDPA        1.0     0.632587  0.310541    562\n",
      "35            LTE        1.0     0.627449  0.467582  19282\n",
      "1               0        1.0     0.625242  0.405350   1632\n",
      "19           EDGE        1.0     0.591348  0.361806   1560\n",
      "33          HSUPA        1.0     0.578681  0.298708    688\n",
      "17  DISCONNECTING        1.0     0.538634  0.283396    947\n",
      "25           GPRS        1.0     0.522476  0.308337    129\n",
      "6              19        1.0     0.465028  0.222995     47\n",
      "   network_status  direction  average_ppm       std  count\n",
      "23         EVDO_A        1.0     0.763882  0.275708    140\n",
      "31          HSPAP        1.0     0.678230  0.495085   9518\n",
      "39           WIFI        1.0     0.670835  0.828507  82334\n",
      "29           HSPA        1.0     0.665793  0.625496   3692\n",
      "15   DISCONNECTED        1.0     0.662982  0.601086  56884\n",
      "37           UTMS        1.0     0.662068  0.455872   3869\n",
      "27          HSDPA        1.0     0.632587  0.310541    562\n",
      "35            LTE        1.0     0.627488  0.467101  19268\n",
      "1               0        1.0     0.625242  0.405350   1632\n",
      "19           EDGE        1.0     0.591348  0.361806   1560\n",
      "33          HSUPA        1.0     0.578681  0.298708    688\n",
      "17  DISCONNECTING        1.0     0.539020  0.283296    946\n",
      "25           GPRS        1.0     0.522476  0.308337    129\n",
      "6              19        1.0     0.467739  0.224674     46\n",
      "   network_status  direction  average_ppm       std  count\n",
      "28           HSPA       -1.0     0.343693  0.500024  10060\n",
      "0               0       -1.0     0.326598  0.508171   3749\n",
      "38           WIFI       -1.0     0.301418  0.906522  87519\n",
      "30          HSPAP       -1.0     0.298970  0.443315  26429\n",
      "5              19       -1.0     0.297645  0.202265     83\n",
      "26          HSDPA       -1.0     0.281132  0.420573   1755\n",
      "20          EHRPD       -1.0     0.276520  0.253162     46\n",
      "14   DISCONNECTED       -1.0     0.255975  0.787010  84329\n",
      "12     CONNECTING       -1.0     0.250116  0.422610     57\n",
      "22         EVDO_A       -1.0     0.245516  0.190140    270\n",
      "7           1XRTT       -1.0     0.239816  0.154583     87\n",
      "32          HSUPA       -1.0     0.228663  0.241416   1293\n",
      "24           GPRS       -1.0     0.228581  0.359551    477\n",
      "34            LTE       -1.0     0.222196  0.330090  32584\n",
      "36           UTMS       -1.0     0.215996  0.344258  11370\n",
      "18           EDGE       -1.0     0.213612  0.313005   6055\n",
      "16  DISCONNECTING       -1.0     0.179025  0.154768   4528\n",
      "   network_status  direction  average_ppm       std  count\n",
      "28           HSPA       -1.0     0.343174  0.499502  10027\n",
      "0               0       -1.0     0.326731  0.508348   3746\n",
      "38           WIFI       -1.0     0.300160  0.901715  87232\n",
      "30          HSPAP       -1.0     0.298378  0.442548  26373\n",
      "5              19       -1.0     0.293305  0.205252     79\n",
      "26          HSDPA       -1.0     0.280242  0.418387   1751\n",
      "20          EHRPD       -1.0     0.276520  0.253162     46\n",
      "14   DISCONNECTED       -1.0     0.255169  0.782354  84080\n",
      "12     CONNECTING       -1.0     0.250116  0.422610     57\n",
      "22         EVDO_A       -1.0     0.239776  0.177634    268\n",
      "7           1XRTT       -1.0     0.237881  0.154427     86\n",
      "32          HSUPA       -1.0     0.228678  0.241509   1292\n",
      "24           GPRS       -1.0     0.227455  0.358626    474\n",
      "34            LTE       -1.0     0.221206  0.328126  32478\n",
      "36           UTMS       -1.0     0.215444  0.342938  11353\n",
      "18           EDGE       -1.0     0.212953  0.311091   6043\n",
      "16  DISCONNECTING       -1.0     0.179027  0.154820   4516\n"
     ]
    }
   ],
   "source": [
    "print(dfNetworkStatusGBPos);print(df_inner_SamplesBattery_NetworkStatusGBPos)\n",
    "print(dfNetworkStatusGBNeg);print(df_inner_SamplesBattery_NetworkStatusGBNeg)"
   ]
  },
  {
   "cell_type": "code",
   "execution_count": null,
   "metadata": {},
   "outputs": [],
   "source": []
  }
 ],
 "metadata": {
  "kernelspec": {
   "display_name": "Python 3",
   "language": "python",
   "name": "python3"
  },
  "language_info": {
   "codemirror_mode": {
    "name": "ipython",
    "version": 3
   },
   "file_extension": ".py",
   "mimetype": "text/x-python",
   "name": "python",
   "nbconvert_exporter": "python",
   "pygments_lexer": "ipython3",
   "version": "3.6.8"
  }
 },
 "nbformat": 4,
 "nbformat_minor": 2
}
