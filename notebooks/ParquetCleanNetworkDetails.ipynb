{
 "cells": [
  {
   "cell_type": "code",
   "execution_count": 4,
   "metadata": {},
   "outputs": [],
   "source": [
    "# data analysis and wrangling\n",
    "import pandas as pd\n",
    "import numpy as np\n",
    "import pyarrow.parquet as pq\n",
    "from datetime import timedelta\n",
    "\n",
    "# visualization\n",
    "import matplotlib.pyplot as plt\n",
    "import seaborn as sns\n",
    "\n",
    "%matplotlib inline\n",
    "\n",
    "# configure visualizations\n",
    "sns.set_style('whitegrid')\n",
    "figsize=(8,6)"
   ]
  },
  {
   "cell_type": "code",
   "execution_count": 5,
   "metadata": {},
   "outputs": [],
   "source": [
    "def load_df(path, columns=None, use_threads=True):\n",
    "    try:\n",
    "        return pq.read_table(path, columns=columns, use_threads=use_threads).to_pandas()\n",
    "    except Exception as e:\n",
    "        print(e)\n",
    "\n",
    "def downcast_ints(df):\n",
    "    # downcast int types\n",
    "    df_int = df.select_dtypes(include=['int'])\n",
    "    converted_int = df_int.apply(pd.to_numeric, downcast='unsigned')\n",
    "    df[converted_int.columns] = converted_int\n",
    "    \n",
    "    return df\n",
    "        \n",
    "def prepare(path,cols):\n",
    "\n",
    "    df = load_df(path,cols)\n",
    "    df = df.reset_index(drop=True)\n",
    "    df = downcast_ints(df)\n",
    "    \n",
    "    return df\n"
   ]
  },
  {
   "cell_type": "code",
   "execution_count": null,
   "metadata": {},
   "outputs": [],
   "source": [
    "cols = ['id', 'sample_id', 'network_type', 'mobile_network_type', 'mobile_data_status', 'mobile_data_activity', 'roaming_enabled', 'wifi_status', 'wifi_signal_strength', 'wifi_link_speed', 'wifi_ap_status', 'network_operator', 'sim_operator', 'mcc', 'mnc']\n",
    "df = prepare('1-parquet-files/network_details.parquet',cols)\n",
    "\n",
    "\n",
    "#fix unsigned int\n",
    "df_level = df.id \n",
    "converted_level = df_level.astype(np.int32)\n",
    "df['id'] = converted_level\n",
    "df_level = df.sample_id \n",
    "converted_level = df_level.astype(np.int32)\n",
    "df['sample_id'] = converted_level\n",
    "df_level = df.roaming_enabled\n",
    "converted_level = df_level.astype(np.int32)\n",
    "df['roaming_enabled'] = converted_level\n",
    "\n",
    "df['network_type'] = df['network_type'].apply(lambda x: x.upper())\n",
    "df['mobile_network_type'] = df['mobile_network_type'].apply(lambda x: x.upper())\n",
    "#df['mobile_network_type'] = df['mobile_network_type'].apply(lambda x: 'UNKNOWN' if '0' else 'IWLEN' if '18' else 'GSM' if '16' else 'NR5G' if '20' else 'TD_SCDMA' if '17' else x)\n",
    "\n",
    "df['mobile_data_status'] = df['mobile_data_status'].apply(lambda x: x.upper())\n",
    "df['mobile_data_activity'] = df['mobile_data_activity'].apply(lambda x: x.upper())\n",
    "df['wifi_status'] = df['wifi_status'].apply(lambda x: x.upper())\n",
    "df['wifi_ap_status'] = df['wifi_ap_status'].apply(lambda x: x.upper())\n",
    "df['network_operator'] = df['network_operator'].apply(lambda x: x.upper() if pd.notnull(x) else x)\n",
    "df['sim_operator'] = df['sim_operator'].apply(lambda x: x.upper())\n",
    "\n",
    "df['network_type'] = df['network_type'].apply(lambda x: 'BLUETOOTH TETHERING' if (x == 'BLUETOOTH_TETHER' ) else x)\n",
    "\n",
    "df.info()"
   ]
  },
  {
   "cell_type": "code",
   "execution_count": null,
   "metadata": {},
   "outputs": [],
   "source": [
    "df.to_parquet('2=datasets/network_details.parquet', compression='none') "
   ]
  },
  {
   "cell_type": "code",
   "execution_count": null,
   "metadata": {},
   "outputs": [],
   "source": [
    "dfNetworkTypeGB = df.groupby(['network_type'])['network_type'].count().reset_index(name='count').sort_values(['count'], ascending=False).head(20)\n",
    "print(dfNetworkTypeGB)"
   ]
  }
 ],
 "metadata": {
  "kernelspec": {
   "display_name": "Python 3",
   "language": "python",
   "name": "python3"
  },
  "language_info": {
   "codemirror_mode": {
    "name": "ipython",
    "version": 3
   },
   "file_extension": ".py",
   "mimetype": "text/x-python",
   "name": "python",
   "nbconvert_exporter": "python",
   "pygments_lexer": "ipython3",
   "version": "3.6.8"
  }
 },
 "nbformat": 4,
 "nbformat_minor": 2
}
