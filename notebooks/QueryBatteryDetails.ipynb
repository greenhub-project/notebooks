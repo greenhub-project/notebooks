{
 "cells": [
  {
   "cell_type": "code",
   "execution_count": 1,
   "metadata": {},
   "outputs": [],
   "source": [
    "# data analysis and wrangling\n",
    "import pandas as pd\n",
    "import numpy as np\n",
    "import pyarrow.parquet as pq\n",
    "from datetime import timedelta\n",
    "\n",
    "# visualization\n",
    "import matplotlib.pyplot as plt\n",
    "from matplotlib import gridspec\n",
    "import seaborn as sns\n",
    "\n",
    "%matplotlib inline\n",
    "\n",
    "# configure visualizations\n",
    "sns.set_style('whitegrid')\n",
    "figsize=(8,6)"
   ]
  },
  {
   "cell_type": "code",
   "execution_count": 2,
   "metadata": {},
   "outputs": [],
   "source": [
    "def load_df(path, columns=None, use_threads=True):\n",
    "    try:\n",
    "        return pq.read_table(path, columns=columns, use_threads=use_threads).to_pandas()\n",
    "    except Exception as e:\n",
    "        print(e)\n",
    "\n",
    "def downcast_ints(df):\n",
    "    # downcast int types\n",
    "    df_int = df.select_dtypes(include=['int'])\n",
    "    converted_int = df_int.apply(pd.to_numeric, downcast='unsigned')\n",
    "    df[converted_int.columns] = converted_int\n",
    "    \n",
    "    return df\n",
    "        \n",
    "def prepare(path,cols):\n",
    "\n",
    "    df = load_df(path,cols)\n",
    "    df = df.reset_index(drop=True)\n",
    "    df = downcast_ints(df)\n",
    "    \n",
    "    return df"
   ]
  },
  {
   "cell_type": "code",
   "execution_count": 3,
   "metadata": {},
   "outputs": [],
   "source": [
    "def pieOthers(dfVars,dfVals,threshold):\n",
    "    df = pd.DataFrame(\n",
    "        data = {'var': dfVars, 'value' : dfVals},\n",
    "        ).sort_values('value', ascending = False)\n",
    "    \n",
    "    if threshold > 0 :\n",
    "        df2 = df[:threshold].copy()\n",
    "        new_row = pd.DataFrame(data = {\n",
    "            'var' : ['Others'],\n",
    "            'value' : [dfVals[threshold:].sum()]\n",
    "        })\n",
    "\n",
    "        df2 = pd.concat([df2, new_row])\n",
    "    else:\n",
    "        df2 = df\n",
    "        \n",
    "    percent = 100.*df2['value']/df2['value'].sum()\n",
    "    labels = ['{0} - {1:1.2f} %'.format(i,j) for i,j in zip(df2['var'], percent)]\n",
    "    #labels = ['{0} - {1}'.format(i,j) for i,j in zip(df2['var'], df2['value'])]\n",
    "    \n",
    "    colorsX = plt.cm.tab20.colors\n",
    "    patches, texts = plt.pie(df2['value'], shadow=True, startangle=90, colors = colorsX)\n",
    "    plt.legend(patches, labels, loc=\"best\")\n",
    "    plt.axis('equal')\n",
    "    plt.tight_layout()\n",
    "    plt.show()"
   ]
  },
  {
   "cell_type": "code",
   "execution_count": 4,
   "metadata": {},
   "outputs": [],
   "source": [
    "cols = ['charger','health','voltage','temperature','capacity','charge_counter','current_average','current_now','energy_counter']\n",
    "df = prepare('2-datasets/battery_details.parquet',cols)"
   ]
  },
  {
   "cell_type": "code",
   "execution_count": 5,
   "metadata": {
    "scrolled": true
   },
   "outputs": [
    {
     "data": {
      "text/html": [
       "<div>\n",
       "<style scoped>\n",
       "    .dataframe tbody tr th:only-of-type {\n",
       "        vertical-align: middle;\n",
       "    }\n",
       "\n",
       "    .dataframe tbody tr th {\n",
       "        vertical-align: top;\n",
       "    }\n",
       "\n",
       "    .dataframe thead th {\n",
       "        text-align: right;\n",
       "    }\n",
       "</style>\n",
       "<table border=\"1\" class=\"dataframe\">\n",
       "  <thead>\n",
       "    <tr style=\"text-align: right;\">\n",
       "      <th></th>\n",
       "      <th>charger</th>\n",
       "      <th>health</th>\n",
       "      <th>voltage</th>\n",
       "      <th>temperature</th>\n",
       "      <th>charge_counter</th>\n",
       "      <th>current_average</th>\n",
       "      <th>current_now</th>\n",
       "      <th>energy_counter</th>\n",
       "    </tr>\n",
       "  </thead>\n",
       "  <tbody>\n",
       "    <tr>\n",
       "      <td>0</td>\n",
       "      <td>UNPLUGGED</td>\n",
       "      <td>GOOD</td>\n",
       "      <td>4.05</td>\n",
       "      <td>28.500000</td>\n",
       "      <td>0</td>\n",
       "      <td>0</td>\n",
       "      <td>-229</td>\n",
       "      <td>-1</td>\n",
       "    </tr>\n",
       "    <tr>\n",
       "      <td>1</td>\n",
       "      <td>UNPLUGGED</td>\n",
       "      <td>GOOD</td>\n",
       "      <td>4.05</td>\n",
       "      <td>28.500000</td>\n",
       "      <td>0</td>\n",
       "      <td>0</td>\n",
       "      <td>-229</td>\n",
       "      <td>-1</td>\n",
       "    </tr>\n",
       "    <tr>\n",
       "      <td>2</td>\n",
       "      <td>UNPLUGGED</td>\n",
       "      <td>GOOD</td>\n",
       "      <td>4.04</td>\n",
       "      <td>29.000000</td>\n",
       "      <td>0</td>\n",
       "      <td>0</td>\n",
       "      <td>-248</td>\n",
       "      <td>-1</td>\n",
       "    </tr>\n",
       "    <tr>\n",
       "      <td>3</td>\n",
       "      <td>UNPLUGGED</td>\n",
       "      <td>GOOD</td>\n",
       "      <td>3.97</td>\n",
       "      <td>29.900000</td>\n",
       "      <td>0</td>\n",
       "      <td>0</td>\n",
       "      <td>-313</td>\n",
       "      <td>-1</td>\n",
       "    </tr>\n",
       "    <tr>\n",
       "      <td>4</td>\n",
       "      <td>UNPLUGGED</td>\n",
       "      <td>GOOD</td>\n",
       "      <td>4.03</td>\n",
       "      <td>29.200001</td>\n",
       "      <td>0</td>\n",
       "      <td>0</td>\n",
       "      <td>-234</td>\n",
       "      <td>-1</td>\n",
       "    </tr>\n",
       "    <tr>\n",
       "      <td>...</td>\n",
       "      <td>...</td>\n",
       "      <td>...</td>\n",
       "      <td>...</td>\n",
       "      <td>...</td>\n",
       "      <td>...</td>\n",
       "      <td>...</td>\n",
       "      <td>...</td>\n",
       "      <td>...</td>\n",
       "    </tr>\n",
       "    <tr>\n",
       "      <td>95</td>\n",
       "      <td>AC</td>\n",
       "      <td>GOOD</td>\n",
       "      <td>3.93</td>\n",
       "      <td>27.400000</td>\n",
       "      <td>0</td>\n",
       "      <td>0</td>\n",
       "      <td>530</td>\n",
       "      <td>-1</td>\n",
       "    </tr>\n",
       "    <tr>\n",
       "      <td>96</td>\n",
       "      <td>AC</td>\n",
       "      <td>GOOD</td>\n",
       "      <td>3.93</td>\n",
       "      <td>27.400000</td>\n",
       "      <td>0</td>\n",
       "      <td>0</td>\n",
       "      <td>527</td>\n",
       "      <td>-1</td>\n",
       "    </tr>\n",
       "    <tr>\n",
       "      <td>97</td>\n",
       "      <td>AC</td>\n",
       "      <td>GOOD</td>\n",
       "      <td>3.93</td>\n",
       "      <td>27.400000</td>\n",
       "      <td>0</td>\n",
       "      <td>0</td>\n",
       "      <td>266</td>\n",
       "      <td>-1</td>\n",
       "    </tr>\n",
       "    <tr>\n",
       "      <td>98</td>\n",
       "      <td>AC</td>\n",
       "      <td>GOOD</td>\n",
       "      <td>3.94</td>\n",
       "      <td>27.400000</td>\n",
       "      <td>0</td>\n",
       "      <td>0</td>\n",
       "      <td>519</td>\n",
       "      <td>-1</td>\n",
       "    </tr>\n",
       "    <tr>\n",
       "      <td>99</td>\n",
       "      <td>AC</td>\n",
       "      <td>GOOD</td>\n",
       "      <td>3.94</td>\n",
       "      <td>27.400000</td>\n",
       "      <td>0</td>\n",
       "      <td>0</td>\n",
       "      <td>495</td>\n",
       "      <td>-1</td>\n",
       "    </tr>\n",
       "  </tbody>\n",
       "</table>\n",
       "<p>100 rows × 8 columns</p>\n",
       "</div>"
      ],
      "text/plain": [
       "      charger health  voltage  temperature  charge_counter  current_average  \\\n",
       "0   UNPLUGGED   GOOD     4.05    28.500000               0                0   \n",
       "1   UNPLUGGED   GOOD     4.05    28.500000               0                0   \n",
       "2   UNPLUGGED   GOOD     4.04    29.000000               0                0   \n",
       "3   UNPLUGGED   GOOD     3.97    29.900000               0                0   \n",
       "4   UNPLUGGED   GOOD     4.03    29.200001               0                0   \n",
       "..        ...    ...      ...          ...             ...              ...   \n",
       "95         AC   GOOD     3.93    27.400000               0                0   \n",
       "96         AC   GOOD     3.93    27.400000               0                0   \n",
       "97         AC   GOOD     3.93    27.400000               0                0   \n",
       "98         AC   GOOD     3.94    27.400000               0                0   \n",
       "99         AC   GOOD     3.94    27.400000               0                0   \n",
       "\n",
       "    current_now  energy_counter  \n",
       "0          -229              -1  \n",
       "1          -229              -1  \n",
       "2          -248              -1  \n",
       "3          -313              -1  \n",
       "4          -234              -1  \n",
       "..          ...             ...  \n",
       "95          530              -1  \n",
       "96          527              -1  \n",
       "97          266              -1  \n",
       "98          519              -1  \n",
       "99          495              -1  \n",
       "\n",
       "[100 rows x 8 columns]"
      ]
     },
     "execution_count": 5,
     "metadata": {},
     "output_type": "execute_result"
    }
   ],
   "source": [
    "df.head(100)"
   ]
  },
  {
   "cell_type": "code",
   "execution_count": 6,
   "metadata": {},
   "outputs": [],
   "source": [
    "dfChargerGB = df.groupby(['charger'])['charger'].count().reset_index(name='count').sort_values(['count'], ascending=False).head(20)\n",
    "dfHealthGB = df.groupby(['health'])['health'].count().reset_index(name='count').sort_values(['count'], ascending=False).head(20)"
   ]
  },
  {
   "cell_type": "code",
   "execution_count": 7,
   "metadata": {},
   "outputs": [
    {
     "name": "stdout",
     "output_type": "stream",
     "text": [
      "23600501\n"
     ]
    }
   ],
   "source": [
    "print(dfChargerGB['count'].sum())"
   ]
  },
  {
   "cell_type": "code",
   "execution_count": 7,
   "metadata": {},
   "outputs": [
    {
     "name": "stdout",
     "output_type": "stream",
     "text": [
      "BatteryDetails:23600501\n"
     ]
    }
   ],
   "source": [
    "print(\"BatteryDetails:\"+str(len(df.index)))"
   ]
  },
  {
   "cell_type": "code",
   "execution_count": 8,
   "metadata": {},
   "outputs": [
    {
     "name": "stdout",
     "output_type": "stream",
     "text": [
      "     charger     count\n",
      "0         AC  11434504\n",
      "1  UNPLUGGED  11191456\n",
      "2        USB    974541\n"
     ]
    },
    {
     "data": {
      "image/png": "[encoded data removed]",
      "text/plain": [
       "<Figure size 432x288 with 1 Axes>"
      ]
     },
     "metadata": {},
     "output_type": "display_data"
    }
   ],
   "source": [
    "print(dfChargerGB)\n",
    "\n",
    "pieOthers(dfChargerGB['charger'], dfChargerGB['count'],0)\n"
   ]
  },
  {
   "cell_type": "code",
   "execution_count": 9,
   "metadata": {},
   "outputs": [
    {
     "name": "stdout",
     "output_type": "stream",
     "text": [
      "                health     count\n",
      "1                 GOOD  23440673\n",
      "4              UNKNOWN    120581\n",
      "3             OVERHEAT     18217\n",
      "2         OVER VOLTAGE      9723\n",
      "0                 DEAD      8087\n",
      "5  UNSPECIFIED FAILURE      3220\n"
     ]
    },
    {
     "data": {
      "image/png": "[encoded data removed]",
      "text/plain": [
       "<Figure size 432x288 with 1 Axes>"
      ]
     },
     "metadata": {},
     "output_type": "display_data"
    }
   ],
   "source": [
    "print(dfHealthGB)\n",
    "\n",
    "pieOthers(dfHealthGB['health'], dfHealthGB['count'],0)\n"
   ]
  },
  {
   "cell_type": "code",
   "execution_count": 10,
   "metadata": {},
   "outputs": [],
   "source": [
    "dfVoltageMean = df['voltage'].mean()\n",
    "dfVoltageMin = df['voltage'].min()\n",
    "dfVoltageMax = df['voltage'].max()\n",
    "\n",
    "dfTemperatureMean = df['temperature'].mean()\n",
    "dfTemperatureMin = df['temperature'].min()\n",
    "dfTemperatureMax = df['temperature'].max()\n"
   ]
  },
  {
   "cell_type": "code",
   "execution_count": 11,
   "metadata": {},
   "outputs": [
    {
     "name": "stdout",
     "output_type": "stream",
     "text": [
      "Mean Voltage:20.764282\n",
      "Min Voltage:0.0\n",
      "Max Voltage:4415.1\n",
      "\n",
      "Mean Temperature:30.792479\n",
      "Min Temperature:-40.0\n",
      "Max Temperature:125.0\n"
     ]
    }
   ],
   "source": [
    "print(\"Mean Voltage:\"+str(dfVoltageMean))\n",
    "print(\"Min Voltage:\"+str(dfVoltageMin))\n",
    "print(\"Max Voltage:\"+str(dfVoltageMax))\n",
    "print()\n",
    "print(\"Mean Temperature:\"+str(dfTemperatureMean))\n",
    "print(\"Min Temperature:\"+str(dfTemperatureMin))\n",
    "print(\"Max Temperature:\"+str(dfTemperatureMax))\n",
    "\n"
   ]
  },
  {
   "cell_type": "code",
   "execution_count": null,
   "metadata": {},
   "outputs": [],
   "source": []
  }
 ],
 "metadata": {
  "kernelspec": {
   "display_name": "Python 3",
   "language": "python",
   "name": "python3"
  },
  "language_info": {
   "codemirror_mode": {
    "name": "ipython",
    "version": 3
   },
   "file_extension": ".py",
   "mimetype": "text/x-python",
   "name": "python",
   "nbconvert_exporter": "python",
   "pygments_lexer": "ipython3",
   "version": "3.6.8"
  }
 },
 "nbformat": 4,
 "nbformat_minor": 2
}
