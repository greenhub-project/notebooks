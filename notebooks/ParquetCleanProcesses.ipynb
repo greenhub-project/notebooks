{
 "cells": [
  {
   "cell_type": "code",
   "execution_count": 1,
   "metadata": {},
   "outputs": [],
   "source": [
    "# data analysis and wrangling\n",
    "import gc\n",
    "import pandas as pd\n",
    "import numpy as np\n",
    "import pyarrow.parquet as pq\n",
    "from datetime import timedelta\n",
    "\n",
    "# visualization\n",
    "import matplotlib.pyplot as plt\n",
    "import seaborn as sns\n",
    "\n",
    "%matplotlib inline\n",
    "\n",
    "# configure visualizations\n",
    "sns.set_style('whitegrid')\n",
    "figsize=(8,6)"
   ]
  },
  {
   "cell_type": "code",
   "execution_count": 2,
   "metadata": {},
   "outputs": [],
   "source": [
    "def load_df(path, cols, use_threads=True):\n",
    "    try:\n",
    "        return pq.read_table(path, columns=cols, use_threads=use_threads).to_pandas()\n",
    "    except Exception as e:\n",
    "        print(e)\n",
    "\n",
    "def downcast_ints(df):\n",
    "    # downcast int types\n",
    "    df_int = df.select_dtypes(include=['int'])\n",
    "    converted_int = df_int.apply(pd.to_numeric, downcast='unsigned')\n",
    "    df[converted_int.columns] = converted_int\n",
    "    \n",
    "    return df\n",
    "        \n",
    "def prepare(path,cols):\n",
    "\n",
    "    df = load_df(path,cols)\n",
    "    df = df.reset_index(drop=True)\n",
    "    df = downcast_ints(df)\n",
    "    \n",
    "    return df\n"
   ]
  },
  {
   "cell_type": "code",
   "execution_count": 3,
   "metadata": {},
   "outputs": [
    {
     "name": "stdout",
     "output_type": "stream",
     "text": [
      "<class 'pandas.core.frame.DataFrame'>\n",
      "RangeIndex: 159935697 entries, 0 to 159935696\n",
      "Data columns (total 2 columns):\n",
      "sample_id    uint32\n",
      "name         object\n",
      "dtypes: object(1), uint32(1)\n",
      "memory usage: 1.8+ GB\n"
     ]
    }
   ],
   "source": [
    "cols = ['sample_id', 'name']\n",
    "df = prepare('1-parquet-files/top15-apps.parquet',cols)\n",
    "\n",
    "df.info()"
   ]
  },
  {
   "cell_type": "code",
   "execution_count": 4,
   "metadata": {},
   "outputs": [
    {
     "data": {
      "text/html": [
       "<div>\n",
       "<style scoped>\n",
       "    .dataframe tbody tr th:only-of-type {\n",
       "        vertical-align: middle;\n",
       "    }\n",
       "\n",
       "    .dataframe tbody tr th {\n",
       "        vertical-align: top;\n",
       "    }\n",
       "\n",
       "    .dataframe thead th {\n",
       "        text-align: right;\n",
       "    }\n",
       "</style>\n",
       "<table border=\"1\" class=\"dataframe\">\n",
       "  <thead>\n",
       "    <tr style=\"text-align: right;\">\n",
       "      <th></th>\n",
       "      <th>sample_id</th>\n",
       "      <th>name</th>\n",
       "    </tr>\n",
       "  </thead>\n",
       "  <tbody>\n",
       "    <tr>\n",
       "      <td>0</td>\n",
       "      <td>1</td>\n",
       "      <td>com.google.android.music:main</td>\n",
       "    </tr>\n",
       "    <tr>\n",
       "      <td>1</td>\n",
       "      <td>1</td>\n",
       "      <td>com.facebook.katana:videoplayer</td>\n",
       "    </tr>\n",
       "    <tr>\n",
       "      <td>2</td>\n",
       "      <td>1</td>\n",
       "      <td>com.facebook.orca:videoplayer</td>\n",
       "    </tr>\n",
       "    <tr>\n",
       "      <td>3</td>\n",
       "      <td>1</td>\n",
       "      <td>com.facebook.katana</td>\n",
       "    </tr>\n",
       "    <tr>\n",
       "      <td>4</td>\n",
       "      <td>1</td>\n",
       "      <td>com.facebook.orca</td>\n",
       "    </tr>\n",
       "    <tr>\n",
       "      <td>...</td>\n",
       "      <td>...</td>\n",
       "      <td>...</td>\n",
       "    </tr>\n",
       "    <tr>\n",
       "      <td>95</td>\n",
       "      <td>12</td>\n",
       "      <td>com.google.android.googlequicksearchbox:intera...</td>\n",
       "    </tr>\n",
       "    <tr>\n",
       "      <td>96</td>\n",
       "      <td>13</td>\n",
       "      <td>com.google.android.music:main</td>\n",
       "    </tr>\n",
       "    <tr>\n",
       "      <td>97</td>\n",
       "      <td>13</td>\n",
       "      <td>com.facebook.katana:videoplayer</td>\n",
       "    </tr>\n",
       "    <tr>\n",
       "      <td>98</td>\n",
       "      <td>13</td>\n",
       "      <td>com.facebook.orca:videoplayer</td>\n",
       "    </tr>\n",
       "    <tr>\n",
       "      <td>99</td>\n",
       "      <td>13</td>\n",
       "      <td>com.facebook.katana</td>\n",
       "    </tr>\n",
       "  </tbody>\n",
       "</table>\n",
       "<p>100 rows × 2 columns</p>\n",
       "</div>"
      ],
      "text/plain": [
       "    sample_id                                               name\n",
       "0           1                      com.google.android.music:main\n",
       "1           1                    com.facebook.katana:videoplayer\n",
       "2           1                      com.facebook.orca:videoplayer\n",
       "3           1                                com.facebook.katana\n",
       "4           1                                  com.facebook.orca\n",
       "..        ...                                                ...\n",
       "95         12  com.google.android.googlequicksearchbox:intera...\n",
       "96         13                      com.google.android.music:main\n",
       "97         13                    com.facebook.katana:videoplayer\n",
       "98         13                      com.facebook.orca:videoplayer\n",
       "99         13                                com.facebook.katana\n",
       "\n",
       "[100 rows x 2 columns]"
      ]
     },
     "execution_count": 4,
     "metadata": {},
     "output_type": "execute_result"
    }
   ],
   "source": [
    "df.head(100)"
   ]
  },
  {
   "cell_type": "code",
   "execution_count": 5,
   "metadata": {},
   "outputs": [],
   "source": [
    "df_split = np.array_split(df, 4)"
   ]
  },
  {
   "cell_type": "code",
   "execution_count": 6,
   "metadata": {},
   "outputs": [
    {
     "data": {
      "text/plain": [
       "14"
      ]
     },
     "execution_count": 6,
     "metadata": {},
     "output_type": "execute_result"
    }
   ],
   "source": [
    "df_split[0][['name', 'sub']] = df_split[0]['name'].str.split(':', n=1, expand=True)\n",
    "df_split[1][['name', 'sub']] = df_split[1]['name'].str.split(':', n=1, expand=True)\n",
    "\n",
    "framesA = [df_split[0],df_split[1]]\n",
    "dfA = pd.concat(framesA)\n",
    "dfA.to_parquet('1-parquet-files/top15AppsA.parquet', compression='none') \n",
    "\n",
    "#deletion of a position resets the array positions. only delete the head\n",
    "del df_split[0] \n",
    "del df_split[0]\n",
    "del dfA\n",
    "gc.collect()\n",
    "\n",
    "df_split[0][['name', 'sub']] = df_split[0]['name'].str.split(':', n=1, expand=True)\n",
    "\n",
    "dfB = df_split[0]\n",
    "dfB.to_parquet('1-parquet-files/top15AppsB.parquet', compression='none') \n",
    "\n",
    "del df_split[0]  \n",
    "del dfB\n",
    "gc.collect()\n",
    "\n",
    "df_split[0][['name', 'sub']] = df_split[0]['name'].str.split(':', n=1, expand=True)\n",
    "\n",
    "dfC = df_split[0]\n",
    "dfC.to_parquet('1-parquet-files/top15AppsC.parquet', compression='none') \n",
    "\n",
    "del df_split[0]  \n",
    "del dfC\n",
    "gc.collect()"
   ]
  },
  {
   "cell_type": "code",
   "execution_count": null,
   "metadata": {},
   "outputs": [],
   "source": [
    "cols = ['sample_id', 'name', 'sub']\n",
    "dfA = prepare('1-parquet-files/top15AppsA.parquet',cols)\n",
    "dfB = prepare('1-parquet-files/top15AppsB.parquet',cols)\n",
    "dfC = prepare('1-parquet-files/top15AppsC.parquet',cols)"
   ]
  },
  {
   "cell_type": "code",
   "execution_count": null,
   "metadata": {},
   "outputs": [],
   "source": []
  }
 ],
 "metadata": {
  "kernelspec": {
   "display_name": "Python 3",
   "language": "python",
   "name": "python3"
  },
  "language_info": {
   "codemirror_mode": {
    "name": "ipython",
    "version": 3
   },
   "file_extension": ".py",
   "mimetype": "text/x-python",
   "name": "python",
   "nbconvert_exporter": "python",
   "pygments_lexer": "ipython3",
   "version": "3.6.8"
  }
 },
 "nbformat": 4,
 "nbformat_minor": 2
}
