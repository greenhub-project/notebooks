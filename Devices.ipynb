{
 "cells": [
  {
   "cell_type": "code",
   "execution_count": 1,
   "metadata": {},
   "outputs": [
    {
     "data": {
      "text/html": [
       "<div>\n",
       "<style>\n",
       "    .dataframe thead tr:only-child th {\n",
       "        text-align: right;\n",
       "    }\n",
       "\n",
       "    .dataframe thead th {\n",
       "        text-align: left;\n",
       "    }\n",
       "\n",
       "    .dataframe tbody tr th {\n",
       "        vertical-align: top;\n",
       "    }\n",
       "</style>\n",
       "<table border=\"1\" class=\"dataframe\">\n",
       "  <thead>\n",
       "    <tr style=\"text-align: right;\">\n",
       "      <th></th>\n",
       "      <th>uuid</th>\n",
       "      <th>model</th>\n",
       "      <th>manufacturer</th>\n",
       "      <th>brand</th>\n",
       "      <th>product</th>\n",
       "      <th>os_version</th>\n",
       "      <th>kernel_version</th>\n",
       "      <th>is_root</th>\n",
       "      <th>created_at</th>\n",
       "      <th>updated_at</th>\n",
       "    </tr>\n",
       "    <tr>\n",
       "      <th>id</th>\n",
       "      <th></th>\n",
       "      <th></th>\n",
       "      <th></th>\n",
       "      <th></th>\n",
       "      <th></th>\n",
       "      <th></th>\n",
       "      <th></th>\n",
       "      <th></th>\n",
       "      <th></th>\n",
       "      <th></th>\n",
       "    </tr>\n",
       "  </thead>\n",
       "  <tbody>\n",
       "    <tr>\n",
       "      <th>1</th>\n",
       "      <td>7539d2fd-90bf-4a9e-85ee-1ecb2fbb9788</td>\n",
       "      <td>vs500pp</td>\n",
       "      <td>lge</td>\n",
       "      <td>lge</td>\n",
       "      <td>m1v_pp_vzw</td>\n",
       "      <td>6.0.1</td>\n",
       "      <td>3.10.49-gf18313b-00011-g5e5ed63</td>\n",
       "      <td>0</td>\n",
       "      <td>2017-10-09 03:42:19</td>\n",
       "      <td>2017-10-09 03:42:19</td>\n",
       "    </tr>\n",
       "    <tr>\n",
       "      <th>2</th>\n",
       "      <td>59fc6c14-a28b-4d49-bace-07263c5be6a7</td>\n",
       "      <td>ao5510</td>\n",
       "      <td>yu</td>\n",
       "      <td>yu</td>\n",
       "      <td>yureka</td>\n",
       "      <td>5.1.1</td>\n",
       "      <td>3.10.49-cyanogenmod-gbca6118</td>\n",
       "      <td>1</td>\n",
       "      <td>2017-10-09 04:39:53</td>\n",
       "      <td>2017-10-09 04:39:53</td>\n",
       "    </tr>\n",
       "    <tr>\n",
       "      <th>3</th>\n",
       "      <td>19f620d2-3bd7-46f6-ac41-4710526147c3</td>\n",
       "      <td>asus_x014d</td>\n",
       "      <td>asus</td>\n",
       "      <td>asus</td>\n",
       "      <td>ww_phone</td>\n",
       "      <td>5.1.1</td>\n",
       "      <td>3.4.0-gdf95949-dirty</td>\n",
       "      <td>0</td>\n",
       "      <td>2017-10-09 04:48:35</td>\n",
       "      <td>2017-10-09 04:48:35</td>\n",
       "    </tr>\n",
       "    <tr>\n",
       "      <th>4</th>\n",
       "      <td>242126bc-0b29-4ac2-a96f-4f93f86ba800</td>\n",
       "      <td>nexus 5</td>\n",
       "      <td>lge</td>\n",
       "      <td>google</td>\n",
       "      <td>hammerhead</td>\n",
       "      <td>6.0.1</td>\n",
       "      <td>3.4.0-gcf10b7e</td>\n",
       "      <td>0</td>\n",
       "      <td>2017-10-09 06:50:04</td>\n",
       "      <td>2017-10-09 06:50:04</td>\n",
       "    </tr>\n",
       "    <tr>\n",
       "      <th>5</th>\n",
       "      <td>13192eb0-50e3-4f20-bc51-7914991f8b65</td>\n",
       "      <td>lg-d331</td>\n",
       "      <td>lge</td>\n",
       "      <td>lge</td>\n",
       "      <td>luv80ss_global_com</td>\n",
       "      <td>4.4.2</td>\n",
       "      <td>3.4.67</td>\n",
       "      <td>0</td>\n",
       "      <td>2017-10-09 09:01:16</td>\n",
       "      <td>2017-10-09 09:01:16</td>\n",
       "    </tr>\n",
       "  </tbody>\n",
       "</table>\n",
       "</div>"
      ],
      "text/plain": [
       "                                    uuid       model manufacturer   brand  \\\n",
       "id                                                                          \n",
       "1   7539d2fd-90bf-4a9e-85ee-1ecb2fbb9788     vs500pp          lge     lge   \n",
       "2   59fc6c14-a28b-4d49-bace-07263c5be6a7      ao5510           yu      yu   \n",
       "3   19f620d2-3bd7-46f6-ac41-4710526147c3  asus_x014d         asus    asus   \n",
       "4   242126bc-0b29-4ac2-a96f-4f93f86ba800     nexus 5          lge  google   \n",
       "5   13192eb0-50e3-4f20-bc51-7914991f8b65     lg-d331          lge     lge   \n",
       "\n",
       "               product os_version                   kernel_version  is_root  \\\n",
       "id                                                                            \n",
       "1           m1v_pp_vzw      6.0.1  3.10.49-gf18313b-00011-g5e5ed63        0   \n",
       "2               yureka      5.1.1     3.10.49-cyanogenmod-gbca6118        1   \n",
       "3             ww_phone      5.1.1             3.4.0-gdf95949-dirty        0   \n",
       "4           hammerhead      6.0.1                   3.4.0-gcf10b7e        0   \n",
       "5   luv80ss_global_com      4.4.2                           3.4.67        0   \n",
       "\n",
       "            created_at          updated_at  \n",
       "id                                          \n",
       "1  2017-10-09 03:42:19 2017-10-09 03:42:19  \n",
       "2  2017-10-09 04:39:53 2017-10-09 04:39:53  \n",
       "3  2017-10-09 04:48:35 2017-10-09 04:48:35  \n",
       "4  2017-10-09 06:50:04 2017-10-09 06:50:04  \n",
       "5  2017-10-09 09:01:16 2017-10-09 09:01:16  "
      ]
     },
     "execution_count": 1,
     "metadata": {},
     "output_type": "execute_result"
    }
   ],
   "source": [
    "import pandas as pd\n",
    "import time\n",
    "import numpy as np\n",
    "from IPython.display import clear_output\n",
    "import matplotlib.pyplot as plt\n",
    "%matplotlib inline\n",
    "plt.style.use('ggplot')\n",
    "\n",
    "devices_info = pd.read_csv('C:\\\\Users\\\\ruben\\\\Desktop\\\\Investigation\\\\updated_dataset_23_3_2018\\\\devices.csv', index_col='id', skipinitialspace=True, parse_dates=['created_at', 'updated_at'])\n",
    "\n",
    "devices_info['model'] = devices_info['model'].str.lower()\n",
    "devices_info['manufacturer'] = devices_info['manufacturer'].str.lower()\n",
    "devices_info['brand'] = devices_info['brand'].str.lower()\n",
    "devices_info['product'] = devices_info['product'].str.lower()\n",
    "\n",
    "devices_info.head()\n"
   ]
  },
  {
   "cell_type": "code",
   "execution_count": 2,
   "metadata": {},
   "outputs": [
    {
     "name": "stdout",
     "output_type": "stream",
     "text": [
      "Number of devices = 3117\n"
     ]
    }
   ],
   "source": [
    "print('Number of devices =', len(devices_info))"
   ]
  },
  {
   "cell_type": "code",
   "execution_count": 3,
   "metadata": {},
   "outputs": [
    {
     "data": {
      "text/plain": [
       "<matplotlib.axes._subplots.AxesSubplot at 0x1c13d9bd978>"
      ]
     },
     "execution_count": 3,
     "metadata": {},
     "output_type": "execute_result"
    },
    {
     "data": {
      "image/png": "[encoded data removed]",
      "text/plain": [
       "<matplotlib.figure.Figure at 0x1c13e288d68>"
      ]
     },
     "metadata": {},
     "output_type": "display_data"
    }
   ],
   "source": [
    "all_versions_percentage = devices_info.os_version.value_counts(normalize=True) #get all version percentage\n",
    "\n",
    "plt.title('Android Version Percentages')\n",
    "plt.xlabel('Android Version')\n",
    "plt.ylabel('Phone Percentage')\n",
    "all_versions_percentage.plot.bar()"
   ]
  },
  {
   "cell_type": "code",
   "execution_count": 4,
   "metadata": {},
   "outputs": [
    {
     "data": {
      "image/png": "[encoded data removed]",
      "text/plain": [
       "<matplotlib.figure.Figure at 0x1c13dce2dd8>"
      ]
     },
     "metadata": {},
     "output_type": "display_data"
    }
   ],
   "source": [
    "def getVersionCounter(all_versions_counts):\n",
    "    version_counts = dict()\n",
    "    \n",
    "    for index_val, series_val in all_versions_counts.iteritems():\n",
    "        if index_val[0] in version_counts:\n",
    "            version_counts[index_val[0]] += series_val\n",
    "        else:\n",
    "            version_counts[index_val[0]] = series_val\n",
    "    \n",
    "    return version_counts\n",
    "\n",
    "version_percentage = getVersionCounter(all_versions_percentage) #join all versions\n",
    "\n",
    "keys, values = zip(*version_percentage.items()) #gets 2 lists one with keys another with values od dictionary\n",
    "values = [x * 100 for x in values] #convert to percentage (int)\n",
    "plt.bar(keys, values, align='center')\n",
    "plt.title('Phones Android Version')\n",
    "plt.xlabel('Version')\n",
    "plt.ylabel('Percentage')\n",
    "for a, b in zip(keys, values):\n",
    "    plt.text(a, b, str(round(b, 2)), ha='center')\n",
    "plt.show()"
   ]
  },
  {
   "cell_type": "code",
   "execution_count": 5,
   "metadata": {},
   "outputs": [
    {
     "data": {
      "text/plain": [
       "<matplotlib.axes._subplots.AxesSubplot at 0x1c13bb94c88>"
      ]
     },
     "execution_count": 5,
     "metadata": {},
     "output_type": "execute_result"
    },
    {
     "data": {
      "image/png": "[encoded data removed]",
      "text/plain": [
       "<matplotlib.figure.Figure at 0x1c13dd01dd8>"
      ]
     },
     "metadata": {},
     "output_type": "display_data"
    }
   ],
   "source": [
    "devices_info.brand.value_counts(normalize=True)[:20].plot.bar()"
   ]
  },
  {
   "cell_type": "code",
   "execution_count": 6,
   "metadata": {},
   "outputs": [
    {
     "name": "stdout",
     "output_type": "stream",
     "text": [
      "Number of Devices create before in 2017: 2930\n",
      "Number of Devices create before in 2018: 187\n",
      "Average devices installed per month in 2017: 244.2\n",
      "Average devices installed per month in 2018: 15.6\n"
     ]
    }
   ],
   "source": [
    "print('Number of Devices create before in 2017:', len(devices_info[devices_info['created_at'] < '2018-01-01']))\n",
    "print('Number of Devices create before in 2018:', len(devices_info[devices_info['created_at'] >= '2018-01-01']))\n",
    "print('Average devices installed per month in 2017:', round(len(devices_info[devices_info['created_at'] < '2018-01-01'])/12, 1))\n",
    "print('Average devices installed per month in 2018:', round(len(devices_info[devices_info['created_at'] >= '2018-01-01'])/12, 1))"
   ]
  },
  {
   "cell_type": "code",
   "execution_count": 7,
   "metadata": {},
   "outputs": [
    {
     "name": "stdout",
     "output_type": "stream",
     "text": [
      "Date of first device = 2017-10-09 03:42:19\n",
      "Date of last device = 2018-02-13 23:17:04\n"
     ]
    }
   ],
   "source": [
    "print('Date of first device =', devices_info.iloc[0].created_at)\n",
    "print('Date of last device =', devices_info.iloc[len(devices_info)-1].created_at)"
   ]
  },
  {
   "cell_type": "code",
   "execution_count": null,
   "metadata": {
    "collapsed": true
   },
   "outputs": [],
   "source": []
  }
 ],
 "metadata": {
  "kernelspec": {
   "display_name": "Python 3",
   "language": "python",
   "name": "python3"
  },
  "language_info": {
   "codemirror_mode": {
    "name": "ipython",
    "version": 3
   },
   "file_extension": ".py",
   "mimetype": "text/x-python",
   "name": "python",
   "nbconvert_exporter": "python",
   "pygments_lexer": "ipython3",
   "version": "3.6.3"
  }
 },
 "nbformat": 4,
 "nbformat_minor": 2
}
