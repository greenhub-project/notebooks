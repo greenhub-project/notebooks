{
 "cells": [
  {
   "cell_type": "code",
   "execution_count": 2,
   "metadata": {},
   "outputs": [
    {
     "data": {
      "text/html": [
       "<div>\n",
       "<style>\n",
       "    .dataframe thead tr:only-child th {\n",
       "        text-align: right;\n",
       "    }\n",
       "\n",
       "    .dataframe thead th {\n",
       "        text-align: left;\n",
       "    }\n",
       "\n",
       "    .dataframe tbody tr th {\n",
       "        vertical-align: top;\n",
       "    }\n",
       "</style>\n",
       "<table border=\"1\" class=\"dataframe\">\n",
       "  <thead>\n",
       "    <tr style=\"text-align: right;\">\n",
       "      <th></th>\n",
       "      <th>uuid</th>\n",
       "      <th>model</th>\n",
       "      <th>manufacturer</th>\n",
       "      <th>brand</th>\n",
       "      <th>product</th>\n",
       "      <th>os_version</th>\n",
       "      <th>kernel_version</th>\n",
       "      <th>is_root</th>\n",
       "      <th>created_at</th>\n",
       "      <th>updated_at</th>\n",
       "    </tr>\n",
       "    <tr>\n",
       "      <th>id</th>\n",
       "      <th></th>\n",
       "      <th></th>\n",
       "      <th></th>\n",
       "      <th></th>\n",
       "      <th></th>\n",
       "      <th></th>\n",
       "      <th></th>\n",
       "      <th></th>\n",
       "      <th></th>\n",
       "      <th></th>\n",
       "    </tr>\n",
       "  </thead>\n",
       "  <tbody>\n",
       "    <tr>\n",
       "      <th>1</th>\n",
       "      <td>7539d2fd-90bf-4a9e-85ee-1ecb2fbb9788</td>\n",
       "      <td>vs500pp</td>\n",
       "      <td>lge</td>\n",
       "      <td>lge</td>\n",
       "      <td>m1v_pp_vzw</td>\n",
       "      <td>6.0.1</td>\n",
       "      <td>3.10.49-gf18313b-00011-g5e5ed63</td>\n",
       "      <td>0</td>\n",
       "      <td>2017-10-09 03:42:19</td>\n",
       "      <td>2017-10-09 03:42:19</td>\n",
       "    </tr>\n",
       "    <tr>\n",
       "      <th>2</th>\n",
       "      <td>59fc6c14-a28b-4d49-bace-07263c5be6a7</td>\n",
       "      <td>ao5510</td>\n",
       "      <td>yu</td>\n",
       "      <td>yu</td>\n",
       "      <td>yureka</td>\n",
       "      <td>5.1.1</td>\n",
       "      <td>3.10.49-cyanogenmod-gbca6118</td>\n",
       "      <td>1</td>\n",
       "      <td>2017-10-09 04:39:53</td>\n",
       "      <td>2017-10-09 04:39:53</td>\n",
       "    </tr>\n",
       "    <tr>\n",
       "      <th>3</th>\n",
       "      <td>19f620d2-3bd7-46f6-ac41-4710526147c3</td>\n",
       "      <td>asus_x014d</td>\n",
       "      <td>asus</td>\n",
       "      <td>asus</td>\n",
       "      <td>ww_phone</td>\n",
       "      <td>5.1.1</td>\n",
       "      <td>3.4.0-gdf95949-dirty</td>\n",
       "      <td>0</td>\n",
       "      <td>2017-10-09 04:48:35</td>\n",
       "      <td>2017-10-09 04:48:35</td>\n",
       "    </tr>\n",
       "    <tr>\n",
       "      <th>4</th>\n",
       "      <td>242126bc-0b29-4ac2-a96f-4f93f86ba800</td>\n",
       "      <td>nexus 5</td>\n",
       "      <td>lge</td>\n",
       "      <td>google</td>\n",
       "      <td>hammerhead</td>\n",
       "      <td>6.0.1</td>\n",
       "      <td>3.4.0-gcf10b7e</td>\n",
       "      <td>0</td>\n",
       "      <td>2017-10-09 06:50:04</td>\n",
       "      <td>2017-10-09 06:50:04</td>\n",
       "    </tr>\n",
       "    <tr>\n",
       "      <th>5</th>\n",
       "      <td>13192eb0-50e3-4f20-bc51-7914991f8b65</td>\n",
       "      <td>lg-d331</td>\n",
       "      <td>lge</td>\n",
       "      <td>lge</td>\n",
       "      <td>luv80ss_global_com</td>\n",
       "      <td>4.4.2</td>\n",
       "      <td>3.4.67</td>\n",
       "      <td>0</td>\n",
       "      <td>2017-10-09 09:01:16</td>\n",
       "      <td>2017-10-09 09:01:16</td>\n",
       "    </tr>\n",
       "  </tbody>\n",
       "</table>\n",
       "</div>"
      ],
      "text/plain": [
       "                                    uuid       model manufacturer   brand  \\\n",
       "id                                                                          \n",
       "1   7539d2fd-90bf-4a9e-85ee-1ecb2fbb9788     vs500pp          lge     lge   \n",
       "2   59fc6c14-a28b-4d49-bace-07263c5be6a7      ao5510           yu      yu   \n",
       "3   19f620d2-3bd7-46f6-ac41-4710526147c3  asus_x014d         asus    asus   \n",
       "4   242126bc-0b29-4ac2-a96f-4f93f86ba800     nexus 5          lge  google   \n",
       "5   13192eb0-50e3-4f20-bc51-7914991f8b65     lg-d331          lge     lge   \n",
       "\n",
       "               product os_version                   kernel_version  is_root  \\\n",
       "id                                                                            \n",
       "1           m1v_pp_vzw      6.0.1  3.10.49-gf18313b-00011-g5e5ed63        0   \n",
       "2               yureka      5.1.1     3.10.49-cyanogenmod-gbca6118        1   \n",
       "3             ww_phone      5.1.1             3.4.0-gdf95949-dirty        0   \n",
       "4           hammerhead      6.0.1                   3.4.0-gcf10b7e        0   \n",
       "5   luv80ss_global_com      4.4.2                           3.4.67        0   \n",
       "\n",
       "            created_at          updated_at  \n",
       "id                                          \n",
       "1  2017-10-09 03:42:19 2017-10-09 03:42:19  \n",
       "2  2017-10-09 04:39:53 2017-10-09 04:39:53  \n",
       "3  2017-10-09 04:48:35 2017-10-09 04:48:35  \n",
       "4  2017-10-09 06:50:04 2017-10-09 06:50:04  \n",
       "5  2017-10-09 09:01:16 2017-10-09 09:01:16  "
      ]
     },
     "execution_count": 2,
     "metadata": {},
     "output_type": "execute_result"
    }
   ],
   "source": [
    "import pandas as pd\n",
    "import time\n",
    "import numpy as np\n",
    "from IPython.display import clear_output\n",
    "import matplotlib.pyplot as plt\n",
    "%matplotlib inline\n",
    "plt.style.use('ggplot')\n",
    "\n",
    "devices_old = pd.read_csv('C:\\\\Users\\\\ruben\\\\Desktop\\\\Investigation\\\\updated_dataset_07_3_2018\\\\devices.csv', index_col='id', skipinitialspace=True, parse_dates=['created_at', 'updated_at'])\n",
    "devices_new = pd.read_csv('C:\\\\Users\\\\ruben\\\\Desktop\\\\Investigation\\\\updated_dataset_23_3_2018\\\\devices.csv', index_col='id', skipinitialspace=True, parse_dates=['created_at', 'updated_at'])\n",
    "samples = pd.read_csv('C:\\\\Users\\\\ruben\\\\Desktop\\\\Investigation\\\\updated_dataset_23_3_2018\\\\samples.csv', usecols=['device_id', 'timestamp', 'battery_state', 'battery_level'], parse_dates=['timestamp'])\n",
    "\n",
    "devices_old['model'] = devices_old['model'].str.lower()\n",
    "devices_old['manufacturer'] = devices_old['manufacturer'].str.lower()\n",
    "devices_old['brand'] = devices_old['brand'].str.lower()\n",
    "devices_old['product'] = devices_old['product'].str.lower()\n",
    "\n",
    "devices_new['model'] = devices_new['model'].str.lower()\n",
    "devices_new['manufacturer'] = devices_new['manufacturer'].str.lower()\n",
    "devices_new['brand'] = devices_new['brand'].str.lower()\n",
    "devices_new['product'] = devices_new['product'].str.lower()\n",
    "\n",
    "devices_new.head()"
   ]
  },
  {
   "cell_type": "code",
   "execution_count": 5,
   "metadata": {},
   "outputs": [
    {
     "data": {
      "image/png": "[encoded data removed]",
      "text/plain": [
       "<matplotlib.figure.Figure at 0x2263d2121d0>"
      ]
     },
     "metadata": {},
     "output_type": "display_data"
    },
    {
     "data": {
      "image/png": "[encoded data removed]",
      "text/plain": [
       "<matplotlib.figure.Figure at 0x226578134a8>"
      ]
     },
     "metadata": {},
     "output_type": "display_data"
    }
   ],
   "source": [
    "def getVersionCounter(all_versions_counts):\n",
    "    version_counts = dict()\n",
    "    \n",
    "    for index_val, series_val in all_versions_counts.iteritems():\n",
    "        if index_val[0] in version_counts:\n",
    "            version_counts[index_val[0]] += series_val\n",
    "        else:\n",
    "            version_counts[index_val[0]] = series_val\n",
    "    \n",
    "    return version_counts\n",
    "\n",
    "def computeVersionPercentageDevices(devices_table):\n",
    "    all_versions_percentage = devices_table['os_version'].value_counts(normalize=True) #get all version percentage\n",
    "    version_percentage = getVersionCounter(all_versions_percentage) #join all versions\n",
    "\n",
    "    keys, values = zip(*version_percentage.items()) #gets 2 lists one with keys another with values od dictionary\n",
    "    values = [x * 100 for x in values] #convert to percentage (int)\n",
    "    plt.bar(keys, values, align='center')\n",
    "    plt.title('Phones Android Version')\n",
    "    plt.xlabel('Version')\n",
    "    plt.ylabel('Percentage')\n",
    "    for a, b in zip(keys, values):\n",
    "        plt.text(a, b, str(round(b, 2)), ha='center')\n",
    "    plt.show()\n",
    "    \n",
    "computeVersionPercentageDevices(devices_old)\n",
    "computeVersionPercentageDevices(devices_new)"
   ]
  },
  {
   "cell_type": "code",
   "execution_count": 9,
   "metadata": {},
   "outputs": [
    {
     "name": "stdout",
     "output_type": "stream",
     "text": [
      "Number of devices in old daaset = 292\n",
      "Number of devices in new daaset = 295\n",
      "Deference = 3\n"
     ]
    }
   ],
   "source": [
    "def getCountDevicesVersion(devices_table, version):\n",
    "    dev_count = 0\n",
    "    \n",
    "    for index, row in devices_table.iterrows():\n",
    "        if int(row['os_version'][0]) == version:\n",
    "            dev_count += 1\n",
    "    \n",
    "    return dev_count\n",
    "\n",
    "old_count = getCountDevicesVersion(devices_old, 4)\n",
    "new_count = getCountDevicesVersion(devices_new, 4)\n",
    "print('Number of devices in old daaset =', old_count)\n",
    "print('Number of devices in new daaset =', new_count)\n",
    "print('Diference =', new_count - old_count)\n",
    "\n",
    "\n",
    "\n",
    "\n",
    "\n",
    "\n",
    "# def computeCountDevices(devices_table):\n",
    "#     devices_id = []\n",
    "#     for index, row in devices_new.iterrows():\n",
    "#         if int(row['os_version'][0]) == 4:\n",
    "#             devices_id.append(index)\n",
    "        \n",
    "# len(devices_id)\n",
    "\n",
    "# df = devices_new.loc[devices_id]\n",
    "# df.head()\n"
   ]
  },
  {
   "cell_type": "code",
   "execution_count": 14,
   "metadata": {},
   "outputs": [
    {
     "name": "stdout",
     "output_type": "stream",
     "text": [
      "Installations in 2017 = 260\n",
      "Installations in 2018 = 35\n"
     ]
    }
   ],
   "source": [
    "def getDevicesIdsListOfGivenVersion(devices_table, version):\n",
    "    dev_ids = []\n",
    "    \n",
    "    for index, row in devices_table.iterrows():\n",
    "        if int(row['os_version'][0]) == version:\n",
    "            dev_ids.append(index)\n",
    "    \n",
    "    return dev_ids\n",
    "\n",
    "def computeInstalationsPerYear(devices_table, version):\n",
    "    new_version_devices_table = devices_new.loc[getDevicesIdsListOfGivenVersion(devices_new, 4)]\n",
    "    \n",
    "    print('Installations in 2017 =', len(new_version_devices_table[new_version_devices_table['created_at'] < '2018-1-1']))\n",
    "    print('Installations in 2018 =', len(new_version_devices_table[new_version_devices_table['created_at'] >= '2018-1-1']))\n",
    "\n",
    "computeInstalationsPerYear(devices_new, 4)\n",
    "\n"
   ]
  },
  {
   "cell_type": "code",
   "execution_count": 19,
   "metadata": {},
   "outputs": [
    {
     "name": "stdout",
     "output_type": "stream",
     "text": [
      "Number of devices of 2017 with no samples = 58\n",
      "Number of devices of 2018 with no samples = 10\n"
     ]
    }
   ],
   "source": [
    "def getDevicesIdsListOfGivenVersion(devices_table, version):\n",
    "    dev_ids = []\n",
    "    \n",
    "    for index, row in devices_table.iterrows():\n",
    "        if int(row['os_version'][0]) == version:\n",
    "            dev_ids.append(index)\n",
    "    \n",
    "    return dev_ids\n",
    "\n",
    "#table with only devices of version 4\n",
    "new_version_devices_table = devices_new.loc[getDevicesIdsListOfGivenVersion(devices_new, 4)]\n",
    "\n",
    "last_year_devices = list(new_version_devices_table[new_version_devices_table['created_at'] < '2018-1-1'].index)\n",
    "this_year_devices = list(new_version_devices_table[new_version_devices_table['created_at'] >= '2018-1-1'].index)\n",
    "\n",
    "last_year_no_samples = 0\n",
    "for i in last_year_devices:\n",
    "    if len(samples[samples['device_id'] == i]) == 0:\n",
    "        last_year_no_samples += 1\n",
    "        \n",
    "this_year_no_samples = 0    \n",
    "for i in this_year_devices:\n",
    "    if len(samples[samples['device_id'] == i]) == 0:\n",
    "        this_year_no_samples += 1\n",
    "        \n",
    "print('Number of devices of 2017 with no samples =', last_year_no_samples)\n",
    "print('Number of devices of 2018 with no samples =', this_year_no_samples)\n"
   ]
  },
  {
   "cell_type": "code",
   "execution_count": 23,
   "metadata": {},
   "outputs": [
    {
     "data": {
      "text/plain": [
       "2017"
      ]
     },
     "execution_count": 23,
     "metadata": {},
     "output_type": "execute_result"
    }
   ],
   "source": [
    "samples['timestamp'][0].year\n",
    "    "
   ]
  },
  {
   "cell_type": "code",
   "execution_count": 27,
   "metadata": {},
   "outputs": [
    {
     "name": "stdout",
     "output_type": "stream",
     "text": [
      "Devices of 2017 with no samples in 2018 = 180\n"
     ]
    }
   ],
   "source": [
    "new_version_devices_table = devices_new.loc[getDevicesIdsListOfGivenVersion(devices_new, 4)]\n",
    "\n",
    "last_year_devices = list(new_version_devices_table[new_version_devices_table['created_at'] < '2018-1-1'].index)\n",
    "\n",
    "\n",
    "number_devices_with_no_samples_this_year = 0\n",
    "\n",
    "for i in last_year_devices:\n",
    "    dev_samples = samples[samples['device_id'] == i].sort_values(by='timestamp')\n",
    "    \n",
    "    if len(dev_samples != 0):\n",
    "        if dev_samples.iloc[len(dev_samples) - 1].timestamp.year < 2018:\n",
    "            number_devices_with_no_samples_this_year += 1\n",
    "\n",
    "\n",
    "print('Devices of 2017 with no samples in 2018 =', number_devices_with_no_samples_this_year)\n",
    "\n",
    "    \n",
    "\n"
   ]
  },
  {
   "cell_type": "code",
   "execution_count": null,
   "metadata": {
    "collapsed": true
   },
   "outputs": [],
   "source": []
  }
 ],
 "metadata": {
  "kernelspec": {
   "display_name": "Python 3",
   "language": "python",
   "name": "python3"
  },
  "language_info": {
   "codemirror_mode": {
    "name": "ipython",
    "version": 3
   },
   "file_extension": ".py",
   "mimetype": "text/x-python",
   "name": "python",
   "nbconvert_exporter": "python",
   "pygments_lexer": "ipython3",
   "version": "3.6.3"
  }
 },
 "nbformat": 4,
 "nbformat_minor": 2
}
